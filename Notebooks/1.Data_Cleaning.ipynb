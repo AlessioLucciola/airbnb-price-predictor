{
  "cells": [
    {
      "attachments": {},
      "cell_type": "markdown",
      "metadata": {
        "id": "Y3pmXoLSBi4M"
      },
      "source": [
        "# AirBnb Price Prediction - Data Cleaning\n",
        "### Part 1/3"
      ]
    },
    {
      "attachments": {},
      "cell_type": "markdown",
      "metadata": {
        "id": "2uL3XWRnBrSz"
      },
      "source": [
        "# 1. Introduction\n",
        "Airbnb is an online platform and marketplace that connects people who want to rent out their properties, such as apartments, houses, or even rooms, with travelers seeking accommodations. It allows individuals to list their properties for short-term rentals and provides a platform for travelers to search and book these accommodations.\n",
        "\n",
        "\n",
        "Airbnb facilitates the booking process, allowing hosts to create listings with photos, descriptions, and pricing details, while guests can search for available accommodations based on their desired location, travel dates, and other specific criteria. The platform provides a secure payment system, review and rating features, and customer support to ensure a reliable and trustworthy experience for both hosts and guests.\n",
        "\n",
        "\n",
        "In order to add a new listing, a host has to visit the Airbnb website, register an account and finally add the needed information such as the name and a description of the accommodation, its characteristics (beds, bedrooms, bathrooms, etc..), its positions, the amenities and finally a price.\n",
        "The host's property price before fees will depend on various things, such as the property location and quality, the amenities it has, and how in demand it is. For this reason, setting the right price is an important operation that can determine the success of Airbnb.\n",
        "\n",
        "\n",
        "In this project, the goal is to create a price predictor using some Machine Learning techniques. The model will be trained on a dataset containing some characteristics of Airbnb. Finally, the model will be evaluated and tested on a real scenario.\n"
      ]
    },
    {
      "attachments": {},
      "cell_type": "markdown",
      "metadata": {
        "id": "V5UvfcWiPaqc"
      },
      "source": [
        "# 2. Dependencies and Tools"
      ]
    },
    {
      "attachments": {},
      "cell_type": "markdown",
      "metadata": {
        "id": "wixPmBgxoOkO"
      },
      "source": [
        "Let's start by importing some dependencies. Since the dataset is quite large, I'm going to use Spark, an open-source distributed computing system designed for big data processing and analytics. "
      ]
    },
    {
      "attachments": {},
      "cell_type": "markdown",
      "metadata": {
        "id": "Qi44pqFeCGsT"
      },
      "source": [
        "### Install Spark"
      ]
    },
    {
      "cell_type": "code",
      "execution_count": 1,
      "metadata": {
        "colab": {
          "base_uri": "https://localhost:8080/"
        },
        "id": "XYoqFgsECLb6",
        "outputId": "3213fc32-d1fa-4807-c9a2-e34519327c69"
      },
      "outputs": [
        {
          "name": "stdout",
          "output_type": "stream",
          "text": [
            "Looking in indexes: https://pypi.org/simple, https://us-python.pkg.dev/colab-wheels/public/simple/\n",
            "Collecting pyspark\n",
            "  Downloading pyspark-3.4.0.tar.gz (310.8 MB)\n",
            "\u001b[2K     \u001b[90m━━━━━━━━━━━━━━━━━━━━━━━━━━━━━━━━━━━━━━━\u001b[0m \u001b[32m310.8/310.8 MB\u001b[0m \u001b[31m3.6 MB/s\u001b[0m eta \u001b[36m0:00:00\u001b[0m\n",
            "\u001b[?25h  Preparing metadata (setup.py) ... \u001b[?25l\u001b[?25hdone\n",
            "Requirement already satisfied: py4j==0.10.9.7 in /usr/local/lib/python3.10/dist-packages (from pyspark) (0.10.9.7)\n",
            "Building wheels for collected packages: pyspark\n",
            "  Building wheel for pyspark (setup.py) ... \u001b[?25l\u001b[?25hdone\n",
            "  Created wheel for pyspark: filename=pyspark-3.4.0-py2.py3-none-any.whl size=311317130 sha256=6dc1fbc87d3fb59631030ad8edfd453f79819a3e6223d7787d4d1526f6d262cc\n",
            "  Stored in directory: /root/.cache/pip/wheels/7b/1b/4b/3363a1d04368e7ff0d408e57ff57966fcdf00583774e761327\n",
            "Successfully built pyspark\n",
            "Installing collected packages: pyspark\n",
            "Successfully installed pyspark-3.4.0\n"
          ]
        }
      ],
      "source": [
        "# Install Spark and related dependencies\n",
        "!pip install pyspark \n",
        "\n",
        "import pyspark\n",
        "from pyspark.sql import *\n",
        "from pyspark.sql.types import *\n",
        "from pyspark.sql.functions import *\n",
        "from pyspark import SparkContext, SparkConf\n",
        "import os\n",
        "\n",
        "# Create Spark session\n",
        "conf = SparkConf().\\\n",
        "                set('spark.ui.port', '4050').\\\n",
        "                set('spark.executor.memory', '4G').\\\n",
        "                set('spark.driver.memory', '45G').\\\n",
        "                set('spark.driver.maxResultSize', '10G').\\\n",
        "                set('spark.executor.extraJavaOptions', '-XX:+UseG1GC').\\\n",
        "                setAppName('AirbnbPP1').\\\n",
        "                setMaster('local[*]')\n",
        "\n",
        "# Create the context\n",
        "sc = pyspark.SparkContext.getOrCreate(conf=conf)\n",
        "spark = SparkSession.builder.getOrCreate()"
      ]
    },
    {
      "cell_type": "code",
      "execution_count": 2,
      "metadata": {
        "colab": {
          "base_uri": "https://localhost:8080/"
        },
        "id": "-DSgMCj3BxlW",
        "outputId": "f5a3a22a-6c3d-4cb4-dc21-2a8c75b9e6b2"
      },
      "outputs": [
        {
          "name": "stdout",
          "output_type": "stream",
          "text": [
            "Looking in indexes: https://pypi.org/simple, https://us-python.pkg.dev/colab-wheels/public/simple/\n",
            "Collecting pyngrok\n",
            "  Downloading pyngrok-6.0.0.tar.gz (681 kB)\n",
            "\u001b[2K     \u001b[90m━━━━━━━━━━━━━━━━━━━━━━━━━━━━━━━━━━━━━━\u001b[0m \u001b[32m681.2/681.2 kB\u001b[0m \u001b[31m10.4 MB/s\u001b[0m eta \u001b[36m0:00:00\u001b[0m\n",
            "\u001b[?25h  Preparing metadata (setup.py) ... \u001b[?25l\u001b[?25hdone\n",
            "Requirement already satisfied: PyYAML in /usr/local/lib/python3.10/dist-packages (from pyngrok) (6.0)\n",
            "Building wheels for collected packages: pyngrok\n",
            "  Building wheel for pyngrok (setup.py) ... \u001b[?25l\u001b[?25hdone\n",
            "  Created wheel for pyngrok: filename=pyngrok-6.0.0-py3-none-any.whl size=19867 sha256=3d6eb73b236dd2674456eed0d4690ea4e30076d7bbed75f144c78cd2a16fd593\n",
            "  Stored in directory: /root/.cache/pip/wheels/5c/42/78/0c3d438d7f5730451a25f7ac6cbf4391759d22a67576ed7c2c\n",
            "Successfully built pyngrok\n",
            "Installing collected packages: pyngrok\n",
            "Successfully installed pyngrok-6.0.0\n",
            "Authtoken saved to configuration file: /root/.ngrok2/ngrok.yml\n"
          ]
        },
        {
          "name": "stderr",
          "output_type": "stream",
          "text": [
            "WARNING:pyngrok.process.ngrok:t=2023-06-10T14:24:23+0000 lvl=warn msg=\"ngrok config file found at legacy location, move to XDG location\" xdg_path=/root/.config/ngrok/ngrok.yml legacy_path=/root/.ngrok2/ngrok.yml\n"
          ]
        }
      ],
      "source": [
        "# Install and configure ngrok\n",
        "!pip install pyngrok\n",
        "!ngrok authtoken 2PHrKeMkk5mvdVY3dhwpeV11UP5_7tfznbJvx6L1DSvj8YD5M\n",
        "\n",
        "# Import ngrok\n",
        "from pyngrok import ngrok\n",
        "\n",
        "# Open a ngrok tunnel on the port 4050 where Spark is running\n",
        "port = '4050'\n",
        "public_url = ngrok.connect(port).public_url\n",
        "\n",
        "# Other configurations\n",
        "os.environ['PYARROW_IGNORE_TIMEZONE'] = '1'"
      ]
    },
    {
      "cell_type": "code",
      "execution_count": 3,
      "metadata": {
        "colab": {
          "base_uri": "https://localhost:8080/"
        },
        "id": "NKhyHOHfEBkc",
        "outputId": "59b14f01-46b6-48a2-d878-57cc09dffe6f"
      },
      "outputs": [
        {
          "name": "stdout",
          "output_type": "stream",
          "text": [
            "To access the Spark Web UI console, please click on the following link to the ngrok tunnel \"https://6f33-107-167-181-128.ngrok-free.app\" -> \"http://127.0.0.1:4050\"\n"
          ]
        }
      ],
      "source": [
        "print('To access the Spark Web UI console, please click on the following link to the ngrok tunnel \\\"{}\\\" -> \\\"http://127.0.0.1:{}\\\"'.format(public_url, port))"
      ]
    },
    {
      "attachments": {},
      "cell_type": "markdown",
      "metadata": {
        "id": "wgy4U4VFPjA6"
      },
      "source": [
        "### Install Libraries"
      ]
    },
    {
      "cell_type": "code",
      "execution_count": 4,
      "metadata": {
        "id": "CEncgQglDFw9"
      },
      "outputs": [],
      "source": [
        "#Install some other useful dependencies\n",
        "import numpy as np\n",
        "from numpy import cos, sin, arcsin, sqrt\n",
        "from math import radians\n",
        "import json\n",
        "\n",
        "from pyspark.ml.feature import VectorAssembler, OneHotEncoder, StringIndexer, Imputer\n",
        "from pyspark.ml.classification import LogisticRegression\n",
        "from pyspark.ml.evaluation import MulticlassClassificationEvaluator\n",
        "from pyspark.ml import Pipeline"
      ]
    },
    {
      "attachments": {},
      "cell_type": "markdown",
      "metadata": {
        "id": "p07POLg7El_l"
      },
      "source": [
        "### Link to Google Drive"
      ]
    },
    {
      "cell_type": "code",
      "execution_count": 5,
      "metadata": {
        "id": "mlqQXVK2ErXF"
      },
      "outputs": [],
      "source": [
        "# Define GDrive paths\n",
        "GDRIVE_DIR = '/content/drive'\n",
        "GDRIVE_HOME_DIR = GDRIVE_DIR + '/MyDrive'\n",
        "GDRIVE_DATA_DIR = GDRIVE_HOME_DIR + '/Università/BD-Datasets'"
      ]
    },
    {
      "cell_type": "code",
      "execution_count": 6,
      "metadata": {
        "colab": {
          "base_uri": "https://localhost:8080/"
        },
        "id": "kmZksjZjFkW8",
        "outputId": "8c022566-85a9-4752-d77a-611a072c5761"
      },
      "outputs": [
        {
          "name": "stdout",
          "output_type": "stream",
          "text": [
            "Mounted at /content/drive\n"
          ]
        }
      ],
      "source": [
        "# Point Colaboratory our Google Drive\n",
        "from google.colab import drive\n",
        "\n",
        "drive.mount(GDRIVE_DIR, force_remount=True)"
      ]
    },
    {
      "attachments": {},
      "cell_type": "markdown",
      "metadata": {
        "id": "dDjrWnMZPuub"
      },
      "source": [
        "# 3. Dataset\n",
        "This section aims to import the dataset to Google Colab and read it into a Spark Dataframe."
      ]
    },
    {
      "cell_type": "code",
      "execution_count": 7,
      "metadata": {
        "id": "oE69NChdQ5ez"
      },
      "outputs": [],
      "source": [
        "# Define the dataset name in GDrive\n",
        "gd_df_name = 'airbnb_aggregated_df.csv'"
      ]
    },
    {
      "cell_type": "code",
      "execution_count": 8,
      "metadata": {
        "id": "49yG_xbOQfVa"
      },
      "outputs": [],
      "source": [
        "# Read database into a Spark Dataframe\n",
        "airbnb_df = spark.read.load(GDRIVE_DATA_DIR + '/' + gd_df_name, \n",
        "                           format='csv', \n",
        "                           sep=',', \n",
        "                           inferSchema='true', \n",
        "                           header='true')"
      ]
    },
    {
      "cell_type": "code",
      "execution_count": 9,
      "metadata": {
        "colab": {
          "base_uri": "https://localhost:8080/"
        },
        "id": "XxZWJQ-GSB4D",
        "outputId": "aac8928e-b975-4157-fb3f-eb992c1a73b0"
      },
      "outputs": [
        {
          "name": "stdout",
          "output_type": "stream",
          "text": [
            "<class 'pyspark.sql.dataframe.DataFrame'>\n"
          ]
        }
      ],
      "source": [
        "print(type(airbnb_df))"
      ]
    },
    {
      "attachments": {},
      "cell_type": "markdown",
      "metadata": {
        "id": "V0J-prkXSMkV"
      },
      "source": [
        "Let's see some information on the dataset to understand if it was uploaded correctly:"
      ]
    },
    {
      "cell_type": "code",
      "execution_count": 10,
      "metadata": {
        "colab": {
          "base_uri": "https://localhost:8080/"
        },
        "id": "8EepOG_dTXk9",
        "outputId": "e04f8dc3-e74f-4c55-a147-26edb445665b"
      },
      "outputs": [
        {
          "name": "stdout",
          "output_type": "stream",
          "text": [
            "+-----------+-------------------------------------+---------+------------+---------------+-------------------------------------------------------------------------+---------+-------------------------------------------+----------+----------------+------------------+------------------+--------------------+-----------------+----------------------------------------------------------------------------------------------------------+-------------------------------------------------------------------------------------------------------------+------------------+-------------------+-------------------------+------------------+--------------------+----------------------+---------+--------------+--------+---------+---------------------------+---------------+------------+---------+--------------+--------+----+----------------------------------------------------------------------------------------------------------------------------------------------------------------------------------------------------------------------------------------------------------------------------------------------------------------------------------------------------------------------------------------------------------------------------------------------------------------------------------------------------------------------------------------------------------------------------------------------------------------------------------------------------------------------------------------------------------------------------------------------------------------------------------------------------------------------------------------------------------------------------------------------------------------------------------------------------------------------------------------------------------------------------------+-----+--------------+--------------+----------------------+----------------------+----------------------+----------------------+----------------------+----------------------+----------------+----------------+---------------+---------------+---------------+----------------+---------------------+-----------------+---------------------+----------------------+------------+-----------+--------------------+----------------------+-------------------------+---------------------+---------------------------+----------------------+-------------------+----------------+------------------------------+-------------------------------------------+--------------------------------------------+-------------------------------------------+-----------------+\n",
            "|id         |listing_url                          |scrape_id|last_scraped|source         |picture_url                                                              |host_id  |host_url                                   |host_since|host_location   |host_response_time|host_response_rate|host_acceptance_rate|host_is_superhost|host_thumbnail_url                                                                                        |host_picture_url                                                                                             |host_neighbourhood|host_listings_count|host_total_listings_count|host_verifications|host_has_profile_pic|host_identity_verified|city     |neighbourhood |latitude|longitude|property_type              |room_type      |accommodates|bathrooms|bathrooms_text|bedrooms|beds|amenities                                                                                                                                                                                                                                                                                                                                                                                                                                                                                                                                                                                                                                                                                                                                                                                                                                                                                                                                                                                                                         |price|minimum_nights|maximum_nights|minimum_minimum_nights|maximum_minimum_nights|minimum_maximum_nights|maximum_maximum_nights|minimum_nights_avg_ntm|maximum_nights_avg_ntm|calendar_updated|has_availability|availability_30|availability_60|availability_90|availability_365|calendar_last_scraped|number_of_reviews|number_of_reviews_ltm|number_of_reviews_l30d|first_review|last_review|review_scores_rating|review_scores_accuracy|review_scores_cleanliness|review_scores_checkin|review_scores_communication|review_scores_location|review_scores_value|instant_bookable|calculated_host_listings_count|calculated_host_listings_count_entire_homes|calculated_host_listings_count_private_rooms|calculated_host_listings_count_shared_rooms|reviews_per_month|\n",
            "+-----------+-------------------------------------+---------+------------+---------------+-------------------------------------------------------------------------+---------+-------------------------------------------+----------+----------------+------------------+------------------+--------------------+-----------------+----------------------------------------------------------------------------------------------------------+-------------------------------------------------------------------------------------------------------------+------------------+-------------------+-------------------------+------------------+--------------------+----------------------+---------+--------------+--------+---------+---------------------------+---------------+------------+---------+--------------+--------+----+----------------------------------------------------------------------------------------------------------------------------------------------------------------------------------------------------------------------------------------------------------------------------------------------------------------------------------------------------------------------------------------------------------------------------------------------------------------------------------------------------------------------------------------------------------------------------------------------------------------------------------------------------------------------------------------------------------------------------------------------------------------------------------------------------------------------------------------------------------------------------------------------------------------------------------------------------------------------------------------------------------------------------------+-----+--------------+--------------+----------------------+----------------------+----------------------+----------------------+----------------------+----------------------+----------------+----------------+---------------+---------------+---------------+----------------+---------------------+-----------------+---------------------+----------------------+------------+-----------+--------------------+----------------------+-------------------------+---------------------+---------------------------+----------------------+-------------------+----------------+------------------------------+-------------------------------------------+--------------------------------------------+-------------------------------------------+-----------------+\n",
            "|1.3977576E7|https://www.airbnb.com/rooms/13977576|2.02E13  |14-03-23    |previous scrape|https://a0.muscache.com/pictures/7a6e9767-bd4e-48f2-b5b8-55089e0392a4.jpg|64903899 |https://www.airbnb.com/users/show/64903899 |29-03-16  |Paris; France   |N/A               |N/A               |N/A                 |f                |https://a0.muscache.com/im/pictures/user/529cb931-774b-4efa-a37a-6d7752b37624.jpg?aki_policy=profile_small|https://a0.muscache.com/im/pictures/user/529cb931-774b-4efa-a37a-6d7752b37624.jpg?aki_policy=profile_x_medium|Sants-Montjuïc    |1                  |1                        |['email'; 'phone']|t                   |t                     |Barcelona|Sants-Montjuïc|41.37254|2.14485  |Private room in rental unit|Private room   |1           |null     |1 bath        |1       |1   |\"[\"\"Essentials\"\"; \"\"Iron\"\"; \"\"Hangers\"\"; \"\"Wifi\"\"; \"\"Elevator\"\"; \"\"Kitchen\"\"; \"\"Washer\"\"; \"\"Dryer\"\"]\"                                                                                                                                                                                                                                                                                                                                                                                                                                                                                                                                                                                                                                                                                                                                                                                                                                                                                                                             |12   |1             |1125          |1                     |1                     |1125                  |1125                  |1.0                   |1125.0                |null            |t               |0              |0              |0              |0               |14-03-23             |1                |0                    |0                     |13-07-16    |13-07-16   |0.0                 |null                  |null                     |null                 |null                       |null                  |null               |f               |1                             |0                                          |1                                           |0                                          |0.01             |\n",
            "|4.2105584E7|https://www.airbnb.com/rooms/42105584|2.02E13  |14-03-23    |previous scrape|https://a0.muscache.com/pictures/7342e586-6ea5-49e5-bbda-30e49f0c99d2.jpg|333969184|https://www.airbnb.com/users/show/333969184|06-02-20  |Barcelona; Spain|N/A               |N/A               |N/A                 |f                |https://a0.muscache.com/im/pictures/user/733c6ed4-ffe1-4db5-a219-33077aa41e07.jpg?aki_policy=profile_small|https://a0.muscache.com/im/pictures/user/733c6ed4-ffe1-4db5-a219-33077aa41e07.jpg?aki_policy=profile_x_medium|null              |1                  |2                        |['email'; 'phone']|t                   |t                     |Barcelona|Nou Barris    |41.43948|2.1781   |Private room in rental unit|Private room   |1           |null     |1 shared bath |null    |1   |\"[\"\"Hot water\"\"; \"\"Elevator\"\"; \"\"Kitchen\"\"; \"\"TV\"\"; \"\"Smoking allowed\"\"]\"                                                                                                                                                                                                                                                                                                                                                                                                                                                                                                                                                                                                                                                                                                                                                                                                                                                                                                                                                         |25   |2             |1125          |2                     |2                     |1125                  |1125                  |2.0                   |1125.0                |null            |t               |0              |0              |0              |0               |14-03-23             |0                |0                    |0                     |null        |null       |null                |null                  |null                     |null                 |null                       |null                  |null               |f               |1                             |0                                          |1                                           |0                                          |null             |\n",
            "|3.3727898E7|https://www.airbnb.com/rooms/33727898|2.02E13  |14-03-23    |city scrape    |https://a0.muscache.com/pictures/44066458-5997-446e-acd2-a8996b131132.jpg|251710733|https://www.airbnb.com/users/show/251710733|28-03-19  |null            |within an hour    |100%              |92%                 |t                |https://a0.muscache.com/im/pictures/user/57c4bc59-a3a0-429e-8438-904b57489588.jpg?aki_policy=profile_small|https://a0.muscache.com/im/pictures/user/57c4bc59-a3a0-429e-8438-904b57489588.jpg?aki_policy=profile_x_medium|Sant Antoni       |4                  |4                        |['email'; 'phone']|t                   |t                     |Barcelona|Eixample      |41.37585|2.15412  |Entire rental unit         |Entire home/apt|5           |null     |1.5 baths     |3       |5   |\"[\"\"Laundromat nearby\"\"; \"\"Oven\"\"; \"\"Window AC unit\"\"; \"\"Toaster\"\"; \"\"Wine glasses\"\"; \"\"Drying rack for clothing\"\"; \"\"Smoke alarm\"\"; \"\"Cleaning products\"\"; \"\"Freezer\"\"; \"\"Fire extinguisher\"\"; \"\"Children\\u2019s dinnerware\"\"; \"\"Coffee maker: Nespresso\"\"; \"\"Microwave\"\"; \"\"Hot water\"\"; \"\"Radiant heating\"\"; \"\"HDTV\"\"; \"\"Carbon monoxide alarm\"\"; \"\"Shampoo\"\"; \"\"Conditioner\"\"; \"\"High chair\"\"; \"\"Iron\"\"; \"\"Hair dryer\"\"; \"\"Wifi\"\"; \"\"Cooking basics\"\"; \"\"Kitchen\"\"; \"\"Free washer \\u2013 In unit\"\"; \"\"Shower gel\"\"; \"\"Outlet covers\"\"; \"\"Books and reading material\"\"; \"\"Baking sheet\"\"; \"\"Dining table\"\"; \"\"Extra pillows and blankets\"\"; \"\"Pack \\u2019n play/Travel crib\"\"; \"\"Single level home\"\"; \"\"Host greets you\"\"; \"\"Essentials\"\"; \"\"Hot water kettle\"\"; \"\"Hangers\"\"; \"\"Elevator\"\"; \"\"Paid parking off premises\"\"; \"\"Dishes and silverware\"\"; \"\"Coffee\"\"; \"\"Bed linens\"\"; \"\"Rice maker\"\"; \"\"Clothing storage: closet\"\"; \"\"Dishwasher\"\"; \"\"Refrigerator\"\"; \"\"Luggage dropoff allowed\"\"; \"\"Blender\"\"; \"\"First aid kit\"\"]\"|300  |4             |30            |4                     |4                     |1125                  |1125                  |4.0                   |1125.0                |null            |t               |22             |48             |74             |164             |14-03-23             |30               |18                   |1                     |19-04-19    |21-02-23   |5.0                 |4.97                  |4.97                     |5.0                  |5.0                        |4.83                  |4.73               |f               |4                             |4                                          |0                                           |0                                          |0.63             |\n",
            "|4.4995311E7|https://www.airbnb.com/rooms/44995311|2.02E13  |14-03-23    |city scrape    |https://a0.muscache.com/pictures/af651bc2-8dff-4815-8294-da4390e68713.jpg|363074093|https://www.airbnb.com/users/show/363074093|18-08-20  |Barcelona; Spain|within an hour    |92%               |100%                |f                |https://a0.muscache.com/im/pictures/user/f55f6d97-2a80-4a1a-91be-487f5422bdd3.jpg?aki_policy=profile_small|https://a0.muscache.com/im/pictures/user/f55f6d97-2a80-4a1a-91be-487f5422bdd3.jpg?aki_policy=profile_x_medium|null              |7                  |8                        |['email'; 'phone']|t                   |t                     |Barcelona|Eixample      |41.3889 |2.17272  |Private room in hostel     |Private room   |1           |null     |1 private bath|1       |1   |\"[\"\"Smoke alarm\"\"; \"\"Fire extinguisher\"\"; \"\"Hot water\"\"; \"\"Shampoo\"\"; \"\"Air conditioning\"\"; \"\"Iron\"\"; \"\"Hair dryer\"\"; \"\"Wifi\"\"; \"\"Shower gel\"\"; \"\"Extra pillows and blankets\"\"; \"\"Essentials\"\"; \"\"Hangers\"\"; \"\"Paid parking off premises\"\"; \"\"Bed linens\"\"; \"\"Lock on bedroom door\"\"; \"\"Private entrance\"\"; \"\"Breakfast\"\"; \"\"Private living room\"\"; \"\"Luggage dropoff allowed\"\"; \"\"Heating\"\"; \"\"Long term stays allowed\"\"; \"\"TV\"\"; \"\"First aid kit\"\"]\"                                                                                                                                                                                                                                                                                                                                                                                                                                                                                                                                                                            |83   |1             |1125          |1                     |3                     |15                    |15                    |1.6                   |15.0                  |null            |t               |3              |21             |30             |233             |14-03-23             |11               |9                    |0                     |25-11-21    |23-11-22   |4.82                |4.91                  |4.73                     |4.91                 |4.64                       |4.91                  |4.73               |t               |7                             |1                                          |6                                           |0                                          |0.69             |\n",
            "|1.5763812E7|https://www.airbnb.com/rooms/15763812|2.02E13  |14-03-23    |city scrape    |https://a0.muscache.com/pictures/1bccbbbc-4b78-4de6-af8d-1d96494c183d.jpg|101927904|https://www.airbnb.com/users/show/101927904|31-10-16  |Barcelona; Spain|within an hour    |100%              |100%                |f                |https://a0.muscache.com/im/pictures/user/1884abad-9226-4293-852f-fb0337eef549.jpg?aki_policy=profile_small|https://a0.muscache.com/im/pictures/user/1884abad-9226-4293-852f-fb0337eef549.jpg?aki_policy=profile_x_medium|El Poble-sec      |1                  |2                        |['email'; 'phone']|t                   |t                     |Barcelona|Sants-Montjuïc|41.37271|2.15723  |Private room in rental unit|Private room   |2           |null     |1 shared bath |1       |null|\"[\"\"Shampoo\"\"; \"\"Essentials\"\"; \"\"Iron\"\"; \"\"Hair dryer\"\"; \"\"Hangers\"\"; \"\"Wifi\"\"; \"\"Heating\"\"; \"\"Elevator\"\"; \"\"Washer\"\"]\"                                                                                                                                                                                                                                                                                                                                                                                                                                                                                                                                                                                                                                                                                                                                                                                                                                                                                                           |38   |2             |1125          |2                     |2                     |1125                  |1125                  |2.0                   |1125.0                |null            |t               |5              |7              |10             |21              |14-03-23             |70               |5                    |5                     |03-01-17    |03-03-23   |4.75                |4.9                   |4.94                     |4.96                 |4.67                       |4.88                  |4.6                |t               |1                             |0                                          |1                                           |0                                          |0.93             |\n",
            "+-----------+-------------------------------------+---------+------------+---------------+-------------------------------------------------------------------------+---------+-------------------------------------------+----------+----------------+------------------+------------------+--------------------+-----------------+----------------------------------------------------------------------------------------------------------+-------------------------------------------------------------------------------------------------------------+------------------+-------------------+-------------------------+------------------+--------------------+----------------------+---------+--------------+--------+---------+---------------------------+---------------+------------+---------+--------------+--------+----+----------------------------------------------------------------------------------------------------------------------------------------------------------------------------------------------------------------------------------------------------------------------------------------------------------------------------------------------------------------------------------------------------------------------------------------------------------------------------------------------------------------------------------------------------------------------------------------------------------------------------------------------------------------------------------------------------------------------------------------------------------------------------------------------------------------------------------------------------------------------------------------------------------------------------------------------------------------------------------------------------------------------------------+-----+--------------+--------------+----------------------+----------------------+----------------------+----------------------+----------------------+----------------------+----------------+----------------+---------------+---------------+---------------+----------------+---------------------+-----------------+---------------------+----------------------+------------+-----------+--------------------+----------------------+-------------------------+---------------------+---------------------------+----------------------+-------------------+----------------+------------------------------+-------------------------------------------+--------------------------------------------+-------------------------------------------+-----------------+\n",
            "only showing top 5 rows\n",
            "\n"
          ]
        }
      ],
      "source": [
        "# Show if dataset was uploaded correctly\n",
        "airbnb_df.show(n=5, truncate=False)"
      ]
    },
    {
      "attachments": {},
      "cell_type": "markdown",
      "metadata": {
        "id": "mqaByXhaT77z"
      },
      "source": [
        "# 4. Data Processing\n",
        "In this section, we will study the dataframe in order to have a better understanding of the features. Then we'll try to change them (if necessary) so that they can be used to build a machine learning model.\n"
      ]
    },
    {
      "attachments": {},
      "cell_type": "markdown",
      "metadata": {
        "id": "TQRcTYABVrM7"
      },
      "source": [
        "### Introduction"
      ]
    },
    {
      "attachments": {},
      "cell_type": "markdown",
      "metadata": {
        "id": "7uQbyo1SUFMq"
      },
      "source": [
        "First of all, let's print some information on the dataset:"
      ]
    },
    {
      "cell_type": "code",
      "execution_count": 11,
      "metadata": {
        "colab": {
          "base_uri": "https://localhost:8080/"
        },
        "id": "TFGL7BbCUCu7",
        "outputId": "28133867-c4b5-4141-9763-299ffd2aaf76"
      },
      "outputs": [
        {
          "name": "stdout",
          "output_type": "stream",
          "text": [
            "The database has 306136 instances and 68 features\n"
          ]
        }
      ],
      "source": [
        "# Print the number of instances and features\n",
        "print('The database has {:d} instances and {:d} features'.format(airbnb_df.count(), len(airbnb_df.columns)))"
      ]
    },
    {
      "cell_type": "code",
      "execution_count": 12,
      "metadata": {
        "colab": {
          "base_uri": "https://localhost:8080/"
        },
        "id": "2g7WzMWjVDjr",
        "outputId": "0003e9a4-1ada-4254-c981-9f83e837d2af"
      },
      "outputs": [
        {
          "name": "stdout",
          "output_type": "stream",
          "text": [
            "The features are:\n",
            "root\n",
            " |-- id: double (nullable = true)\n",
            " |-- listing_url: string (nullable = true)\n",
            " |-- scrape_id: double (nullable = true)\n",
            " |-- last_scraped: string (nullable = true)\n",
            " |-- source: string (nullable = true)\n",
            " |-- picture_url: string (nullable = true)\n",
            " |-- host_id: integer (nullable = true)\n",
            " |-- host_url: string (nullable = true)\n",
            " |-- host_since: string (nullable = true)\n",
            " |-- host_location: string (nullable = true)\n",
            " |-- host_response_time: string (nullable = true)\n",
            " |-- host_response_rate: string (nullable = true)\n",
            " |-- host_acceptance_rate: string (nullable = true)\n",
            " |-- host_is_superhost: string (nullable = true)\n",
            " |-- host_thumbnail_url: string (nullable = true)\n",
            " |-- host_picture_url: string (nullable = true)\n",
            " |-- host_neighbourhood: string (nullable = true)\n",
            " |-- host_listings_count: integer (nullable = true)\n",
            " |-- host_total_listings_count: integer (nullable = true)\n",
            " |-- host_verifications: string (nullable = true)\n",
            " |-- host_has_profile_pic: string (nullable = true)\n",
            " |-- host_identity_verified: string (nullable = true)\n",
            " |-- city: string (nullable = true)\n",
            " |-- neighbourhood: string (nullable = true)\n",
            " |-- latitude: double (nullable = true)\n",
            " |-- longitude: double (nullable = true)\n",
            " |-- property_type: string (nullable = true)\n",
            " |-- room_type: string (nullable = true)\n",
            " |-- accommodates: integer (nullable = true)\n",
            " |-- bathrooms: string (nullable = true)\n",
            " |-- bathrooms_text: string (nullable = true)\n",
            " |-- bedrooms: integer (nullable = true)\n",
            " |-- beds: integer (nullable = true)\n",
            " |-- amenities: string (nullable = true)\n",
            " |-- price: integer (nullable = true)\n",
            " |-- minimum_nights: integer (nullable = true)\n",
            " |-- maximum_nights: integer (nullable = true)\n",
            " |-- minimum_minimum_nights: integer (nullable = true)\n",
            " |-- maximum_minimum_nights: integer (nullable = true)\n",
            " |-- minimum_maximum_nights: integer (nullable = true)\n",
            " |-- maximum_maximum_nights: integer (nullable = true)\n",
            " |-- minimum_nights_avg_ntm: double (nullable = true)\n",
            " |-- maximum_nights_avg_ntm: double (nullable = true)\n",
            " |-- calendar_updated: string (nullable = true)\n",
            " |-- has_availability: string (nullable = true)\n",
            " |-- availability_30: integer (nullable = true)\n",
            " |-- availability_60: integer (nullable = true)\n",
            " |-- availability_90: integer (nullable = true)\n",
            " |-- availability_365: integer (nullable = true)\n",
            " |-- calendar_last_scraped: string (nullable = true)\n",
            " |-- number_of_reviews: integer (nullable = true)\n",
            " |-- number_of_reviews_ltm: integer (nullable = true)\n",
            " |-- number_of_reviews_l30d: integer (nullable = true)\n",
            " |-- first_review: string (nullable = true)\n",
            " |-- last_review: string (nullable = true)\n",
            " |-- review_scores_rating: double (nullable = true)\n",
            " |-- review_scores_accuracy: double (nullable = true)\n",
            " |-- review_scores_cleanliness: double (nullable = true)\n",
            " |-- review_scores_checkin: double (nullable = true)\n",
            " |-- review_scores_communication: double (nullable = true)\n",
            " |-- review_scores_location: double (nullable = true)\n",
            " |-- review_scores_value: double (nullable = true)\n",
            " |-- instant_bookable: string (nullable = true)\n",
            " |-- calculated_host_listings_count: integer (nullable = true)\n",
            " |-- calculated_host_listings_count_entire_homes: integer (nullable = true)\n",
            " |-- calculated_host_listings_count_private_rooms: integer (nullable = true)\n",
            " |-- calculated_host_listings_count_shared_rooms: integer (nullable = true)\n",
            " |-- reviews_per_month: double (nullable = true)\n",
            "\n"
          ]
        }
      ],
      "source": [
        "# Print the list of features\n",
        "print('The features are:')\n",
        "airbnb_df.printSchema()"
      ]
    },
    {
      "attachments": {},
      "cell_type": "markdown",
      "metadata": {
        "id": "KVHo9ERntq4s"
      },
      "source": [
        "### Data Cleaning"
      ]
    },
    {
      "attachments": {},
      "cell_type": "markdown",
      "metadata": {
        "id": "KVpfQmlBtz8T"
      },
      "source": [
        "It is immediate to notice that there are some features that are useless for the models we are going to create. These features are mainly about ids, urls or other information from which it is not possible to get anything useful. The list of features we can immediatly remove is the following:\n",
        "* id: id of the accomodation (removed later);\n",
        "* listing_url: url of the accomodation on the airbnb website;\n",
        "* scrape_id: id of the scraping operation;\n",
        "* last_scraped: all dataset were scraped in March 2023 on weekends (Saturday or Sunday) so this information is not interesting;\n",
        "* source: from were the accomodation was scraped;\n",
        "* name: name of the accomodation;\n",
        "* picture_url: url of the picture;\n",
        "* host_id: id of the host;\n",
        "* host_url: url of the host webpage;\n",
        "* host_name: name of the host (not unique);\n",
        "* host_location and host_neighbourhood: where the host is located (not so interesting information);\n",
        "* host_thumbnail_url: url of the thumbnail;\n",
        "* host_picture_url: url of the host profile picture;\n",
        "* calendar_updated and calendar_last_scraped: again, all dataset was scraped in March 2023 so it is not an interesting information;\n",
        "\n",
        "\n"
      ]
    },
    {
      "cell_type": "code",
      "execution_count": 13,
      "metadata": {
        "id": "QQEVjDj4twYj"
      },
      "outputs": [],
      "source": [
        "# Remove useless features\n",
        "airbnb_df = airbnb_df.drop(*['listing_url', 'scrape_id', 'last_scraped', 'source', 'name', 'picture_url', 'host_id', 'host_url', 'host_name', 'host_location', 'host_neighbourhood', 'host_thumbnail_url', 'host_picture_url', 'calendar_updated', 'calendar_last_scraped'])"
      ]
    },
    {
      "attachments": {},
      "cell_type": "markdown",
      "metadata": {
        "id": "2MfwEAO4foHt"
      },
      "source": [
        "I substitute the ID values because the last ones are big integers and difficult to manage. They will be used to merge some columns and it will be removed later:"
      ]
    },
    {
      "cell_type": "code",
      "execution_count": 14,
      "metadata": {
        "id": "yZZXCKtef39F"
      },
      "outputs": [],
      "source": [
        "# Substitute the current (sparse) ids with monotonically increasing ids\n",
        "airbnb_df = airbnb_df.withColumn('id', monotonically_increasing_id())"
      ]
    },
    {
      "attachments": {},
      "cell_type": "markdown",
      "metadata": {
        "id": "1ADLMwEYtH80"
      },
      "source": [
        "Let's print how many null cells we have for each features:"
      ]
    },
    {
      "cell_type": "code",
      "execution_count": 15,
      "metadata": {
        "colab": {
          "base_uri": "https://localhost:8080/"
        },
        "id": "KwiGQZlVtQC8",
        "outputId": "308e9ba0-a170-4b81-ce0b-0162c61a9087"
      },
      "outputs": [
        {
          "name": "stdout",
          "output_type": "stream",
          "text": [
            "+---+----------+------------------+------------------+--------------------+-----------------+-------------------+-------------------------+------------------+--------------------+----------------------+----+-------------+--------+---------+-------------+---------+------------+---------+--------------+--------+----+---------+-----+--------------+--------------+----------------------+----------------------+----------------------+----------------------+----------------------+----------------------+----------------+---------------+---------------+---------------+----------------+-----------------+---------------------+----------------------+------------+-----------+--------------------+----------------------+-------------------------+---------------------+---------------------------+----------------------+-------------------+----------------+------------------------------+-------------------------------------------+--------------------------------------------+-------------------------------------------+-----------------+\n",
            "| id|host_since|host_response_time|host_response_rate|host_acceptance_rate|host_is_superhost|host_listings_count|host_total_listings_count|host_verifications|host_has_profile_pic|host_identity_verified|city|neighbourhood|latitude|longitude|property_type|room_type|accommodates|bathrooms|bathrooms_text|bedrooms|beds|amenities|price|minimum_nights|maximum_nights|minimum_minimum_nights|maximum_minimum_nights|minimum_maximum_nights|maximum_maximum_nights|minimum_nights_avg_ntm|maximum_nights_avg_ntm|has_availability|availability_30|availability_60|availability_90|availability_365|number_of_reviews|number_of_reviews_ltm|number_of_reviews_l30d|first_review|last_review|review_scores_rating|review_scores_accuracy|review_scores_cleanliness|review_scores_checkin|review_scores_communication|review_scores_location|review_scores_value|instant_bookable|calculated_host_listings_count|calculated_host_listings_count_entire_homes|calculated_host_listings_count_private_rooms|calculated_host_listings_count_shared_rooms|reviews_per_month|\n",
            "+---+----------+------------------+------------------+--------------------+-----------------+-------------------+-------------------------+------------------+--------------------+----------------------+----+-------------+--------+---------+-------------+---------+------------+---------+--------------+--------+----+---------+-----+--------------+--------------+----------------------+----------------------+----------------------+----------------------+----------------------+----------------------+----------------+---------------+---------------+---------------+----------------+-----------------+---------------------+----------------------+------------+-----------+--------------------+----------------------+-------------------------+---------------------+---------------------------+----------------------+-------------------+----------------+------------------------------+-------------------------------------------+--------------------------------------------+-------------------------------------------+-----------------+\n",
            "|  0|        50|                50|                50|                  50|              123|                 50|                       50|                 0|                  50|                    50|   0|            0|       0|        0|            0|        0|           0|   306136|           410|   23276|4099|        0|    1|             1|             1|                    10|                    10|                    10|                    10|                    10|                    10|               1|              1|              1|              1|               1|                1|                    1|                     1|       60244|      60244|               60244|                 62751|                    62724|                62802|                      62744|                 62807|              62818|               1|                             1|                                          1|                                           1|                                          1|            60244|\n",
            "+---+----------+------------------+------------------+--------------------+-----------------+-------------------+-------------------------+------------------+--------------------+----------------------+----+-------------+--------+---------+-------------+---------+------------+---------+--------------+--------+----+---------+-----+--------------+--------------+----------------------+----------------------+----------------------+----------------------+----------------------+----------------------+----------------+---------------+---------------+---------------+----------------+-----------------+---------------------+----------------------+------------+-----------+--------------------+----------------------+-------------------------+---------------------+---------------------------+----------------------+-------------------+----------------+------------------------------+-------------------------------------------+--------------------------------------------+-------------------------------------------+-----------------+\n",
            "\n"
          ]
        }
      ],
      "source": [
        "# Print all Null values from the datasets\n",
        "airbnb_df.agg(*[sum(col(column).isNull().cast('int')).alias(column) for column in airbnb_df.columns]).show()"
      ]
    },
    {
      "attachments": {},
      "cell_type": "markdown",
      "metadata": {
        "id": "SYtj4REFzogP"
      },
      "source": [
        "Now, from the list above comes out that there are some features that I must work on. First of all the \"bathrooms\" features contain all None values so I can delete it immediately (I will get the information on bathrooms with the \"bathrooms_text\" features - see later)."
      ]
    },
    {
      "cell_type": "code",
      "execution_count": 16,
      "metadata": {
        "id": "JxO3Qc1Y0VK9"
      },
      "outputs": [],
      "source": [
        "# Delete \"bathrooms\" features that contains all NaN values\n",
        "airbnb_df = airbnb_df.drop('bathrooms')"
      ]
    },
    {
      "attachments": {},
      "cell_type": "markdown",
      "metadata": {
        "id": "bvOQSk6h1UIk"
      },
      "source": [
        "I also delete \"first_review\", \"last_reviews\" and \"reviews_per month\" since they have too many None values."
      ]
    },
    {
      "cell_type": "code",
      "execution_count": 17,
      "metadata": {
        "id": "OZP7nWTQ2MrM"
      },
      "outputs": [],
      "source": [
        "# Delete \"first_review\", \"last_review\" and \"review_per month\"\n",
        "airbnb_df = airbnb_df.drop(*['first_review', 'last_review', 'reviews_per_month'])"
      ]
    },
    {
      "cell_type": "code",
      "execution_count": 18,
      "metadata": {
        "id": "aMIdu9pwhVlL"
      },
      "outputs": [],
      "source": [
        "# Drop the date columns since they can't be read in the right format\n",
        "airbnb_df = airbnb_df.drop('host_since')"
      ]
    },
    {
      "attachments": {},
      "cell_type": "markdown",
      "metadata": {
        "id": "bU6Kkl0MbKLC"
      },
      "source": [
        "I also delete the rows that have \"host_is_superhost\" set to None as well as the other columns where the information on the host is missing. It is not possible to fill the missing values in any ways but using the mode and, in this case, I think this is not a good choice so I rather prefer removing those rows since there are very few:"
      ]
    },
    {
      "cell_type": "code",
      "execution_count": 19,
      "metadata": {
        "id": "Qcb0Oe2KbqGi"
      },
      "outputs": [],
      "source": [
        "# Remove rows where the information on the host is missing\n",
        "airbnb_df = airbnb_df.filter(col('host_is_superhost').isNotNull())\n",
        "airbnb_df = airbnb_df.filter(col('host_response_time').isNotNull())\n",
        "airbnb_df = airbnb_df.filter(col('host_response_rate').isNotNull())\n",
        "airbnb_df = airbnb_df.filter(col('host_acceptance_rate').isNotNull())\n",
        "airbnb_df = airbnb_df.filter(col('host_listings_count').isNotNull())\n",
        "airbnb_df = airbnb_df.filter(col('host_total_listings_count').isNotNull())\n",
        "airbnb_df = airbnb_df.filter(col('host_has_profile_pic').isNotNull())\n",
        "airbnb_df = airbnb_df.filter(col('host_identity_verified').isNotNull())"
      ]
    },
    {
      "attachments": {},
      "cell_type": "markdown",
      "metadata": {
        "id": "DfiERpo1edhr"
      },
      "source": [
        "For the same reason as before, I also delete the rows that has \"bathroom text\" set to None:"
      ]
    },
    {
      "cell_type": "code",
      "execution_count": 20,
      "metadata": {
        "id": "ahw1-71seltL"
      },
      "outputs": [],
      "source": [
        "# Remove rows that has bathroom text set to None\n",
        "airbnb_df = airbnb_df.filter(col('bathrooms_text').isNotNull())"
      ]
    },
    {
      "attachments": {},
      "cell_type": "markdown",
      "metadata": {
        "id": "AQ1yQ8jPIKBi"
      },
      "source": [
        "Now, notice that we also have a bunch of data (more than 60k columns - about 1/5 of the whole dataset) that have no reviews at all. Instead of removing all this data, what I do is substituting the null values with the average of that specific column:"
      ]
    },
    {
      "cell_type": "code",
      "execution_count": 21,
      "metadata": {
        "id": "C85XCsmc-f8Z"
      },
      "outputs": [],
      "source": [
        "# Compute the average scores\n",
        "rsr_avg = airbnb_df.agg(avg('review_scores_rating')).first()[0]\n",
        "rsa_avg = airbnb_df.agg(avg('review_scores_accuracy')).first()[0]\n",
        "rscl_avg = airbnb_df.agg(avg('review_scores_cleanliness')).first()[0]\n",
        "rsch_avg = airbnb_df.agg(avg('review_scores_checkin')).first()[0]\n",
        "rsco_avg = airbnb_df.agg(avg('review_scores_communication')).first()[0]\n",
        "rsl_avg = airbnb_df.agg(avg('review_scores_location')).first()[0]\n",
        "rsv_avg = airbnb_df.agg(avg('review_scores_value')).first()[0]"
      ]
    },
    {
      "cell_type": "code",
      "execution_count": 22,
      "metadata": {
        "id": "h6aTn05E_QNS"
      },
      "outputs": [],
      "source": [
        "# Substitute the null scores with the averages\n",
        "airbnb_df = airbnb_df.fillna(rsr_avg, subset=['review_scores_rating'])\n",
        "airbnb_df = airbnb_df.fillna(rsa_avg, subset=['review_scores_accuracy'])\n",
        "airbnb_df = airbnb_df.fillna(rscl_avg, subset=['review_scores_cleanliness'])\n",
        "airbnb_df = airbnb_df.fillna(rsch_avg, subset=['review_scores_checkin'])\n",
        "airbnb_df = airbnb_df.fillna(rsco_avg, subset=['review_scores_communication'])\n",
        "airbnb_df = airbnb_df.fillna(rsl_avg, subset=['review_scores_location'])\n",
        "airbnb_df = airbnb_df.fillna(rsv_avg, subset=['review_scores_value'])"
      ]
    },
    {
      "attachments": {},
      "cell_type": "markdown",
      "metadata": {
        "id": "rHSlUbiBsl3k"
      },
      "source": [
        "Finally, there is a row with no price. Let's remove it:"
      ]
    },
    {
      "cell_type": "code",
      "execution_count": 23,
      "metadata": {
        "id": "MBqkuWz_srWM"
      },
      "outputs": [],
      "source": [
        "# Remove row with no price\n",
        "airbnb_df = airbnb_df.filter(col('price').isNotNull())"
      ]
    },
    {
      "cell_type": "code",
      "execution_count": 24,
      "metadata": {
        "colab": {
          "base_uri": "https://localhost:8080/"
        },
        "id": "v4PGBoKobvpx",
        "outputId": "6c7f04a4-5af2-4bbb-9818-bc5aae4d304c"
      },
      "outputs": [
        {
          "name": "stdout",
          "output_type": "stream",
          "text": [
            "+---+------------------+------------------+--------------------+-----------------+-------------------+-------------------------+------------------+--------------------+----------------------+----+-------------+--------+---------+-------------+---------+------------+--------------+--------+----+---------+-----+--------------+--------------+----------------------+----------------------+----------------------+----------------------+----------------------+----------------------+----------------+---------------+---------------+---------------+----------------+-----------------+---------------------+----------------------+--------------------+----------------------+-------------------------+---------------------+---------------------------+----------------------+-------------------+----------------+------------------------------+-------------------------------------------+--------------------------------------------+-------------------------------------------+\n",
            "| id|host_response_time|host_response_rate|host_acceptance_rate|host_is_superhost|host_listings_count|host_total_listings_count|host_verifications|host_has_profile_pic|host_identity_verified|city|neighbourhood|latitude|longitude|property_type|room_type|accommodates|bathrooms_text|bedrooms|beds|amenities|price|minimum_nights|maximum_nights|minimum_minimum_nights|maximum_minimum_nights|minimum_maximum_nights|maximum_maximum_nights|minimum_nights_avg_ntm|maximum_nights_avg_ntm|has_availability|availability_30|availability_60|availability_90|availability_365|number_of_reviews|number_of_reviews_ltm|number_of_reviews_l30d|review_scores_rating|review_scores_accuracy|review_scores_cleanliness|review_scores_checkin|review_scores_communication|review_scores_location|review_scores_value|instant_bookable|calculated_host_listings_count|calculated_host_listings_count_entire_homes|calculated_host_listings_count_private_rooms|calculated_host_listings_count_shared_rooms|\n",
            "+---+------------------+------------------+--------------------+-----------------+-------------------+-------------------------+------------------+--------------------+----------------------+----+-------------+--------+---------+-------------+---------+------------+--------------+--------+----+---------+-----+--------------+--------------+----------------------+----------------------+----------------------+----------------------+----------------------+----------------------+----------------+---------------+---------------+---------------+----------------+-----------------+---------------------+----------------------+--------------------+----------------------+-------------------------+---------------------+---------------------------+----------------------+-------------------+----------------+------------------------------+-------------------------------------------+--------------------------------------------+-------------------------------------------+\n",
            "|  0|                 0|                 0|                   0|                0|                  0|                        0|                 0|                   0|                     0|   0|            0|       0|        0|            0|        0|           0|             0|   23180|3970|        0|    0|             0|             0|                     0|                     0|                     0|                     0|                     0|                     0|               0|              0|              0|              0|               0|                0|                    0|                     0|                   0|                     0|                        0|                    0|                          0|                     0|                  0|               0|                             0|                                          0|                                           0|                                          0|\n",
            "+---+------------------+------------------+--------------------+-----------------+-------------------+-------------------------+------------------+--------------------+----------------------+----+-------------+--------+---------+-------------+---------+------------+--------------+--------+----+---------+-----+--------------+--------------+----------------------+----------------------+----------------------+----------------------+----------------------+----------------------+----------------+---------------+---------------+---------------+----------------+-----------------+---------------------+----------------------+--------------------+----------------------+-------------------------+---------------------+---------------------------+----------------------+-------------------+----------------+------------------------------+-------------------------------------------+--------------------------------------------+-------------------------------------------+\n",
            "\n"
          ]
        }
      ],
      "source": [
        "# Print all Null values from the datasets to see the result\n",
        "airbnb_df.agg(*[sum(col(column).isNull().cast(\"int\")).alias(column) for column in airbnb_df.columns]).show()"
      ]
    },
    {
      "attachments": {},
      "cell_type": "markdown",
      "metadata": {
        "id": "RluCjI0E1HMY"
      },
      "source": [
        "\n",
        "\n",
        "---\n",
        "\n"
      ]
    },
    {
      "attachments": {},
      "cell_type": "markdown",
      "metadata": {
        "id": "_F4S17aY3YUh"
      },
      "source": [
        "Now, let's try to clean the host information. First of all let's see the content of the columns:"
      ]
    },
    {
      "cell_type": "code",
      "execution_count": 25,
      "metadata": {
        "colab": {
          "base_uri": "https://localhost:8080/"
        },
        "id": "TG5oTHP01ZNa",
        "outputId": "f7000c53-40ea-470b-ebd3-653a5321aa00"
      },
      "outputs": [
        {
          "name": "stdout",
          "output_type": "stream",
          "text": [
            "+------------------+------------------+--------------------+-----------------+\n",
            "|host_response_time|host_response_rate|host_acceptance_rate|host_is_superhost|\n",
            "+------------------+------------------+--------------------+-----------------+\n",
            "|               N/A|               N/A|                 N/A|                f|\n",
            "|               N/A|               N/A|                 N/A|                f|\n",
            "|    within an hour|              100%|                 92%|                t|\n",
            "|    within an hour|               92%|                100%|                f|\n",
            "|    within an hour|              100%|                100%|                f|\n",
            "|    within an hour|              100%|                 99%|                f|\n",
            "|    within an hour|               98%|                100%|                f|\n",
            "|within a few hours|               88%|                 94%|                f|\n",
            "|within a few hours|               98%|                 98%|                f|\n",
            "|               N/A|               N/A|                 N/A|                f|\n",
            "|      within a day|               60%|                 65%|                f|\n",
            "|    within an hour|               84%|                 95%|                f|\n",
            "|      within a day|               50%|                 N/A|                f|\n",
            "|      within a day|               74%|                 29%|                f|\n",
            "|               N/A|               N/A|                 N/A|                f|\n",
            "|    within an hour|              100%|                 97%|                f|\n",
            "|    within an hour|               94%|                 94%|                f|\n",
            "|    within an hour|              100%|                 95%|                t|\n",
            "|within a few hours|               98%|                 98%|                f|\n",
            "|    within an hour|              100%|                 99%|                f|\n",
            "+------------------+------------------+--------------------+-----------------+\n",
            "only showing top 20 rows\n",
            "\n"
          ]
        }
      ],
      "source": [
        "# Print the content of the columns\n",
        "airbnb_df.select('host_response_time', 'host_response_rate', 'host_acceptance_rate', 'host_is_superhost').show()"
      ]
    },
    {
      "attachments": {},
      "cell_type": "markdown",
      "metadata": {
        "id": "2Bi0gKdo5f4h"
      },
      "source": [
        "There are still some cells in which we don't have any information (\"N/A\"). In this case, the missing information probably depends on the fact that the host never replied to any query. In this case I simply leave this field as unknown:"
      ]
    },
    {
      "cell_type": "code",
      "execution_count": 26,
      "metadata": {
        "id": "es6Bm_YmCtL7"
      },
      "outputs": [],
      "source": [
        "# UTIL: String Indexer function (turn string (categorical) values into numerical ones)\n",
        "def string_indexer(dataset, input, output):\n",
        "  indexer = StringIndexer(inputCol=input, outputCol=output)\n",
        "  encoded_df = indexer.fit(dataset)\n",
        "  \n",
        "  for index, label in enumerate(encoded_df.labels):\n",
        "    print(f\"Index: {index}, Label: {label}\")\n",
        "\n",
        "  encoded_df = encoded_df.transform(dataset)\n",
        "  return encoded_df"
      ]
    },
    {
      "cell_type": "code",
      "execution_count": 27,
      "metadata": {
        "id": "nuEZexiZDU6s"
      },
      "outputs": [],
      "source": [
        "# UTIL: Substitute one column with another (input is the column to be substituted, output the one to copy)\n",
        "def column_substitution(dataset, input, output, type):\n",
        "  substituted_df = dataset.withColumn(input, dataset[output].cast(IntegerType() if type == 'int' else DoubleType())).drop(output)\n",
        "  return substituted_df"
      ]
    },
    {
      "cell_type": "code",
      "execution_count": 28,
      "metadata": {
        "colab": {
          "base_uri": "https://localhost:8080/"
        },
        "id": "y3S9EFu3FqjN",
        "outputId": "edad691f-d372-49ea-aaed-19e11b5b3883"
      },
      "outputs": [
        {
          "name": "stdout",
          "output_type": "stream",
          "text": [
            "+------------------+--------+\n",
            "|host_response_time|count(1)|\n",
            "+------------------+--------+\n",
            "|a few days or more|    5554|\n",
            "|      within a day|   23752|\n",
            "|within a few hours|   32707|\n",
            "|               N/A|   97930|\n",
            "|    within an hour|  145670|\n",
            "+------------------+--------+\n",
            "\n"
          ]
        }
      ],
      "source": [
        "# Print all unique host_response_time in the dataset\n",
        "airbnb_df.groupBy('host_response_time').agg(count('*')).show()"
      ]
    },
    {
      "cell_type": "code",
      "execution_count": 29,
      "metadata": {
        "colab": {
          "base_uri": "https://localhost:8080/"
        },
        "id": "UAsmYAhg-AwD",
        "outputId": "b4755ca7-f91e-4e00-d9c7-c89b9fc7d5bf"
      },
      "outputs": [
        {
          "name": "stdout",
          "output_type": "stream",
          "text": [
            "Index: 0, Label: within an hour\n",
            "Index: 1, Label: N/A\n",
            "Index: 2, Label: within a few hours\n",
            "Index: 3, Label: within a day\n",
            "Index: 4, Label: a few days or more\n"
          ]
        }
      ],
      "source": [
        "# Apply One Hot Encoder to turn string (categorical) values into numerical ones\n",
        "encoded_host_response_time = string_indexer(airbnb_df, 'host_response_time', 'host_response_time_enc')\n",
        "airbnb_df = column_substitution(encoded_host_response_time, 'host_response_time', 'host_response_time_enc', 'int')"
      ]
    },
    {
      "cell_type": "code",
      "execution_count": 30,
      "metadata": {
        "colab": {
          "base_uri": "https://localhost:8080/"
        },
        "id": "sQgDrTwOH94W",
        "outputId": "a20bb971-d7b3-4797-b65d-c14782822352"
      },
      "outputs": [
        {
          "name": "stdout",
          "output_type": "stream",
          "text": [
            "+------------------+--------+\n",
            "|host_response_rate|count(1)|\n",
            "+------------------+--------+\n",
            "|              100%|  149742|\n",
            "|               N/A|   97930|\n",
            "|               99%|    7196|\n",
            "|               98%|    6700|\n",
            "|               90%|    5844|\n",
            "|                0%|    3411|\n",
            "|               97%|    2997|\n",
            "|               80%|    2638|\n",
            "|               96%|    2419|\n",
            "|               50%|    2064|\n",
            "|               94%|    1940|\n",
            "|               93%|    1680|\n",
            "|               95%|    1650|\n",
            "|               92%|    1504|\n",
            "|               67%|    1368|\n",
            "|               86%|    1253|\n",
            "|               91%|    1242|\n",
            "|               89%|    1221|\n",
            "|               75%|    1194|\n",
            "|               83%|    1132|\n",
            "+------------------+--------+\n",
            "only showing top 20 rows\n",
            "\n"
          ]
        }
      ],
      "source": [
        "# Print all unique host_response_rate in the dataset\n",
        "airbnb_df.groupBy(\"host_response_rate\").agg(count('*')).orderBy('count(1)', ascending=False).show()"
      ]
    },
    {
      "attachments": {},
      "cell_type": "markdown",
      "metadata": {
        "id": "bWMeHpViI6I1"
      },
      "source": [
        "Again, we have many unknown values. In this case I substitute the N/A values with the average:"
      ]
    },
    {
      "cell_type": "code",
      "execution_count": 31,
      "metadata": {
        "id": "-lFnYE969Dsa"
      },
      "outputs": [],
      "source": [
        "# Select the mean in \"host_response_rate\" and substitute it to \"N/A\" values\n",
        "airbnb_df = airbnb_df.withColumn('host_response_rate', regexp_replace('host_response_rate', '%', '').cast('float'))\n",
        "host_response_rate_avg = np.round(airbnb_df.select(avg(col('host_response_rate'))).collect()[0][0])\n",
        "airbnb_df = airbnb_df.fillna(host_response_rate_avg, subset=['host_response_rate'])\n",
        "\n",
        "# Express the percentages as values between 0 and 1\n",
        "airbnb_df = airbnb_df.withColumn('host_response_rate', col('host_response_rate') / 100)"
      ]
    },
    {
      "cell_type": "code",
      "execution_count": 32,
      "metadata": {
        "colab": {
          "base_uri": "https://localhost:8080/"
        },
        "id": "O-1VBosFJNac",
        "outputId": "2a4c57c7-66a9-498e-b599-867896c5c0a6"
      },
      "outputs": [
        {
          "name": "stdout",
          "output_type": "stream",
          "text": [
            "+--------------------+--------+\n",
            "|host_acceptance_rate|count(1)|\n",
            "+--------------------+--------+\n",
            "|                100%|   90902|\n",
            "|                 N/A|   77756|\n",
            "|                 99%|   21302|\n",
            "|                 98%|   10338|\n",
            "|                 97%|    7796|\n",
            "|                  0%|    7074|\n",
            "|                 96%|    5660|\n",
            "|                 95%|    4708|\n",
            "|                 94%|    4410|\n",
            "|                 50%|    3745|\n",
            "|                 93%|    3592|\n",
            "|                 92%|    3290|\n",
            "|                 67%|    2925|\n",
            "|                 90%|    2602|\n",
            "|                 91%|    2584|\n",
            "|                 75%|    2568|\n",
            "|                 88%|    2565|\n",
            "|                 86%|    2564|\n",
            "|                 89%|    2549|\n",
            "|                 83%|    2517|\n",
            "+--------------------+--------+\n",
            "only showing top 20 rows\n",
            "\n"
          ]
        }
      ],
      "source": [
        "# Print all unique host_response_rate in the dataset\n",
        "airbnb_df.groupBy(\"host_acceptance_rate\").agg(count('*')).orderBy('count(1)', ascending=False).show()"
      ]
    },
    {
      "cell_type": "code",
      "execution_count": 33,
      "metadata": {
        "id": "R2-lYP4SLEU0"
      },
      "outputs": [],
      "source": [
        "# Select the mean in \"host_acceptance_rate\" and substitute it to \"N/A\" values\n",
        "airbnb_df = airbnb_df.withColumn('host_acceptance_rate', regexp_replace('host_acceptance_rate', '%', '').cast('float'))\n",
        "host_acceptance_rate_avg = np.round(airbnb_df.select(avg(col('host_acceptance_rate'))).collect()[0][0])\n",
        "airbnb_df = airbnb_df.fillna(host_acceptance_rate_avg, subset=['host_acceptance_rate'])\n",
        "\n",
        "# Express the percentages as values between 0 and 1\n",
        "airbnb_df = airbnb_df.withColumn('host_acceptance_rate', col('host_acceptance_rate') / 100)"
      ]
    },
    {
      "cell_type": "code",
      "execution_count": 34,
      "metadata": {
        "colab": {
          "base_uri": "https://localhost:8080/"
        },
        "id": "YlOvlwbULSM1",
        "outputId": "a5646647-5e7e-4823-851c-cc4f1c9159e3"
      },
      "outputs": [
        {
          "name": "stdout",
          "output_type": "stream",
          "text": [
            "Index: 0, Label: f\n",
            "Index: 1, Label: t\n"
          ]
        }
      ],
      "source": [
        "# Apply One Hot Encoder to turn string (categorical) values into numerical ones in \"host_is_superhost\"\n",
        "encoded_host_is_superhost = string_indexer(airbnb_df, 'host_is_superhost', 'host_is_superhost_enc')\n",
        "airbnb_df = column_substitution(encoded_host_is_superhost, 'host_is_superhost', 'host_is_superhost_enc', 'int')"
      ]
    },
    {
      "attachments": {},
      "cell_type": "markdown",
      "metadata": {
        "id": "RMnNUia2NpH8"
      },
      "source": [
        "Let's see the remaining host columns:"
      ]
    },
    {
      "cell_type": "code",
      "execution_count": 35,
      "metadata": {
        "colab": {
          "base_uri": "https://localhost:8080/"
        },
        "id": "HTRc7XIWNZXs",
        "outputId": "2dbf34ca-237c-43a4-8f76-e8b3f099964e"
      },
      "outputs": [
        {
          "name": "stdout",
          "output_type": "stream",
          "text": [
            "+-------------------+-------------------------+--------------------+--------------------+----------------------+\n",
            "|host_listings_count|host_total_listings_count|  host_verifications|host_has_profile_pic|host_identity_verified|\n",
            "+-------------------+-------------------------+--------------------+--------------------+----------------------+\n",
            "|                  1|                        1|  ['email'; 'phone']|                   t|                     t|\n",
            "|                  1|                        2|  ['email'; 'phone']|                   t|                     t|\n",
            "|                  4|                        4|  ['email'; 'phone']|                   t|                     t|\n",
            "|                  7|                        8|  ['email'; 'phone']|                   t|                     t|\n",
            "|                  1|                        2|  ['email'; 'phone']|                   t|                     t|\n",
            "|                  9|                       17|  ['email'; 'phone']|                   t|                     t|\n",
            "|                  3|                        6|  ['email'; 'phone']|                   t|                     t|\n",
            "|                 43|                       64|           ['phone']|                   t|                     t|\n",
            "|                119|                      163|  ['email'; 'phone']|                   t|                     t|\n",
            "|                  1|                        1|  ['email'; 'phone']|                   t|                     t|\n",
            "|                120|                      121|  ['email'; 'phone']|                   t|                     f|\n",
            "|                 36|                       58|['email'; 'phone'...|                   t|                     t|\n",
            "|                  1|                        2|  ['email'; 'phone']|                   t|                     t|\n",
            "|                  1|                        4|  ['email'; 'phone']|                   t|                     t|\n",
            "|                  1|                        1|  ['email'; 'phone']|                   t|                     t|\n",
            "|                125|                      134|['email'; 'phone'...|                   t|                     t|\n",
            "|                 36|                       47|['email'; 'phone'...|                   t|                     t|\n",
            "|                  7|                       11|  ['email'; 'phone']|                   t|                     t|\n",
            "|                119|                      163|  ['email'; 'phone']|                   t|                     t|\n",
            "|                 32|                       54|  ['email'; 'phone']|                   t|                     t|\n",
            "+-------------------+-------------------------+--------------------+--------------------+----------------------+\n",
            "only showing top 20 rows\n",
            "\n"
          ]
        }
      ],
      "source": [
        "# Print the content of the columns\n",
        "airbnb_df.select('host_listings_count', 'host_total_listings_count', 'host_verifications', 'host_has_profile_pic', 'host_identity_verified').show()"
      ]
    },
    {
      "cell_type": "code",
      "execution_count": 36,
      "metadata": {
        "colab": {
          "base_uri": "https://localhost:8080/"
        },
        "id": "16Ks0313Otyd",
        "outputId": "40668edb-be43-4033-cf53-d1508b201574"
      },
      "outputs": [
        {
          "name": "stdout",
          "output_type": "stream",
          "text": [
            "Index: 0, Label: t\n",
            "Index: 1, Label: f\n"
          ]
        }
      ],
      "source": [
        "# Apply One Hot Encoder to turn string (categorical) values into numerical ones in \"host_has_profile_pic\"\n",
        "encoded_host_has_profile_pic = string_indexer(airbnb_df, 'host_has_profile_pic', 'host_has_profile_pic_enc')\n",
        "airbnb_df = column_substitution(encoded_host_has_profile_pic, 'host_has_profile_pic', 'host_has_profile_pic_enc', 'int')"
      ]
    },
    {
      "cell_type": "code",
      "execution_count": 37,
      "metadata": {
        "colab": {
          "base_uri": "https://localhost:8080/"
        },
        "id": "kdRHK6VBJj99",
        "outputId": "80773a4e-87a9-4c69-c682-0706e8a2fb79"
      },
      "outputs": [
        {
          "name": "stdout",
          "output_type": "stream",
          "text": [
            "+----------------------+--------+\n",
            "|host_identity_verified|count(1)|\n",
            "+----------------------+--------+\n",
            "|                     t|  264817|\n",
            "|                     f|   40796|\n",
            "+----------------------+--------+\n",
            "\n"
          ]
        }
      ],
      "source": [
        "# Print all unique host_response_rate in the dataset\n",
        "airbnb_df.groupBy(\"host_identity_verified\").agg(count('*')).orderBy('count(1)', ascending=False).show()"
      ]
    },
    {
      "cell_type": "code",
      "execution_count": 38,
      "metadata": {
        "colab": {
          "base_uri": "https://localhost:8080/"
        },
        "id": "WS7junniO968",
        "outputId": "e1f986a4-bac4-4d29-ab77-6d0ddece337d"
      },
      "outputs": [
        {
          "name": "stdout",
          "output_type": "stream",
          "text": [
            "Index: 0, Label: t\n",
            "Index: 1, Label: f\n"
          ]
        }
      ],
      "source": [
        "# Apply One Hot Encoder to turn string (categorical) values into numerical ones in \"host_identity_verified\"\n",
        "encoded_host_identity_verified = string_indexer(airbnb_df, 'host_identity_verified', 'host_identity_verified_enc')\n",
        "airbnb_df = column_substitution(encoded_host_identity_verified, 'host_identity_verified', 'host_identity_verified_enc', 'int')"
      ]
    },
    {
      "attachments": {},
      "cell_type": "markdown",
      "metadata": {
        "id": "cSTzJ_e_R51-"
      },
      "source": [
        "Let's finally work on the \"host_verifications\" column. Here I have a list object that is represented by a string so it is more difficult to manage. Some changes to the object and further analysis must be made to understand how to proceed:"
      ]
    },
    {
      "cell_type": "code",
      "execution_count": 39,
      "metadata": {
        "id": "UKcBvO0HDVmR"
      },
      "outputs": [],
      "source": [
        "# UTIL: Parse \"host_verifications\" column\n",
        "def parse_host_verifications(input):\n",
        "  input = input.replace('[', '').replace(']', '').replace('\\'', '').replace(' ', '').split(';')\n",
        "  return input\n",
        "\n",
        "# Define udf_host_verifications function\n",
        "udf_parse_host_verifications = udf(parse_host_verifications)"
      ]
    },
    {
      "cell_type": "code",
      "execution_count": 40,
      "metadata": {
        "colab": {
          "base_uri": "https://localhost:8080/"
        },
        "id": "ZvuZTcapDUTJ",
        "outputId": "0abe4fd4-52ee-43fd-c23c-ad3cfca3afd5"
      },
      "outputs": [
        {
          "name": "stdout",
          "output_type": "stream",
          "text": [
            "(array(['', 'email', 'phone', 'photographer', 'work_email'], dtype='<U12'), array([   632, 280625, 304028,     10,  37658]))\n"
          ]
        }
      ],
      "source": [
        "# Print unique values in host_verifications column\n",
        "unique_host_verifications = np.unique(np.concatenate(airbnb_df.select('host_verifications').rdd.map(lambda x: parse_host_verifications(x[0])).collect()), axis = 0, return_counts=True)\n",
        "print(unique_host_verifications)"
      ]
    },
    {
      "cell_type": "code",
      "execution_count": 41,
      "metadata": {
        "colab": {
          "base_uri": "https://localhost:8080/"
        },
        "id": "RrrGqhIxEw6r",
        "outputId": "ae1858be-8da7-439a-a853-2480ad49b581"
      },
      "outputs": [
        {
          "name": "stdout",
          "output_type": "stream",
          "text": [
            "['email' 'phone' 'work_email']\n"
          ]
        }
      ],
      "source": [
        "# Remove empty element from unique host verifications and well as \"photographer\" has few occurrences\n",
        "host_verifications_to_remove = ['', 'photographer']\n",
        "host_verifications_mask = np.isin(unique_host_verifications[0], host_verifications_to_remove, invert = True)\n",
        "unique_host_verifications = unique_host_verifications[0][host_verifications_mask]\n",
        "print(unique_host_verifications)"
      ]
    },
    {
      "cell_type": "code",
      "execution_count": 42,
      "metadata": {
        "id": "tMEl5mDNJF6x"
      },
      "outputs": [],
      "source": [
        "# UTIL: Return boolean values depending if an occurence has a certain verification method\n",
        "def check_verification_method(input):\n",
        "  input = parse_host_verifications(input)\n",
        "  return 1 if 'email' in input else 0, 1 if 'phone' in input else 0, 1 if 'work_email' in input else 0"
      ]
    },
    {
      "cell_type": "code",
      "execution_count": 43,
      "metadata": {
        "id": "C5eXfKOMJv1G"
      },
      "outputs": [],
      "source": [
        "# Let's try to group those values\n",
        "airbnb_df = airbnb_df.withColumn('is_email_verified', udf(lambda value: check_verification_method(value)[0], IntegerType())('host_verifications')) \\\n",
        "                        .withColumn('is_phone_verified', udf(lambda value: check_verification_method(value)[1], IntegerType())('host_verifications')) \\\n",
        "                        .withColumn('is_work_email_verified', udf(lambda value: check_verification_method(value)[2], IntegerType())('host_verifications'))"
      ]
    },
    {
      "cell_type": "code",
      "execution_count": 44,
      "metadata": {
        "colab": {
          "base_uri": "https://localhost:8080/"
        },
        "id": "tAvPXuk9OVa7",
        "outputId": "affbab05-fd6a-450a-8d37-d00fe500098b"
      },
      "outputs": [
        {
          "name": "stdout",
          "output_type": "stream",
          "text": [
            "+--------------------+-----------------+-----------------+----------------------+\n",
            "|  host_verifications|is_email_verified|is_phone_verified|is_work_email_verified|\n",
            "+--------------------+-----------------+-----------------+----------------------+\n",
            "|  ['email'; 'phone']|                1|                1|                     0|\n",
            "|  ['email'; 'phone']|                1|                1|                     0|\n",
            "|  ['email'; 'phone']|                1|                1|                     0|\n",
            "|  ['email'; 'phone']|                1|                1|                     0|\n",
            "|  ['email'; 'phone']|                1|                1|                     0|\n",
            "|  ['email'; 'phone']|                1|                1|                     0|\n",
            "|  ['email'; 'phone']|                1|                1|                     0|\n",
            "|           ['phone']|                0|                1|                     0|\n",
            "|  ['email'; 'phone']|                1|                1|                     0|\n",
            "|  ['email'; 'phone']|                1|                1|                     0|\n",
            "|  ['email'; 'phone']|                1|                1|                     0|\n",
            "|['email'; 'phone'...|                1|                1|                     1|\n",
            "|  ['email'; 'phone']|                1|                1|                     0|\n",
            "|  ['email'; 'phone']|                1|                1|                     0|\n",
            "|  ['email'; 'phone']|                1|                1|                     0|\n",
            "|['email'; 'phone'...|                1|                1|                     1|\n",
            "|['email'; 'phone'...|                1|                1|                     1|\n",
            "|  ['email'; 'phone']|                1|                1|                     0|\n",
            "|  ['email'; 'phone']|                1|                1|                     0|\n",
            "|  ['email'; 'phone']|                1|                1|                     0|\n",
            "+--------------------+-----------------+-----------------+----------------------+\n",
            "only showing top 20 rows\n",
            "\n"
          ]
        }
      ],
      "source": [
        "# Print the result\n",
        "airbnb_df.select('host_verifications', 'is_email_verified', 'is_phone_verified', 'is_work_email_verified').show()"
      ]
    },
    {
      "cell_type": "code",
      "execution_count": 45,
      "metadata": {
        "id": "dyLVyOG8OpC1"
      },
      "outputs": [],
      "source": [
        "# Drop the \"host_verifications\" column\n",
        "airbnb_df = airbnb_df.drop('host_verifications')"
      ]
    },
    {
      "attachments": {},
      "cell_type": "markdown",
      "metadata": {
        "id": "HXX_eVlJY4qe"
      },
      "source": [
        "\n",
        "\n",
        "---\n",
        "\n"
      ]
    },
    {
      "attachments": {},
      "cell_type": "markdown",
      "metadata": {
        "id": "HchbJ0tRY52O"
      },
      "source": [
        "Let's now clean the property information:"
      ]
    },
    {
      "cell_type": "code",
      "execution_count": 46,
      "metadata": {
        "colab": {
          "base_uri": "https://localhost:8080/"
        },
        "id": "6D77DurAY4EG",
        "outputId": "1c035ad6-114b-4eb6-fdb0-cbeb88997b82"
      },
      "outputs": [
        {
          "name": "stdout",
          "output_type": "stream",
          "text": [
            "+--------------------+---------------+------------+\n",
            "|       property_type|      room_type|accommodates|\n",
            "+--------------------+---------------+------------+\n",
            "|Private room in r...|   Private room|           1|\n",
            "|Private room in r...|   Private room|           1|\n",
            "|  Entire rental unit|Entire home/apt|           5|\n",
            "|Private room in h...|   Private room|           1|\n",
            "|Private room in r...|   Private room|           2|\n",
            "|  Entire rental unit|Entire home/apt|           5|\n",
            "|  Entire rental unit|Entire home/apt|           5|\n",
            "|  Entire rental unit|Entire home/apt|           3|\n",
            "|  Entire rental unit|Entire home/apt|           3|\n",
            "|Private room in c...|   Private room|           2|\n",
            "|Private room in r...|   Private room|           1|\n",
            "|Entire serviced a...|Entire home/apt|           4|\n",
            "|  Entire rental unit|Entire home/apt|           4|\n",
            "|Private room in r...|   Private room|           1|\n",
            "|Private room in r...|   Private room|           2|\n",
            "|  Entire rental unit|Entire home/apt|           5|\n",
            "|  Entire rental unit|Entire home/apt|           4|\n",
            "|  Entire rental unit|Entire home/apt|           5|\n",
            "|  Entire rental unit|Entire home/apt|           4|\n",
            "|  Entire rental unit|Entire home/apt|           3|\n",
            "+--------------------+---------------+------------+\n",
            "only showing top 20 rows\n",
            "\n"
          ]
        }
      ],
      "source": [
        "# Print the content of the columns\n",
        "airbnb_df.select('property_type', 'room_type', 'accommodates').show()"
      ]
    },
    {
      "cell_type": "code",
      "execution_count": 47,
      "metadata": {
        "colab": {
          "base_uri": "https://localhost:8080/"
        },
        "id": "3cSb7WxMa3KO",
        "outputId": "b4f756fe-f174-4797-fa58-913f1984ad83"
      },
      "outputs": [
        {
          "data": {
            "text/plain": [
              "[Row(property_type='Holiday park'),\n",
              " Row(property_type='Private room in loft'),\n",
              " Row(property_type='Private room in earthen home'),\n",
              " Row(property_type='Entire chalet'),\n",
              " Row(property_type='Private room in dome'),\n",
              " Row(property_type='Earthen home'),\n",
              " Row(property_type='Farm stay'),\n",
              " Row(property_type='Entire rental unit'),\n",
              " Row(property_type='Shared room in tent'),\n",
              " Row(property_type='Private room in minsu'),\n",
              " Row(property_type='Shared room in hostel'),\n",
              " Row(property_type='Shared room'),\n",
              " Row(property_type='Private room in condo'),\n",
              " Row(property_type='Pension'),\n",
              " Row(property_type='Room in boutique hotel'),\n",
              " Row(property_type='Private room in pension'),\n",
              " Row(property_type='Room in bed and breakfast'),\n",
              " Row(property_type='Private room in casa particular'),\n",
              " Row(property_type='Entire guesthouse'),\n",
              " Row(property_type='Private room in bungalow'),\n",
              " Row(property_type='Hut'),\n",
              " Row(property_type='Entire cabin'),\n",
              " Row(property_type='Shared room in houseboat'),\n",
              " Row(property_type='Private room in nature lodge'),\n",
              " Row(property_type='Entire guest suite'),\n",
              " Row(property_type='Private room in home'),\n",
              " Row(property_type='Entire place'),\n",
              " Row(property_type='Floor'),\n",
              " Row(property_type='Camper/RV'),\n",
              " Row(property_type='Private room in barn'),\n",
              " Row(property_type='Castle'),\n",
              " Row(property_type='Private room in boat'),\n",
              " Row(property_type='Windmill'),\n",
              " Row(property_type='Tiny home'),\n",
              " Row(property_type='Entire vacation home'),\n",
              " Row(property_type='Private room in hostel'),\n",
              " Row(property_type='Private room in camper/rv'),\n",
              " Row(property_type='Private room in chalet'),\n",
              " Row(property_type='Private room in island'),\n",
              " Row(property_type='Shared room in boutique hotel'),\n",
              " Row(property_type='Shared room in casa particular'),\n",
              " Row(property_type='Cave'),\n",
              " Row(property_type='Room in aparthotel'),\n",
              " Row(property_type='Shared room in floor'),\n",
              " Row(property_type='Private room in cottage'),\n",
              " Row(property_type='Campsite'),\n",
              " Row(property_type='Entire bed and breakfast'),\n",
              " Row(property_type='Private room in guest suite'),\n",
              " Row(property_type='Shared room in ice dome'),\n",
              " Row(property_type='Shared room in serviced apartment'),\n",
              " Row(property_type='Room in hostel'),\n",
              " Row(property_type='Entire townhouse'),\n",
              " Row(property_type='Room in hotel'),\n",
              " Row(property_type='Entire villa'),\n",
              " Row(property_type='Entire home/apt'),\n",
              " Row(property_type='Private room in rental unit'),\n",
              " Row(property_type='Private room in bed and breakfast'),\n",
              " Row(property_type='Treehouse'),\n",
              " Row(property_type='Entire serviced apartment'),\n",
              " Row(property_type='Private room in cabin'),\n",
              " Row(property_type='Shared room in farm stay'),\n",
              " Row(property_type='Private room in serviced apartment'),\n",
              " Row(property_type='Private room in floor'),\n",
              " Row(property_type='Shared room in tipi'),\n",
              " Row(property_type='Entire condo'),\n",
              " Row(property_type='Ice dome'),\n",
              " Row(property_type='Shipping container'),\n",
              " Row(property_type='Shared room in hotel'),\n",
              " Row(property_type='Shared room in guest suite'),\n",
              " Row(property_type='Yurt'),\n",
              " Row(property_type='Shared room in guesthouse'),\n",
              " Row(property_type='Shared room in condo'),\n",
              " Row(property_type='Shared room in earthen home'),\n",
              " Row(property_type='Private room in shipping container'),\n",
              " Row(property_type='Private room in resort'),\n",
              " Row(property_type='Shared room in home'),\n",
              " Row(property_type='Shared room in tower'),\n",
              " Row(property_type='Tipi'),\n",
              " Row(property_type='Bus'),\n",
              " Row(property_type='Private room in hut'),\n",
              " Row(property_type='Private room'),\n",
              " Row(property_type='Private room in castle'),\n",
              " Row(property_type='Entire loft'),\n",
              " Row(property_type='Island'),\n",
              " Row(property_type='Shared room in vacation home'),\n",
              " Row(property_type='Tent'),\n",
              " Row(property_type='Shared room in boat'),\n",
              " Row(property_type='Room in serviced apartment'),\n",
              " Row(property_type='Private room in houseboat'),\n",
              " Row(property_type='Cycladic home'),\n",
              " Row(property_type='Shared room in tiny home'),\n",
              " Row(property_type='Private room in tent'),\n",
              " Row(property_type='Barn'),\n",
              " Row(property_type='Shared room in loft'),\n",
              " Row(property_type='Boat'),\n",
              " Row(property_type='Private room in cave'),\n",
              " Row(property_type='Private room in tiny home'),\n",
              " Row(property_type='Private room in villa'),\n",
              " Row(property_type='Private room in tipi'),\n",
              " Row(property_type='Private room in guesthouse'),\n",
              " Row(property_type='Private room in farm stay'),\n",
              " Row(property_type='Houseboat'),\n",
              " Row(property_type='Entire cottage'),\n",
              " Row(property_type='Tower'),\n",
              " Row(property_type='Entire home'),\n",
              " Row(property_type='Casa particular'),\n",
              " Row(property_type='Shared room in bed and breakfast'),\n",
              " Row(property_type='Private room in vacation home'),\n",
              " Row(property_type='Dome'),\n",
              " Row(property_type='Shared room in nature lodge'),\n",
              " Row(property_type='Private room in townhouse'),\n",
              " Row(property_type='Shared room in townhouse'),\n",
              " Row(property_type='Shared room in villa'),\n",
              " Row(property_type='Entire bungalow'),\n",
              " Row(property_type='Shared room in rental unit'),\n",
              " Row(property_type='Private room in lighthouse'),\n",
              " Row(property_type='Shared room in bus'),\n",
              " Row(property_type='Entire hostel'),\n",
              " Row(property_type='Private room in religious building'),\n",
              " Row(property_type='Shared room in resort'),\n",
              " Row(property_type='Private room in ice dome'),\n",
              " Row(property_type='Shared room in bungalow'),\n",
              " Row(property_type='Shared room in hut'),\n",
              " Row(property_type='Lighthouse'),\n",
              " Row(property_type='Private room in treehouse'),\n",
              " Row(property_type='Shared room in religious building'),\n",
              " Row(property_type='Riad'),\n",
              " Row(property_type='Shared room in dome'),\n",
              " Row(property_type='Religious building'),\n",
              " Row(property_type='Private room in yurt'),\n",
              " Row(property_type='Room in casa particular'),\n",
              " Row(property_type='Private room in ryokan'),\n",
              " Row(property_type='Shepherd’s hut'),\n",
              " Row(property_type=\"Private room in shepherd's hut\"),\n",
              " Row(property_type='Room in rental unit'),\n",
              " Row(property_type='Shared room in chalet'),\n",
              " Row(property_type='Minsu'),\n",
              " Row(property_type='Shared room in cabin'),\n",
              " Row(property_type='Shared room in island'),\n",
              " Row(property_type='Private room in tower')]"
            ]
          },
          "execution_count": 47,
          "metadata": {},
          "output_type": "execute_result"
        }
      ],
      "source": [
        "# Print \"property_type\" unique values\n",
        "airbnb_df.select('property_type').distinct().collect()"
      ]
    },
    {
      "cell_type": "code",
      "execution_count": 48,
      "metadata": {
        "id": "t9V29zCDcEtg"
      },
      "outputs": [],
      "source": [
        "# UTIL: Function to group property types together\n",
        "def transform_property_type(input):\n",
        "  input_split = input.split(' ')\n",
        "  if (input_split[0] == 'Entire' or input_split[0] == 'Casa' or input_split[0] == 'Eastern'):\n",
        "    return 0 #Entire place\n",
        "  elif (input_split[0] == 'Private' or input_split[0] == 'Room'):\n",
        "    return 1 #Private room\n",
        "  elif (input_split[0] == 'Shared'):\n",
        "    return 2 #Shared room\n",
        "  else:\n",
        "    return 3 #Other (e.g. Tent, boat, bus, camper, etc..)"
      ]
    },
    {
      "cell_type": "code",
      "execution_count": 49,
      "metadata": {
        "id": "K7q1NeFib0IH"
      },
      "outputs": [],
      "source": [
        "# Let's try to group those values\n",
        "udf_transform_property_type = udf(transform_property_type)\n",
        "airbnb_df = airbnb_df.withColumn('property_type', udf_transform_property_type('property_type'))"
      ]
    },
    {
      "cell_type": "code",
      "execution_count": 50,
      "metadata": {
        "colab": {
          "base_uri": "https://localhost:8080/"
        },
        "id": "Bwx-d1JvJ3Nf",
        "outputId": "9e55c3d0-33d1-49fa-99dd-867e09437981"
      },
      "outputs": [
        {
          "name": "stdout",
          "output_type": "stream",
          "text": [
            "+-------------+--------+\n",
            "|property_type|count(1)|\n",
            "+-------------+--------+\n",
            "|            0|  216870|\n",
            "|            1|   85183|\n",
            "|            2|    2505|\n",
            "|            3|    1055|\n",
            "+-------------+--------+\n",
            "\n"
          ]
        }
      ],
      "source": [
        "# Print all unique property_type in the dataset\n",
        "airbnb_df.groupBy(\"property_type\").agg(count('*')).orderBy('count(1)', ascending=False).show()"
      ]
    },
    {
      "cell_type": "code",
      "execution_count": 51,
      "metadata": {
        "colab": {
          "base_uri": "https://localhost:8080/"
        },
        "id": "iq6sObRSgJtH",
        "outputId": "5f1acc14-e343-4ffd-e99b-f37b33ad3dbd"
      },
      "outputs": [
        {
          "data": {
            "text/plain": [
              "[Row(room_type='Shared room'),\n",
              " Row(room_type='Hotel room'),\n",
              " Row(room_type='Entire home/apt'),\n",
              " Row(room_type='Private room')]"
            ]
          },
          "execution_count": 51,
          "metadata": {},
          "output_type": "execute_result"
        }
      ],
      "source": [
        "# Print \"room_type\" unique values\n",
        "airbnb_df.select('room_type').distinct().collect()"
      ]
    },
    {
      "cell_type": "code",
      "execution_count": 52,
      "metadata": {
        "colab": {
          "base_uri": "https://localhost:8080/"
        },
        "id": "SkuD_QFFKLmd",
        "outputId": "5365d155-eae6-4d73-c13a-1b1f18979480"
      },
      "outputs": [
        {
          "name": "stdout",
          "output_type": "stream",
          "text": [
            "+---------------+--------+\n",
            "|      room_type|count(1)|\n",
            "+---------------+--------+\n",
            "|Entire home/apt|  218246|\n",
            "|   Private room|   82251|\n",
            "|     Hotel room|    2611|\n",
            "|    Shared room|    2505|\n",
            "+---------------+--------+\n",
            "\n"
          ]
        }
      ],
      "source": [
        "# Print all unique room_type in the dataset\n",
        "airbnb_df.groupBy(\"room_type\").agg(count('*')).orderBy('count(1)', ascending=False).show()"
      ]
    },
    {
      "cell_type": "code",
      "execution_count": 53,
      "metadata": {
        "colab": {
          "base_uri": "https://localhost:8080/"
        },
        "id": "XQKcHBbZgSQ-",
        "outputId": "2070f56c-0122-44ea-9cbc-033a58b35f45"
      },
      "outputs": [
        {
          "name": "stdout",
          "output_type": "stream",
          "text": [
            "Index: 0, Label: Entire home/apt\n",
            "Index: 1, Label: Private room\n",
            "Index: 2, Label: Hotel room\n",
            "Index: 3, Label: Shared room\n"
          ]
        }
      ],
      "source": [
        "# Apply One Hot Encoder to turn string (categorical) values into numerical ones in \"room_type\"\n",
        "encoded_room_type = string_indexer(airbnb_df, 'room_type', 'room_type_enc')\n",
        "airbnb_df = column_substitution(encoded_room_type, 'room_type', 'room_type_enc', 'int')"
      ]
    },
    {
      "attachments": {},
      "cell_type": "markdown",
      "metadata": {
        "id": "02Xyb9MdKYkF"
      },
      "source": [
        "It looks like these two features are very similar, we'll eventually study the correlation and see if it is convenient to remove one of them. Let's now work with bathrooms:"
      ]
    },
    {
      "cell_type": "code",
      "execution_count": 54,
      "metadata": {
        "colab": {
          "base_uri": "https://localhost:8080/"
        },
        "id": "UBopfplPkBZ3",
        "outputId": "01566db5-07eb-4487-ec6b-97c403ad1aa1"
      },
      "outputs": [
        {
          "data": {
            "text/plain": [
              "[Row(bathrooms_text='2 shared baths'),\n",
              " Row(bathrooms_text='4 baths'),\n",
              " Row(bathrooms_text='0 baths'),\n",
              " Row(bathrooms_text='4.5 baths'),\n",
              " Row(bathrooms_text='17 baths'),\n",
              " Row(bathrooms_text='3 baths'),\n",
              " Row(bathrooms_text='26 shared baths'),\n",
              " Row(bathrooms_text='2.5 baths'),\n",
              " Row(bathrooms_text='12 shared baths'),\n",
              " Row(bathrooms_text='1.5 shared baths'),\n",
              " Row(bathrooms_text='11.5 baths'),\n",
              " Row(bathrooms_text='Private half-bath'),\n",
              " Row(bathrooms_text='1 shared bath'),\n",
              " Row(bathrooms_text='4 shared baths'),\n",
              " Row(bathrooms_text='2 baths'),\n",
              " Row(bathrooms_text='10 baths'),\n",
              " Row(bathrooms_text='8.5 shared baths'),\n",
              " Row(bathrooms_text='10.5 baths'),\n",
              " Row(bathrooms_text='7 baths'),\n",
              " Row(bathrooms_text='24 baths'),\n",
              " Row(bathrooms_text='9 shared baths'),\n",
              " Row(bathrooms_text='4.5 shared baths'),\n",
              " Row(bathrooms_text='1 private bath'),\n",
              " Row(bathrooms_text='27 shared baths'),\n",
              " Row(bathrooms_text='6 shared baths'),\n",
              " Row(bathrooms_text='Half-bath'),\n",
              " Row(bathrooms_text='7.5 shared baths'),\n",
              " Row(bathrooms_text='25 baths'),\n",
              " Row(bathrooms_text='5.5 shared baths'),\n",
              " Row(bathrooms_text='23 baths'),\n",
              " Row(bathrooms_text='7 shared baths'),\n",
              " Row(bathrooms_text='11 shared baths'),\n",
              " Row(bathrooms_text='6 baths'),\n",
              " Row(bathrooms_text='14 baths'),\n",
              " Row(bathrooms_text='13 shared baths'),\n",
              " Row(bathrooms_text='9.5 baths'),\n",
              " Row(bathrooms_text='8 baths'),\n",
              " Row(bathrooms_text='9 baths'),\n",
              " Row(bathrooms_text='6.5 shared baths'),\n",
              " Row(bathrooms_text='11 baths'),\n",
              " Row(bathrooms_text='1.5 baths'),\n",
              " Row(bathrooms_text='10 shared baths'),\n",
              " Row(bathrooms_text='12 baths'),\n",
              " Row(bathrooms_text='2.5 shared baths'),\n",
              " Row(bathrooms_text='8 shared baths'),\n",
              " Row(bathrooms_text='1 bath'),\n",
              " Row(bathrooms_text='18 baths'),\n",
              " Row(bathrooms_text='3.5 baths'),\n",
              " Row(bathrooms_text='5.5 baths'),\n",
              " Row(bathrooms_text='5 shared baths'),\n",
              " Row(bathrooms_text='6.5 baths'),\n",
              " Row(bathrooms_text='0 shared baths'),\n",
              " Row(bathrooms_text='5 baths'),\n",
              " Row(bathrooms_text='3.5 shared baths'),\n",
              " Row(bathrooms_text='Shared half-bath'),\n",
              " Row(bathrooms_text='49.5 baths'),\n",
              " Row(bathrooms_text='8.5 baths'),\n",
              " Row(bathrooms_text='7.5 baths'),\n",
              " Row(bathrooms_text='3 shared baths'),\n",
              " Row(bathrooms_text='12.5 baths'),\n",
              " Row(bathrooms_text='22 baths'),\n",
              " Row(bathrooms_text='16.5 baths'),\n",
              " Row(bathrooms_text='20 shared baths'),\n",
              " Row(bathrooms_text='50 baths'),\n",
              " Row(bathrooms_text='15 baths'),\n",
              " Row(bathrooms_text='26 baths')]"
            ]
          },
          "execution_count": 54,
          "metadata": {},
          "output_type": "execute_result"
        }
      ],
      "source": [
        "# Select unique bathroom strings\n",
        "airbnb_df.select('bathrooms_text').distinct().collect()"
      ]
    },
    {
      "cell_type": "code",
      "execution_count": 55,
      "metadata": {
        "id": "2aHxqLdghVLn"
      },
      "outputs": [],
      "source": [
        "# UTIL: Function to group bathrooms together\n",
        "def transform_bathrooms(input):\n",
        "  input_split = input.split(' ')\n",
        "  try:\n",
        "    float(input_split[0])\n",
        "    if (input_split[1] == 'shared'):\n",
        "      return input_split[0], 1\n",
        "    else:\n",
        "      return input_split[0], 0\n",
        "  except ValueError:\n",
        "    return 0.5, 0"
      ]
    },
    {
      "cell_type": "code",
      "execution_count": 56,
      "metadata": {
        "id": "cHZasRd6hR73"
      },
      "outputs": [],
      "source": [
        "# Let's try to group those values\n",
        "airbnb_df = airbnb_df.withColumn('n_bathrooms', udf(lambda value: transform_bathrooms(value)[0], StringType())('bathrooms_text')) \\\n",
        "                        .withColumn('is_bathroom_shared', udf(lambda value: transform_bathrooms(value)[1], StringType())('bathrooms_text'))"
      ]
    },
    {
      "cell_type": "code",
      "execution_count": 57,
      "metadata": {
        "colab": {
          "base_uri": "https://localhost:8080/"
        },
        "id": "sR6Dk-jdm8At",
        "outputId": "6d7d24ea-5846-4cce-9afb-0937c5e2181c"
      },
      "outputs": [
        {
          "name": "stdout",
          "output_type": "stream",
          "text": [
            "+--------------+-----------+------------------+\n",
            "|bathrooms_text|n_bathrooms|is_bathroom_shared|\n",
            "+--------------+-----------+------------------+\n",
            "|        1 bath|          1|                 0|\n",
            "| 1 shared bath|          1|                 1|\n",
            "|     1.5 baths|        1.5|                 0|\n",
            "|1 private bath|          1|                 0|\n",
            "| 1 shared bath|          1|                 1|\n",
            "|        1 bath|          1|                 0|\n",
            "|        1 bath|          1|                 0|\n",
            "|        1 bath|          1|                 0|\n",
            "|        1 bath|          1|                 0|\n",
            "| 1 shared bath|          1|                 1|\n",
            "|5 shared baths|          5|                 1|\n",
            "|        1 bath|          1|                 0|\n",
            "|        1 bath|          1|                 0|\n",
            "| 1 shared bath|          1|                 1|\n",
            "| 1 shared bath|          1|                 1|\n",
            "|        1 bath|          1|                 0|\n",
            "|        1 bath|          1|                 0|\n",
            "|        1 bath|          1|                 0|\n",
            "|        1 bath|          1|                 0|\n",
            "|     1.5 baths|        1.5|                 0|\n",
            "+--------------+-----------+------------------+\n",
            "only showing top 20 rows\n",
            "\n"
          ]
        }
      ],
      "source": [
        "# Show the result\n",
        "airbnb_df.select('bathrooms_text', 'n_bathrooms', 'is_bathroom_shared').show()"
      ]
    },
    {
      "cell_type": "code",
      "execution_count": 58,
      "metadata": {
        "id": "8n5lMztlmlLF"
      },
      "outputs": [],
      "source": [
        "# Drop the bathrooms_text column\n",
        "airbnb_df = airbnb_df.drop('bathrooms_text')"
      ]
    },
    {
      "attachments": {},
      "cell_type": "markdown",
      "metadata": {
        "id": "Qo28aj3jdvw1"
      },
      "source": [
        "Now, from the table above it is possible to notice that we have about 3500 instances that don't have the number of beds but slightly less than 20k doesn't have the number of rooms. So, instead of removing those rows, it might be the case to try to fill the missing information by making a prediction."
      ]
    },
    {
      "attachments": {},
      "cell_type": "markdown",
      "metadata": {
        "id": "k7fTeJ3v1Wl4"
      },
      "source": [
        "I firstly delete the rows where we don't have the bed information:"
      ]
    },
    {
      "cell_type": "code",
      "execution_count": 59,
      "metadata": {
        "id": "6hlko1Pcvs9I"
      },
      "outputs": [],
      "source": [
        "# Remove rows where the beds column in None\n",
        "airbnb_df = airbnb_df.filter(col('beds').isNotNull())"
      ]
    },
    {
      "cell_type": "code",
      "execution_count": 60,
      "metadata": {
        "colab": {
          "base_uri": "https://localhost:8080/"
        },
        "id": "fchsKsniu8lI",
        "outputId": "5d2e61a8-cbe5-48c8-8c3e-bcc3d3730bb2"
      },
      "outputs": [
        {
          "name": "stdout",
          "output_type": "stream",
          "text": [
            "The number of missing beds cells are: 0\n",
            "The number of missing bedrooms cells are: 22580\n"
          ]
        }
      ],
      "source": [
        "# Print again the number of beds and columns that are set to None to see the result\n",
        "print(\"The number of missing beds cells are: \" + str(airbnb_df.select(expr(\"sum(CASE WHEN beds IS NULL THEN 1 ELSE 0 END)\")).collect()[0][0]))\n",
        "print(\"The number of missing bedrooms cells are: \" + str(airbnb_df.select(expr(\"sum(CASE WHEN bedrooms IS NULL THEN 1 ELSE 0 END)\")).collect()[0][0]))"
      ]
    },
    {
      "attachments": {},
      "cell_type": "markdown",
      "metadata": {
        "id": "07z0DSFExgwp"
      },
      "source": [
        "Notice that when removing those rows, also the number of empty bedroom cells has decreased meaning that there were rows in which both 'beds' and 'bedrooms' were set to None. Now, we create a simple model to try to predict the missing 'bedroom' values based on the number of beds."
      ]
    },
    {
      "cell_type": "code",
      "execution_count": 61,
      "metadata": {
        "id": "GP5Xcw42a6Vm"
      },
      "outputs": [],
      "source": [
        "# Prepare the dataset from training the Logistic Regression model\n",
        "impute_bedrooms_data_notnull = airbnb_df.filter(col('bedrooms').isNotNull()).select('beds', 'bedrooms', 'accommodates') #Not null value for creating the model\n",
        "\n",
        "impute_bedroom_assembler = VectorAssembler(inputCols=['beds', 'accommodates'], outputCol='features') # Assembled vector with the required features\n",
        "impute_bedroom_assembled_data_notnull = impute_bedroom_assembler.transform(impute_bedrooms_data_notnull)\n",
        "impute_bedrooms_train_df, impute_bedrooms_test_df = impute_bedroom_assembled_data_notnull.randomSplit([0.75, 0.25], seed=0) #Split the dataset\n",
        "\n",
        "impute_bedrooms_train_df = impute_bedrooms_train_df.select(['features', 'bedrooms'])\n",
        "lr = LogisticRegression(featuresCol='features', labelCol='bedrooms') #Using Logistic Regression for multiclassification prediction"
      ]
    },
    {
      "cell_type": "code",
      "execution_count": 62,
      "metadata": {
        "id": "mfdJdfUZgt2w"
      },
      "outputs": [],
      "source": [
        "# Model training\n",
        "lr_model = lr.fit(impute_bedrooms_train_df)"
      ]
    },
    {
      "cell_type": "code",
      "execution_count": 63,
      "metadata": {
        "colab": {
          "base_uri": "https://localhost:8080/"
        },
        "id": "CfllHlMGelHO",
        "outputId": "0e512247-a502-4056-eef1-761581046f5e"
      },
      "outputs": [
        {
          "name": "stdout",
          "output_type": "stream",
          "text": [
            "0.7539359935431424\n"
          ]
        }
      ],
      "source": [
        "# Test the Logistic Regression model\n",
        "impute_bedrooms_test_df = impute_bedrooms_test_df.select(['features', 'bedrooms'])\n",
        "impute_bedrooms_test_df = impute_bedrooms_test_df.withColumnRenamed('bedrooms', 'label')\n",
        "impute_bedrooms_predictions = lr_model.transform(impute_bedrooms_test_df)\n",
        "evaluator = MulticlassClassificationEvaluator()\n",
        "accuracy = evaluator.evaluate(impute_bedrooms_predictions)\n",
        "print(accuracy)"
      ]
    },
    {
      "cell_type": "code",
      "execution_count": 64,
      "metadata": {
        "id": "FVDGInSajkd2"
      },
      "outputs": [],
      "source": [
        "# Use the model to predict the null values in the bedroom_columns\n",
        "impute_bedrooms_data_null = airbnb_df.filter(col('bedrooms').isNull()).select('id', 'beds', 'bedrooms', 'accommodates') # Null values to predict\n",
        "impute_bedrooms_data_null_assembler = impute_bedroom_assembler.transform(impute_bedrooms_data_null)\n",
        "impute_bedrooms_data_null_assembler = impute_bedrooms_data_null_assembler.select('features')\n",
        "impute_bedrooms_predictions = lr_model.transform(impute_bedrooms_data_null_assembler) # Prediction vector\n",
        "impute_bedrooms_predictions = impute_bedrooms_predictions.withColumn('row_id', monotonically_increasing_id()) #Add some id to the prediction column"
      ]
    },
    {
      "cell_type": "code",
      "execution_count": 65,
      "metadata": {
        "id": "PtyxttqRcG7d"
      },
      "outputs": [],
      "source": [
        "# Combine the data and fill the null values in the original dataset\n",
        "impute_bedrooms_joined_data = impute_bedrooms_data_null.withColumn('row_id', monotonically_increasing_id()).drop('bedrooms') #Add some id to the bedroom null data\n",
        "impute_bedrooms_joined_data = impute_bedrooms_joined_data.join(impute_bedrooms_predictions.withColumnRenamed('prediction', 'bedrooms_new'), on='row_id', how='left_outer') #Merge predictions and null bedroom rows\n",
        "impute_bedrooms_joined_data = airbnb_df.join(impute_bedrooms_joined_data.select('id', 'bedrooms_new'), on='id', how='left') #Fill missing bedroom in the original dataset\n",
        "impute_bedrooms_joined_data = impute_bedrooms_joined_data.withColumn('bedrooms_new', coalesce(airbnb_df['bedrooms'], impute_bedrooms_joined_data['bedrooms_new']))\n",
        "airbnb_df = column_substitution(impute_bedrooms_joined_data, 'bedrooms', 'bedrooms_new', 'int')"
      ]
    },
    {
      "attachments": {},
      "cell_type": "markdown",
      "metadata": {
        "id": "5X1JvoO5dwHl"
      },
      "source": [
        "\n",
        "\n",
        "---\n",
        "\n"
      ]
    },
    {
      "attachments": {},
      "cell_type": "markdown",
      "metadata": {
        "id": "8qYsDWnNTYqc"
      },
      "source": [
        "Now, let's analyze the cities:"
      ]
    },
    {
      "cell_type": "code",
      "execution_count": 66,
      "metadata": {
        "colab": {
          "base_uri": "https://localhost:8080/"
        },
        "id": "vD7ZGNNwSG4k",
        "outputId": "ae118837-4a4c-47af-9ebe-f2e61c92b647"
      },
      "outputs": [
        {
          "name": "stdout",
          "output_type": "stream",
          "text": [
            "+--------------------+\n",
            "|                city|\n",
            "+--------------------+\n",
            "| Vila Franca De Xira|\n",
            "|            Odivelas|\n",
            "|              Dublin|\n",
            "|              Berlin|\n",
            "|              Sintra|\n",
            "|             Cadaval|\n",
            "|   Arruda Dos Vinhos|\n",
            "|            Alenquer|\n",
            "|             Cascais|\n",
            "|              Athens|\n",
            "|                Lyon|\n",
            "|               Milan|\n",
            "|Sobral De Monte A...|\n",
            "|           Barcelona|\n",
            "|             Amadora|\n",
            "|           Amsterdam|\n",
            "|            Brussels|\n",
            "|            Azambuja|\n",
            "|               Mafra|\n",
            "|              Lisboa|\n",
            "+--------------------+\n",
            "only showing top 20 rows\n",
            "\n"
          ]
        }
      ],
      "source": [
        "# Print all unique cities in the dataset\n",
        "airbnb_df.select('city').distinct().show()"
      ]
    },
    {
      "attachments": {},
      "cell_type": "markdown",
      "metadata": {
        "id": "56G9kvQ5T4qE"
      },
      "source": [
        "As we can see, there are other cities with respect to the ones we want to take into consideration. This is due to the fact that the Lisbon dataset also contains Airbnb in the towns near Lisbon (not only the capital). Since we only want to analyze the capitals, we remove all those instances we are not interested in."
      ]
    },
    {
      "cell_type": "code",
      "execution_count": 67,
      "metadata": {
        "id": "HXV3mxJmXgo1"
      },
      "outputs": [],
      "source": [
        "# Remove towns in Lisbon region\n",
        "airbnb_df = airbnb_df.filter(~col('city').isin(['Vila Franca De Xira', 'Odivelas', 'Sintra', 'Cadaval', 'Arruda Dos Vinhos', 'Alenquer', 'Cascais', 'Sobral De Monte Agrao', 'Amadora', 'Azambuja', 'Mafra', 'Loures', 'Torres Vedras', 'Lourinh', 'Oeiras']))"
      ]
    },
    {
      "cell_type": "code",
      "execution_count": 68,
      "metadata": {
        "colab": {
          "base_uri": "https://localhost:8080/"
        },
        "id": "iJNaT1zVZLvk",
        "outputId": "fab03096-bbea-4a13-ae5b-e804bd10cc9f"
      },
      "outputs": [
        {
          "name": "stdout",
          "output_type": "stream",
          "text": [
            "+---------+\n",
            "|     city|\n",
            "+---------+\n",
            "|   Dublin|\n",
            "|   Berlin|\n",
            "|   Athens|\n",
            "|     Lyon|\n",
            "|    Milan|\n",
            "|Barcelona|\n",
            "|Amsterdam|\n",
            "| Brussels|\n",
            "|   Lisboa|\n",
            "|   Munich|\n",
            "|   Madrid|\n",
            "|   London|\n",
            "|    Paris|\n",
            "|   Vienna|\n",
            "|     Rome|\n",
            "+---------+\n",
            "\n"
          ]
        }
      ],
      "source": [
        "# Print cities again to see the result\n",
        "airbnb_df.select('city').distinct().show()"
      ]
    },
    {
      "attachments": {},
      "cell_type": "markdown",
      "metadata": {
        "id": "ToJBvl-YP4Hr"
      },
      "source": [
        "\n",
        "\n",
        "---\n",
        "\n"
      ]
    },
    {
      "attachments": {},
      "cell_type": "markdown",
      "metadata": {
        "id": "0vWyE0k9P2l5"
      },
      "source": [
        "Let's now fix the remaining columns by transforming the binary string values into numerical ones:"
      ]
    },
    {
      "cell_type": "code",
      "execution_count": 69,
      "metadata": {
        "colab": {
          "base_uri": "https://localhost:8080/"
        },
        "id": "jxS5Eq1uLIHk",
        "outputId": "84e2b0fa-155a-4e30-aee0-51fdc6cfd914"
      },
      "outputs": [
        {
          "name": "stdout",
          "output_type": "stream",
          "text": [
            "+----------------+--------+\n",
            "|has_availability|count(1)|\n",
            "+----------------+--------+\n",
            "|               t|  293592|\n",
            "|               f|    2075|\n",
            "+----------------+--------+\n",
            "\n"
          ]
        }
      ],
      "source": [
        "# Print all unique room_type in the dataset\n",
        "airbnb_df.groupBy('has_availability').agg(count('*')).orderBy('count(1)', ascending=False).show()"
      ]
    },
    {
      "cell_type": "code",
      "execution_count": 70,
      "metadata": {
        "colab": {
          "base_uri": "https://localhost:8080/"
        },
        "id": "2yt6VRV8QIdS",
        "outputId": "0d989528-e6df-4cf4-9236-a70af2a6fd71"
      },
      "outputs": [
        {
          "name": "stdout",
          "output_type": "stream",
          "text": [
            "Index: 0, Label: t\n",
            "Index: 1, Label: f\n"
          ]
        }
      ],
      "source": [
        "# Apply One Hot Encoder to turn string (categorical) values into numerical ones in \"has_availability\"\n",
        "encoded_has_availability = string_indexer(airbnb_df, 'has_availability', 'has_availability_enc')\n",
        "airbnb_df = column_substitution(encoded_has_availability, 'has_availability', 'has_availability_enc', 'int')"
      ]
    },
    {
      "cell_type": "code",
      "execution_count": 71,
      "metadata": {
        "colab": {
          "base_uri": "https://localhost:8080/"
        },
        "id": "ApujQ-sWLPkl",
        "outputId": "2f99b8d5-1030-4087-fa67-1a6e6e606636"
      },
      "outputs": [
        {
          "name": "stdout",
          "output_type": "stream",
          "text": [
            "+----------------+--------+\n",
            "|instant_bookable|count(1)|\n",
            "+----------------+--------+\n",
            "|               f|  189172|\n",
            "|               t|  106495|\n",
            "+----------------+--------+\n",
            "\n"
          ]
        }
      ],
      "source": [
        "# Print all unique room_type in the dataset\n",
        "airbnb_df.groupBy('instant_bookable').agg(count('*')).orderBy('count(1)', ascending=False).show()"
      ]
    },
    {
      "cell_type": "code",
      "execution_count": 72,
      "metadata": {
        "colab": {
          "base_uri": "https://localhost:8080/"
        },
        "id": "fCFYSU-FQtoo",
        "outputId": "e1312062-c0c7-4ab6-fac9-f1f0804dffc0"
      },
      "outputs": [
        {
          "name": "stdout",
          "output_type": "stream",
          "text": [
            "Index: 0, Label: f\n",
            "Index: 1, Label: t\n"
          ]
        }
      ],
      "source": [
        "# Apply One Hot Encoder to turn string (categorical) values into numerical ones in \"instant_bookable\"\n",
        "encoded_instant_bookable = string_indexer(airbnb_df, 'instant_bookable', 'instant_bookable_enc')\n",
        "airbnb_df = column_substitution(encoded_instant_bookable, 'instant_bookable', 'instant_bookable_enc', 'int')"
      ]
    },
    {
      "attachments": {},
      "cell_type": "markdown",
      "metadata": {
        "id": "mFryYzoUk7XB"
      },
      "source": [
        "Normalize the availability columns so that they that have values between 0 and 1:"
      ]
    },
    {
      "cell_type": "code",
      "execution_count": 73,
      "metadata": {
        "id": "3xXzo0UFlXFi"
      },
      "outputs": [],
      "source": [
        "# Normalize availability columns\n",
        "airbnb_df = airbnb_df.withColumn('availability_365', airbnb_df['availability_365']/365)\n",
        "airbnb_df = airbnb_df.withColumn('availability_90', airbnb_df['availability_90']/90)\n",
        "airbnb_df = airbnb_df.withColumn('availability_60', airbnb_df['availability_60']/60)\n",
        "airbnb_df = airbnb_df.withColumn('availability_30', airbnb_df['availability_30']/30)"
      ]
    },
    {
      "attachments": {},
      "cell_type": "markdown",
      "metadata": {
        "id": "TxX8ws6a6oio"
      },
      "source": [
        "\n",
        "\n",
        "---\n",
        "\n"
      ]
    },
    {
      "attachments": {},
      "cell_type": "markdown",
      "metadata": {
        "id": "MGn91C_h6r24"
      },
      "source": [
        "Now, let's try to clean the amenities. As well as the \"host_verifications\" column, also the \"amenities\" one is represented by an object that is a list of (different) strings so further considerations have to be made:"
      ]
    },
    {
      "cell_type": "code",
      "execution_count": 74,
      "metadata": {
        "colab": {
          "base_uri": "https://localhost:8080/"
        },
        "id": "YrcKVB80TlPO",
        "outputId": "042a16b9-ac31-4fc5-a00c-25bd392099cf"
      },
      "outputs": [
        {
          "name": "stdout",
          "output_type": "stream",
          "text": [
            "+--------------------+\n",
            "|           amenities|\n",
            "+--------------------+\n",
            "|\"[\"\"Coffee maker\"...|\n",
            "|\"[\"\"Essentials\"\";...|\n",
            "|\"[\"\"Coffee maker\"...|\n",
            "|\"[\"\"Air condition...|\n",
            "|\"[\"\"Host greets y...|\n",
            "|\"[\"\"Hot water\"\"; ...|\n",
            "|\"[\"\"Oven\"\"; \"\"Smo...|\n",
            "|\"[\"\"Coffee maker\"...|\n",
            "|\"[\"\"Hot water\"\"; ...|\n",
            "|\"[\"\"Washer\"\"; \"\"W...|\n",
            "|\"[\"\"Smoke alarm\"\"...|\n",
            "|\"[\"\"Hot water\"\"; ...|\n",
            "|\"[\"\"Shampoo\"\"; \"\"...|\n",
            "|\"[\"\"Shared patio ...|\n",
            "|\"[\"\"Laundromat ne...|\n",
            "|\"[\"\"Shampoo\"\"; \"\"...|\n",
            "|\"[\"\"City skyline ...|\n",
            "|\"[\"\"Coffee maker\"...|\n",
            "|\"[\"\"Coffee maker\"...|\n",
            "|\"[\"\"Coffee maker\"...|\n",
            "+--------------------+\n",
            "only showing top 20 rows\n",
            "\n"
          ]
        }
      ],
      "source": [
        "# Print the amenities column\n",
        "airbnb_df.select('amenities').show()"
      ]
    },
    {
      "cell_type": "code",
      "execution_count": 75,
      "metadata": {
        "id": "MMXV0r9LTkSV"
      },
      "outputs": [],
      "source": [
        "# UTIL: Parse \"amenities\" column\n",
        "def parse_amenities(input):\n",
        "  return [x.strip() for x in input.replace('[', '').replace(']', '').replace('\"', '').replace('{','').replace('}', '').replace('\\\\', '').replace('/', '').replace('-', '').replace(':', '').replace('.', '').replace(',', '').replace('(', '').replace(')', '').replace('*', '').replace('%', '').replace('u2019s', '').replace('u2019n', '').replace('u2013', '').lower().split(';')]"
      ]
    },
    {
      "cell_type": "code",
      "execution_count": 76,
      "metadata": {
        "id": "hVXU8k1xTkSe"
      },
      "outputs": [],
      "source": [
        "# Print unique values in amenities column\n",
        "unique_amenities_values, unique_amenities_counts = np.unique(np.concatenate(np.array(airbnb_df.select('amenities').limit(50000).rdd.map(lambda x: parse_amenities(x[0])).collect(), dtype=object)), axis=0, return_counts=True)"
      ]
    },
    {
      "cell_type": "code",
      "execution_count": 77,
      "metadata": {
        "id": "DTMxzZrBPvUJ"
      },
      "outputs": [],
      "source": [
        "# Sort the values to understand which are the most common amenities\n",
        "sorted_indices = np.argsort(unique_amenities_counts)[::-1]\n",
        "sorted_values = unique_amenities_values[sorted_indices]\n",
        "sorted_counts = unique_amenities_counts[sorted_indices]"
      ]
    },
    {
      "cell_type": "code",
      "execution_count": 78,
      "metadata": {
        "colab": {
          "base_uri": "https://localhost:8080/"
        },
        "id": "P_RNFkhXS1it",
        "outputId": "45c8b644-135b-446a-867b-1dc44ef415f9"
      },
      "outputs": [
        {
          "name": "stdout",
          "output_type": "stream",
          "text": [
            "kitchen: 45616\n",
            "wifi: 43867\n",
            "essentials: 43464\n",
            "hair dryer: 38917\n",
            "hangers: 36243\n",
            "iron: 34303\n",
            "hot water: 33987\n",
            "heating: 33980\n",
            "dishes and silverware: 33078\n",
            "refrigerator: 31412\n",
            "washer: 29712\n",
            "cooking basics: 29622\n",
            "bed linens: 29074\n",
            "shampoo: 27527\n",
            "tv: 26088\n",
            "elevator: 24310\n",
            "microwave: 22849\n",
            "smoke alarm: 19614\n",
            "oven: 19551\n",
            "air conditioning: 19521\n",
            "coffee maker: 18998\n",
            "dedicated workspace: 18690\n",
            "dishwasher: 17503\n",
            "extra pillows and blankets: 15683\n",
            "long term stays allowed: 15441\n",
            "stove: 15062\n",
            "dining table: 14977\n",
            "cleaning products: 14611\n",
            "freezer: 14604\n",
            "hot water kettle: 13830\n",
            "shower gel: 13712\n",
            "first aid kit: 12728\n",
            "host greets you: 12608\n",
            "drying rack for clothing: 12512\n",
            "roomdarkening shades: 11998\n",
            "body soap: 11875\n",
            "wine glasses: 11869\n",
            "fire extinguisher: 10360\n",
            "luggage dropoff allowed: 10225\n",
            "self checkin: 9764\n",
            "toaster: 9531\n",
            "carbon monoxide alarm: 9390\n",
            "bidet: 9295\n",
            "pets allowed: 8869\n",
            "private entrance: 8788\n",
            "coffee: 8521\n",
            "baking sheet: 8355\n",
            "free washer  in unit: 8331\n",
            "private patio or balcony: 8196\n",
            "free street parking: 7838\n",
            "bathtub: 7464\n",
            "central heating: 6966\n",
            "single level home: 6913\n",
            "patio or balcony: 6767\n",
            "paid parking off premises: 6745\n",
            "dryer: 6721\n",
            "smoking allowed: 6197\n",
            "laundromat nearby: 6039\n",
            "crib: 5954\n",
            "books and reading material: 5918\n",
            "lock on bedroom door: 5692\n",
            "clothing storage closet: 5565\n",
            "paid parking on premises: 5253\n"
          ]
        }
      ],
      "source": [
        "# Let's print the most common amenities (with more then 5000 occurrences):\n",
        "for value, count in zip(sorted_values, sorted_counts):\n",
        "  if count > 5000:\n",
        "    print(f'{value}: {count}')"
      ]
    },
    {
      "attachments": {},
      "cell_type": "markdown",
      "metadata": {
        "id": "RWLuzNX7UVwV"
      },
      "source": [
        "In the previous lines, I tried to parse the \"amenities\" column to understand what are the most common amenities in all the accommodations. Unfortunately, this step could only be made using other tools such as Numpy that uses the driver memory. Now, we try to aggregate those values according to some common criteria and finally add new columns to the database that describe if the Airbnb has those amenities:"
      ]
    },
    {
      "cell_type": "code",
      "execution_count": 79,
      "metadata": {
        "id": "syMCprXJXpYr"
      },
      "outputs": [],
      "source": [
        "# Define amenities collection folder name in GDrive\n",
        "cd_amenities = GDRIVE_DATA_DIR + '/Utils/Amenities/'"
      ]
    },
    {
      "cell_type": "code",
      "execution_count": 80,
      "metadata": {
        "id": "w1QIePYCXbFb"
      },
      "outputs": [],
      "source": [
        "# Upload amenities collection from disk\n",
        "amenities_collection = {}\n",
        "\n",
        "with open(cd_amenities + 'amenities_collection.json', 'r') as file:\n",
        "    amenities_collection = json.loads(file.read())"
      ]
    },
    {
      "cell_type": "code",
      "execution_count": 81,
      "metadata": {
        "colab": {
          "base_uri": "https://localhost:8080/"
        },
        "id": "tW0dvxvOZrCk",
        "outputId": "74a0e10c-c6a9-4ee6-852c-4818114c1e2e"
      },
      "outputs": [
        {
          "data": {
            "text/plain": [
              "{'wifi': 'internet',\n",
              " 'internet': 'internet',\n",
              " 'ethernet connection': 'internet',\n",
              " 'pets allowed': 'pets_allowed',\n",
              " 'children books and toys': 'children_friendly',\n",
              " 'children dinnerware': 'children_friendly',\n",
              " 'crib': 'children_friendly',\n",
              " 'high chair': 'children_friendly',\n",
              " 'pack  playtravel crib': 'children_friendly',\n",
              " 'kitchen': 'cooking_basics',\n",
              " 'refrigerator': 'cooking_basics',\n",
              " 'dishes and silverware': 'cooking_basics',\n",
              " 'cooking basics': 'cooking_basics',\n",
              " 'microwave': 'cooking_basics',\n",
              " 'oven': 'cooking_basics',\n",
              " 'hot water kettle': 'cooking_basics',\n",
              " 'freezer': 'cooking_basics',\n",
              " 'toaster': 'cooking_basics',\n",
              " 'blender': 'cooking_basics',\n",
              " 'coffee maker': 'cooking_basics',\n",
              " 'coffee maker nespresso': 'cooking_basics',\n",
              " 'bbq grill': 'cooking_basics',\n",
              " 'iron': 'laundry_system',\n",
              " 'washer': 'laundry_system',\n",
              " 'dryer': 'laundry_system',\n",
              " 'free washer  in unit': 'laundry_system',\n",
              " 'heating': 'heating_cooling_systems',\n",
              " 'air conditioning': 'heating_cooling_systems',\n",
              " 'central heating': 'heating_cooling_systems',\n",
              " 'conditioner': 'heating_cooling_systems',\n",
              " 'smoke alarm': 'security_devices',\n",
              " 'fire extinguisher': 'security_devices',\n",
              " 'first aid kit': 'security_devices',\n",
              " 'carbon monoxide alarm': 'security_devices',\n",
              " 'security cameras on property': 'security_devices',\n",
              " 'stove': 'fireplace',\n",
              " 'indoor fireplace': 'fireplace',\n",
              " 'tv': 'tv',\n",
              " 'tv with standard cable': 'tv',\n",
              " 'long term stays allowed': 'long_term_stays_allowed',\n",
              " 'self checkin': 'self_checkin',\n",
              " 'private entrance': 'private_entrance',\n",
              " 'elevator': 'elevator',\n",
              " 'host greets you': 'host_greets_you',\n",
              " 'free parking on premises': 'free_parking',\n",
              " 'free street parking': 'free_parking',\n",
              " 'paid parking off premises': 'paid_parking',\n",
              " 'paid parking on premises': 'paid_parking',\n",
              " 'paid street parking off premises': 'paid_parking',\n",
              " 'bathtub': 'bathtub',\n",
              " 'private patio or balcony': 'patio',\n",
              " 'outdoor dining area': 'patio',\n",
              " 'outdoor furniture': 'patio',\n",
              " 'patio or balcony': 'patio',\n",
              " 'backyard': 'patio',\n",
              " 'garden view': 'patio',\n",
              " 'private backyard  fully fenced': 'patio',\n",
              " 'smoking allowed': 'smoking_allowed',\n",
              " 'city skyline view': 'city_skyline_view',\n",
              " 'breakfast': 'breakfast'}"
            ]
          },
          "execution_count": 81,
          "metadata": {},
          "output_type": "execute_result"
        }
      ],
      "source": [
        "# Print amenities collection that enables to aggregate amenities for category\n",
        "amenities_collection"
      ]
    },
    {
      "cell_type": "code",
      "execution_count": 82,
      "metadata": {
        "id": "MTA7sEEwrA96"
      },
      "outputs": [],
      "source": [
        "# UTIL: Return boolean values depending if an occurence has a certain the verification method\n",
        "def check_amenities_method(input):\n",
        "  airbnb_amenities = {'internet': 0, 'pets_allowed': 0, 'children_friendly': 0, 'cooking_basics': 0, 'laundry_system': 0, 'heating_cooling_systems': 0, \\\n",
        "                      'security_devices': 0, 'fireplace': 0, 'tv': 0, 'long_term_stays_allowed': 0, 'self_checkin': 0, 'private_entrance': 0, 'elevator': 0, \\\n",
        "                      'host_greets_you': 0, 'free_parking': 0, 'paid_parking': 0, 'bathtub': 0, 'patio': 0, 'smoking_allowed': 0, 'city_skyline_view': 0, \\\n",
        "                      'breakfast': 0}\n",
        "  input = parse_amenities(input)\n",
        "  for amenity in input:\n",
        "    if amenity in amenities_collection:\n",
        "      airbnb_amenities[amenities_collection[amenity]] = 1\n",
        "  return airbnb_amenities['internet'], airbnb_amenities['pets_allowed'], airbnb_amenities['children_friendly'], airbnb_amenities['cooking_basics'], \\\n",
        "  airbnb_amenities['laundry_system'], airbnb_amenities['heating_cooling_systems'], airbnb_amenities['security_devices'], airbnb_amenities['fireplace'], \\\n",
        "  airbnb_amenities['tv'], airbnb_amenities['long_term_stays_allowed'], airbnb_amenities['self_checkin'], airbnb_amenities['private_entrance'], \\\n",
        "  airbnb_amenities['elevator'], airbnb_amenities['host_greets_you'], airbnb_amenities['free_parking'], airbnb_amenities['paid_parking'], \\\n",
        "  airbnb_amenities['bathtub'], airbnb_amenities['patio'], airbnb_amenities['smoking_allowed'], airbnb_amenities['city_skyline_view'], airbnb_amenities['breakfast']\n",
        "\n",
        "udf_check_amenities_methods = udf(check_amenities_method)"
      ]
    },
    {
      "cell_type": "code",
      "execution_count": 83,
      "metadata": {
        "id": "rrTVMquxrA-J"
      },
      "outputs": [],
      "source": [
        "# Let's try to group those values\n",
        "airbnb_df = airbnb_df.withColumn('has_internet', udf(lambda value: check_amenities_method(value)[0], IntegerType())(\"amenities\")) \\\n",
        "                      .withColumn('is_pet_friendly', udf(lambda value: check_amenities_method(value)[1], IntegerType())(\"amenities\")) \\\n",
        "                      .withColumn('is_children_friendly', udf(lambda value: check_amenities_method(value)[2], IntegerType())(\"amenities\")) \\\n",
        "                      .withColumn('has_cooking_basics', udf(lambda value: check_amenities_method(value)[3], IntegerType())(\"amenities\")) \\\n",
        "                      .withColumn('has_laundry', udf(lambda value: check_amenities_method(value)[4], IntegerType())(\"amenities\")) \\\n",
        "                      .withColumn('has_heating_cooling_systems', udf(lambda value: check_amenities_method(value)[5], IntegerType())(\"amenities\")) \\\n",
        "                      .withColumn('has_security_devices', udf(lambda value: check_amenities_method(value)[6], IntegerType())(\"amenities\")) \\\n",
        "                      .withColumn('has_fireplace', udf(lambda value: check_amenities_method(value)[7], IntegerType())(\"amenities\")) \\\n",
        "                      .withColumn('has_tv', udf(lambda value: check_amenities_method(value)[8], IntegerType())(\"amenities\")) \\\n",
        "                      .withColumn('is_long_term_stays_allowed', udf(lambda value: check_amenities_method(value)[9], IntegerType())(\"amenities\")) \\\n",
        "                      .withColumn('has_self_checkin', udf(lambda value: check_amenities_method(value)[10], IntegerType())(\"amenities\")) \\\n",
        "                      .withColumn('has_private_entrance', udf(lambda value: check_amenities_method(value)[11], IntegerType())(\"amenities\")) \\\n",
        "                      .withColumn('has_elevator', udf(lambda value: check_amenities_method(value)[12], IntegerType())(\"amenities\")) \\\n",
        "                      .withColumn('host_greets_you', udf(lambda value: check_amenities_method(value)[13], IntegerType())(\"amenities\")) \\\n",
        "                      .withColumn('has_free_parking', udf(lambda value: check_amenities_method(value)[14], IntegerType())(\"amenities\")) \\\n",
        "                      .withColumn('has_paid_parking', udf(lambda value: check_amenities_method(value)[15], IntegerType())(\"amenities\")) \\\n",
        "                      .withColumn('has_bathtub', udf(lambda value: check_amenities_method(value)[16], IntegerType())(\"amenities\")) \\\n",
        "                      .withColumn('has_patio', udf(lambda value: check_amenities_method(value)[17], IntegerType())(\"amenities\")) \\\n",
        "                      .withColumn('is_smoking_allowed', udf(lambda value: check_amenities_method(value)[18], IntegerType())(\"amenities\")) \\\n",
        "                      .withColumn('has_city_skyline_view', udf(lambda value: check_amenities_method(value)[19], IntegerType())(\"amenities\")) \\\n",
        "                      .withColumn('has_breakfast', udf(lambda value: check_amenities_method(value)[20], IntegerType())(\"amenities\"))"
      ]
    },
    {
      "cell_type": "code",
      "execution_count": 84,
      "metadata": {
        "colab": {
          "base_uri": "https://localhost:8080/"
        },
        "id": "20mrHQsTwy-8",
        "outputId": "9c37537c-09b4-4db5-c0d6-a325d23f2a52"
      },
      "outputs": [
        {
          "name": "stdout",
          "output_type": "stream",
          "text": [
            "+---+------------+---------------+------------------+-----------+---------------------------+--------------------+-------------+------+--------------------------+----------------+--------------------+------------+---------------+----------------+----------------+-----------+---------+------------------+---------------------+-------------+-----+\n",
            "| id|has_internet|is_pet_friendly|has_cooking_basics|has_laundry|has_heating_cooling_systems|has_security_devices|has_fireplace|has_tv|is_long_term_stays_allowed|has_self_checkin|has_private_entrance|has_elevator|host_greets_you|has_free_parking|has_paid_parking|has_bathtub|has_patio|is_smoking_allowed|has_city_skyline_view|has_breakfast|price|\n",
            "+---+------------+---------------+------------------+-----------+---------------------------+--------------------+-------------+------+--------------------------+----------------+--------------------+------------+---------------+----------------+----------------+-----------+---------+------------------+---------------------+-------------+-----+\n",
            "| 19|           1|              0|                 1|          1|                          1|                   0|            1|     1|                         0|               0|                   0|           0|              0|               0|               1|          0|        1|                 0|                    0|            0|  149|\n",
            "|  0|           1|              0|                 1|          1|                          0|                   0|            0|     0|                         0|               0|                   0|           1|              0|               0|               0|          0|        0|                 0|                    0|            0|   12|\n",
            "| 22|           1|              0|                 1|          1|                          1|                   0|            0|     1|                         0|               0|                   0|           0|              0|               0|               0|          0|        0|                 0|                    0|            0|   60|\n",
            "|  7|           1|              0|                 1|          1|                          1|                   0|            0|     1|                         0|               0|                   0|           0|              0|               0|               0|          0|        0|                 0|                    0|            0|   99|\n",
            "|  6|           1|              0|                 1|          1|                          0|                   0|            0|     1|                         0|               0|                   0|           0|              1|               0|               0|          0|        0|                 1|                    0|            0|   93|\n",
            "|  9|           1|              0|                 0|          0|                          1|                   0|            0|     0|                         0|               0|                   1|           1|              1|               0|               1|          0|        0|                 0|                    0|            0|   30|\n",
            "| 17|           1|              0|                 1|          1|                          1|                   1|            0|     1|                         1|               0|                   1|           1|              0|               0|               0|          0|        1|                 0|                    0|            0|  123|\n",
            "|  5|           1|              0|                 1|          1|                          1|                   0|            1|     1|                         1|               0|                   0|           1|              0|               0|               0|          1|        1|                 0|                    0|            0|  125|\n",
            "|  1|           0|              0|                 1|          0|                          0|                   0|            0|     1|                         0|               0|                   0|           1|              0|               0|               0|          0|        0|                 1|                    0|            0|   25|\n",
            "| 10|           1|              0|                 0|          1|                          0|                   0|            0|     0|                         0|               0|                   0|           0|              0|               0|               0|          0|        0|                 0|                    0|            0|   29|\n",
            "|  3|           1|              0|                 0|          1|                          1|                   1|            0|     1|                         1|               0|                   1|           0|              0|               0|               1|          0|        0|                 0|                    0|            1|   83|\n",
            "| 12|           1|              0|                 1|          1|                          1|                   1|            0|     1|                         0|               0|                   0|           0|              0|               0|               0|          0|        0|                 0|                    0|            0|  140|\n",
            "|  8|           1|              0|                 1|          1|                          1|                   0|            0|     1|                         0|               0|                   0|           1|              0|               0|               0|          0|        0|                 0|                    0|            0|  107|\n",
            "| 11|           1|              0|                 1|          1|                          1|                   0|            0|     1|                         0|               1|                   0|           0|              0|               0|               0|          0|        0|                 0|                    0|            0|  127|\n",
            "|  2|           1|              0|                 1|          1|                          1|                   1|            0|     0|                         0|               0|                   0|           1|              1|               0|               1|          0|        0|                 0|                    0|            0|  300|\n",
            "| 18|           1|              0|                 1|          1|                          1|                   0|            0|     1|                         0|               0|                   0|           1|              0|               0|               0|          0|        0|                 0|                    0|            0|  102|\n",
            "| 14|           1|              0|                 1|          1|                          1|                   0|            0|     1|                         0|               0|                   0|           0|              1|               0|               0|          0|        0|                 0|                    1|            0|   44|\n",
            "| 21|           1|              0|                 1|          1|                          1|                   0|            0|     1|                         1|               0|                   1|           1|              0|               0|               0|          0|        1|                 0|                    0|            0|   60|\n",
            "| 15|           1|              1|                 1|          1|                          1|                   0|            0|     1|                         0|               0|                   0|           0|              1|               0|               0|          0|        0|                 0|                    0|            0|  183|\n",
            "| 20|           0|              0|                 1|          1|                          1|                   1|            1|     0|                         1|               0|                   0|           0|              1|               0|               1|          0|        1|                 0|                    0|            0|   85|\n",
            "+---+------------+---------------+------------------+-----------+---------------------------+--------------------+-------------+------+--------------------------+----------------+--------------------+------------+---------------+----------------+----------------+-----------+---------+------------------+---------------------+-------------+-----+\n",
            "only showing top 20 rows\n",
            "\n"
          ]
        }
      ],
      "source": [
        "# Print the resulting columns\n",
        "amenities_result = airbnb_df.select('id', 'has_internet', 'is_pet_friendly', 'has_cooking_basics', 'has_laundry', 'has_heating_cooling_systems', 'has_security_devices', \\\n",
        "                 'has_fireplace', 'has_tv', 'is_long_term_stays_allowed', 'has_self_checkin', 'has_private_entrance', 'has_elevator', 'host_greets_you', 'has_free_parking', \\\n",
        "                 'has_paid_parking', 'has_bathtub', 'has_patio', 'is_smoking_allowed', 'has_city_skyline_view', 'has_breakfast', 'price')\n",
        "amenities_result.show()"
      ]
    },
    {
      "cell_type": "code",
      "execution_count": 85,
      "metadata": {
        "id": "AmZOXsyVBLyL"
      },
      "outputs": [],
      "source": [
        "# Drop the \"amenities\" column\n",
        "airbnb_df = airbnb_df.drop('amenities')"
      ]
    },
    {
      "attachments": {},
      "cell_type": "markdown",
      "metadata": {
        "id": "tHouBJXyDODe"
      },
      "source": [
        "Finally, price is expressed in the local currency but since we have different currencies (Euro and Sterling Pound) we put everything in the same currency. I choose to express all the prices in US dollars. I convert prices using the exchange rate from late march 2023 (when the dataset was scraped)."
      ]
    },
    {
      "cell_type": "code",
      "execution_count": 86,
      "metadata": {
        "id": "0tbcQ0tlEj9n"
      },
      "outputs": [],
      "source": [
        "# Apply exchange rate to express the price in US dollars\n",
        "airbnb_df = airbnb_df.withColumn('price', when(airbnb_df['city'] == 'London', airbnb_df['price'] * 1.25).otherwise(airbnb_df['price'] * 1.07))"
      ]
    },
    {
      "attachments": {},
      "cell_type": "markdown",
      "metadata": {
        "id": "iub227dDaHnV"
      },
      "source": [
        "### Feature Engineering"
      ]
    },
    {
      "attachments": {},
      "cell_type": "markdown",
      "metadata": {
        "id": "Ku2oAzi88rTR"
      },
      "source": [
        "So far, we didn't deal with the location columns. The information we have about the location of Airbnb are the city, the latitude, the longitude and the neighborhood. The latitude and the longitude features need a more representative value because their values are extremely similar. Also, we have to take into consideration that we deal with different European cities so latitude and longitude might not be the best features to understand if the price of a house changes depending on the location around the city.\n",
        "In order to increase the accuracy of the predictor, we could add some other features, noticing that the value of an accommodation is usually higher if it is near a station (train, metro), it is in the city center or near a point of interest (e.g. a monument). So I got the coordinates of the stations from Open Street Map and created a Python script to extract all the relevant information (Coordinates of the stations across the different cities) and finally use it to compute the closest station to the Airbnb. The same was done for the city centers and the three best point of interests across all the cities.\n"
      ]
    },
    {
      "cell_type": "code",
      "execution_count": 87,
      "metadata": {
        "id": "bpePLCD7nLzx"
      },
      "outputs": [],
      "source": [
        "# Define the transport coordinates dataset folder name in GDrive\n",
        "cd_transport = GDRIVE_DATA_DIR + '/Utils/Coordinates/Transport/'"
      ]
    },
    {
      "cell_type": "code",
      "execution_count": 88,
      "metadata": {
        "id": "uYr_7Q35MUVc"
      },
      "outputs": [],
      "source": [
        "# Open and read the station file\n",
        "all_transport = {}\n",
        "\n",
        "with open(cd_transport + 'transport_result.json', 'r', encoding='utf16') as file:\n",
        "    all_transport = json.loads(file.read())"
      ]
    },
    {
      "cell_type": "code",
      "execution_count": 89,
      "metadata": {
        "colab": {
          "base_uri": "https://localhost:8080/"
        },
        "id": "oo36LwvVM1Uc",
        "outputId": "0b4ef201-3e26-4a92-8d1f-379ef8f8b342"
      },
      "outputs": [
        {
          "name": "stdout",
          "output_type": "stream",
          "text": [
            "{'Amsterdam': [{'lat': 52.3696245, 'lon': 4.8926524}, {'lat': 52.3674019, 'lon': 4.9019192}, {'lat': 52.3613436, 'lon': 4.9073455}, {'lat': 52.3302613, 'lon': 4.9560598}, {'lat': 52.3545947, 'lon': 4.9120486}, {'lat': 52.3384028, 'lon': 4.8575769}, {'lat': 52.3726582, 'lon': 4.8352937}, {'lat': 52.3186119, 'lon': 4.9413977}, {'lat': 52.306869, 'lon': 4.9521292}, {'lat': 52.3294483, 'lon': 4.9305189}, {'lat': 52.3317318, 'lon': 4.9176266}, {'lat': 52.3545601, 'lon': 4.9118953}, {'lat': 52.3796134, 'lon': 4.8382223}, {'lat': 52.3122449, 'lon': 4.9470883}, {'lat': 52.3464656, 'lon': 4.9175567}, {'lat': 52.3113175, 'lon': 4.9843223}, {'lat': 52.3230792, 'lon': 4.9735502}, {'lat': 52.3170313, 'lon': 4.9791233}, {'lat': 52.3267669, 'lon': 4.9463398}, {'lat': 52.3235282, 'lon': 4.9364854}, {'lat': 52.3185355, 'lon': 4.9413557}, {'lat': 52.3066107, 'lon': 4.9522364}, {'lat': 52.3524713, 'lon': 4.8343026}, {'lat': 52.328939, 'lon': 4.9662522}, {'lat': 52.3399595, 'lon': 4.9210115}, {'lat': 52.3544624, 'lon': 4.9120253}, {'lat': 52.3383393, 'lon': 4.8575924}, {'lat': 52.3384751, 'lon': 4.8575709}, {'lat': 52.3713176, 'lon': 4.9008788}, {'lat': 52.3464029, 'lon': 4.8345025}, {'lat': 52.3951713, 'lon': 4.8507911}, {'lat': 52.3642921, 'lon': 4.8339612}, {'lat': 52.3067895, 'lon': 4.9520015}, {'lat': 52.3183621, 'lon': 4.9414198}, {'lat': 52.3391807, 'lon': 4.8744481}, {'lat': 52.3890161, 'lon': 4.838877}, {'lat': 52.3377124, 'lon': 4.8893261}, {'lat': 52.3774316, 'lon': 4.9009578}, {'lat': 52.3416064, 'lon': 4.8914727}, {'lat': 52.3539754, 'lon': 4.8906926}, {'lat': 52.3608169, 'lon': 4.8911646}, {'lat': 52.3889316, 'lon': 4.9187004}, {'lat': 52.4019931, 'lon': 4.9323589}, {'lat': 52.371353, 'lon': 4.9010846}, {'lat': 52.3666363, 'lon': 4.9036061}, {'lat': 52.3666905, 'lon': 4.9037527}, {'lat': 52.3714238, 'lon': 4.9009379}, {'lat': 52.3613263, 'lon': 4.9079182}, {'lat': 52.3613094, 'lon': 4.9078472}, {'lat': 52.3791977, 'lon': 4.9009058}], 'Athens': [{'lat': 37.99334, 'lon': 23.7763787}, {'lat': 37.9790317, 'lon': 23.7530087}, {'lat': 37.9761258, 'lon': 23.7471036}, {'lat': 37.9803554, 'lon': 23.7330199}, {'lat': 37.9931743, 'lon': 23.7301714}, {'lat': 37.9922822, 'lon': 23.7207199}, {'lat': 37.9858525, 'lon': 23.7213796}, {'lat': 37.9369769, 'lon': 23.9448074}, {'lat': 38.0239919, 'lon': 23.8325494}, {'lat': 37.999184, 'lon': 23.7844745}, {'lat': 37.9404334, 'lon': 23.7407042}, {'lat': 38.0026101, 'lon': 23.7140398}, {'lat': 37.9876122, 'lon': 23.6938539}, {'lat': 38.006104, 'lon': 23.6997301}, {'lat': 37.9787426, 'lon': 23.7109568}, {'lat': 37.9914342, 'lon': 23.6818195}, {'lat': 38.0238389, 'lon': 23.7360222}, {'lat': 38.0371241, 'lon': 23.7501217}, {'lat': 38.0414993, 'lon': 23.7549034}, {'lat': 38.0328448, 'lon': 23.7447123}, {'lat': 38.0200358, 'lon': 23.7317451}, {'lat': 38.0119232, 'lon': 23.7286475}, {'lat': 38.0171296, 'lon': 23.8124844}, {'lat': 38.0049099, 'lon': 23.7947085}, {'lat': 38.0217116, 'lon': 23.8207549}, {'lat': 38.0090991, 'lon': 23.8057757}, {'lat': 37.9995283, 'lon': 23.722839}, {'lat': 37.9564304, 'lon': 23.7346855}, {'lat': 37.9688593, 'lon': 23.7295312}, {'lat': 37.9576705, 'lon': 23.7283724}, {'lat': 37.9646255, 'lon': 23.7268179}, {'lat': 37.9871933, 'lon': 23.7576802}, {'lat': 37.9932117, 'lon': 23.7635768}, {'lat': 38.0736082, 'lon': 23.8082244}, {'lat': 38.0171254, 'lon': 23.6908964}, {'lat': 37.9968883, 'lon': 23.6671177}, {'lat': 37.918092, 'lon': 23.7442245}, {'lat': 37.9296605, 'lon': 23.7444679}, {'lat': 38.0128951, 'lon': 23.6957764}, {'lat': 37.9604095, 'lon': 23.6969304}, {'lat': 37.968347, 'lon': 23.7090441}, {'lat': 37.9624859, 'lon': 23.7034811}, {'lat': 37.9767658, 'lon': 23.7203289}, {'lat': 37.8925913, 'lon': 23.7471137}, {'lat': 37.9595528, 'lon': 23.6397846}, {'lat': 37.9481127, 'lon': 23.6423064}, {'lat': 37.9495601, 'lon': 23.7372326}, {'lat': 37.9130116, 'lon': 23.8958108}, {'lat': 38.045158, 'lon': 23.7929845}, {'lat': 37.9841986, 'lon': 23.8699253}, {'lat': 37.9429026, 'lon': 23.6475856}, {'lat': 38.0069885, 'lon': 23.7277049}, {'lat': 38.0462663, 'lon': 23.766037}, {'lat': 37.9030265, 'lon': 23.7454985}, {'lat': 38.0433749, 'lon': 23.7830457}, {'lat': 37.9552355, 'lon': 23.6802925}, {'lat': 38.0655977, 'lon': 23.8039921}, {'lat': 37.9481439, 'lon': 23.6434303}, {'lat': 38.0562402, 'lon': 23.804941}, {'lat': 37.9755029, 'lon': 23.7357427}, {'lat': 37.9841128, 'lon': 23.7279901}, {'lat': 38.0057615, 'lon': 23.8696043}, {'lat': 37.9899656, 'lon': 23.6593325}, {'lat': 37.9770786, 'lon': 23.6504284}, {'lat': 37.9657507, 'lon': 23.6473298}, {'lat': 37.9450534, 'lon': 23.6652663}, {'lat': 37.9760959, 'lon': 23.7256297}, {'lat': 38.0450998, 'lon': 23.7931826}], 'Barcelona': [{'lat': 41.4005798, 'lon': 2.1083034}, {'lat': 41.3433368, 'lon': 2.1451594}, {'lat': 41.3312439, 'lon': 2.0898325}, {'lat': 41.3567186, 'lon': 2.0842967}, {'lat': 41.3489389, 'lon': 2.0417321}, {'lat': 41.3581383, 'lon': 2.0703645}, {'lat': 41.3899185, 'lon': 2.1678527}, {'lat': 41.3918765, 'lon': 2.1649036}, {'lat': 41.3874646, 'lon': 2.1689776}, {'lat': 41.3363302, 'lon': 2.1408522}, {'lat': 41.3908877, 'lon': 2.1233422}, {'lat': 41.4122894, 'lon': 2.1079533}, {'lat': 41.3752261, 'lon': 2.1433495}, {'lat': 41.4141365, 'lon': 2.1057924}, {'lat': 41.3301838, 'lon': 2.1370899}, {'lat': 41.3237458, 'lon': 2.1331165}, {'lat': 41.4092608, 'lon': 2.1113284}, {'lat': 41.3314023, 'lon': 2.0901394}, {'lat': 41.3363612, 'lon': 2.0921469}, {'lat': 41.3289845, 'lon': 2.1030715}, {'lat': 41.3416561, 'lon': 2.127697}, {'lat': 41.3335696, 'lon': 2.1112293}, {'lat': 41.3755518, 'lon': 2.1289265}, {'lat': 41.4361256, 'lon': 2.2048081}, {'lat': 41.4146858, 'lon': 2.1810127}, {'lat': 41.3665823, 'lon': 2.0915183}, {'lat': 41.4417701, 'lon': 2.1664392}, {'lat': 41.3758016, 'lon': 2.1183935}, {'lat': 41.4234164, 'lon': 2.1812853}, {'lat': 41.3769264, 'lon': 2.1759867}, {'lat': 41.3839818, 'lon': 2.1449598}, {'lat': 41.4021018, 'lon': 2.1529951}, {'lat': 41.3579852, 'lon': 2.0792152}, {'lat': 41.4404408, 'lon': 2.2336924}, {'lat': 41.4296898, 'lon': 2.1603155}, {'lat': 41.3881615, 'lon': 2.1505425}, {'lat': 41.375271, 'lon': 2.1433563}, {'lat': 41.4413034, 'lon': 2.2175477}, {'lat': 41.4250282, 'lon': 2.176504}, {'lat': 41.38794, 'lon': 2.1262221}, {'lat': 41.4295504, 'lon': 2.1445379}, {'lat': 41.4355422, 'lon': 2.1483831}, {'lat': 41.4297598, 'lon': 2.193435}, {'lat': 41.4175413, 'lon': 2.1411326}, {'lat': 41.3755516, 'lon': 2.1351187}, {'lat': 41.3820364, 'lon': 2.136232}, {'lat': 41.3738133, 'lon': 2.1071207}, {'lat': 41.447355, 'lon': 2.1757834}, {'lat': 41.3688046, 'lon': 2.1285567}, {'lat': 41.378444, 'lon': 2.1453675}, {'lat': 41.4119327, 'lon': 2.1444518}, {'lat': 41.4380037, 'lon': 2.1568764}, {'lat': 41.43046, 'lon': 2.1681725}, {'lat': 41.3842442, 'lon': 2.1116863}, {'lat': 41.442733, 'lon': 2.2245758}, {'lat': 41.3841337, 'lon': 2.1308782}, {'lat': 41.3639652, 'lon': 2.0998719}, {'lat': 41.3747892, 'lon': 2.169837}, {'lat': 41.3988657, 'lon': 2.1251389}, {'lat': 41.3997143, 'lon': 2.1520847}, {'lat': 41.3573028, 'lon': 2.0705523}, {'lat': 41.3950237, 'lon': 2.1709596}, {'lat': 41.385731, 'lon': 2.1640978}, {'lat': 41.3802503, 'lon': 2.1633286}, {'lat': 41.3921143, 'lon': 2.1809092}, {'lat': 41.4000911, 'lon': 2.1684275}, {'lat': 41.3680204, 'lon': 2.1156236}, {'lat': 41.3575245, 'lon': 2.0352776}, {'lat': 41.3955498, 'lon': 2.1604573}, {'lat': 41.3932454, 'lon': 2.1575069}, {'lat': 41.3446499, 'lon': 2.1072007}, {'lat': 41.4216569, 'lon': 2.1493621}, {'lat': 41.4499467, 'lon': 2.1995389}, {'lat': 41.3509646, 'lon': 2.1109354}, {'lat': 41.3589129, 'lon': 2.102483}, {'lat': 41.3676843, 'lon': 2.1027358}, {'lat': 41.3683228, 'lon': 2.1098316}, {'lat': 41.3684057, 'lon': 2.1166305}, {'lat': 41.3726902, 'lon': 2.133268}, {'lat': 41.3687993, 'lon': 2.1286052}, {'lat': 41.3752539, 'lon': 2.1433476}, {'lat': 41.3753758, 'lon': 2.1381001}, {'lat': 41.3754812, 'lon': 2.1493272}, {'lat': 41.3792368, 'lon': 2.1545732}, {'lat': 41.4337214, 'lon': 2.2175726}, {'lat': 41.3858013, 'lon': 2.1683683}, {'lat': 41.3747456, 'lon': 2.1488327}, {'lat': 41.3609506, 'lon': 2.1103613}, {'lat': 41.4369792, 'lon': 2.1733739}, {'lat': 41.4226234, 'lon': 2.1870242}, {'lat': 41.4204532, 'lon': 2.1867491}, {'lat': 41.4212221, 'lon': 2.186586}, {'lat': 41.4295936, 'lon': 2.1749989}, {'lat': 41.4040622, 'lon': 2.173924}, {'lat': 41.4039801, 'lon': 2.1751136}, {'lat': 41.4516735, 'lon': 2.2184075}, {'lat': 41.4515878, 'lon': 2.2183919}, {'lat': 41.4297809, 'lon': 2.1836388}, {'lat': 41.4430859, 'lon': 2.190634}, {'lat': 41.3987898, 'lon': 2.119034}, {'lat': 41.3865465, 'lon': 2.170084}, {'lat': 41.4444722, 'lon': 2.2102857}, {'lat': 41.4576792, 'lon': 2.1984935}, {'lat': 41.459458, 'lon': 2.2055928}, {'lat': 41.3813934, 'lon': 2.1730637}, {'lat': 41.4489607, 'lon': 2.2442207}, {'lat': 41.4547585, 'lon': 2.2124022}, {'lat': 41.4439389, 'lon': 2.2380518}, {'lat': 41.3166593, 'lon': 2.0873951}, {'lat': 41.3218206, 'lon': 2.0935517}, {'lat': 41.3417575, 'lon': 2.1280783}, {'lat': 41.3519228, 'lon': 2.130679}, {'lat': 41.3572488, 'lon': 2.1256902}, {'lat': 41.3607212, 'lon': 2.1181989}, {'lat': 41.3858079, 'lon': 2.1178553}, {'lat': 41.3814691, 'lon': 2.141114}, {'lat': 41.3749795, 'lon': 2.1605721}, {'lat': 41.4494828, 'lon': 2.1841624}, {'lat': 41.406445, 'lon': 2.1498425}, {'lat': 41.3758387, 'lon': 2.1181985}, {'lat': 41.4353172, 'lon': 2.2278605}, {'lat': 41.4005241, 'lon': 2.1794545}, {'lat': 41.4240389, 'lon': 2.205618}, {'lat': 41.4070747, 'lon': 2.1825232}, {'lat': 41.4298896, 'lon': 2.2097745}, {'lat': 41.3679185, 'lon': 2.1394473}, {'lat': 41.361165, 'lon': 2.1301693}, {'lat': 41.3547752, 'lon': 2.1170729}, {'lat': 41.3579267, 'lon': 2.1029121}, {'lat': 41.4152191, 'lon': 2.1955939}, {'lat': 41.4510253, 'lon': 2.2079477}, {'lat': 41.3880852, 'lon': 2.1733108}, {'lat': 41.3840008, 'lon': 2.1787061}, {'lat': 41.3821171, 'lon': 2.1854822}, {'lat': 41.3866815, 'lon': 2.1929661}, {'lat': 41.3950987, 'lon': 2.1920399}, {'lat': 41.3993809, 'lon': 2.197649}, {'lat': 41.4036418, 'lon': 2.2032751}, {'lat': 41.4080147, 'lon': 2.2091094}, {'lat': 41.4117753, 'lon': 2.2166779}, {'lat': 41.4203693, 'lon': 2.2097125}, {'lat': 41.4150936, 'lon': 2.2160851}, {'lat': 41.4190565, 'lon': 2.2007307}, {'lat': 41.4101394, 'lon': 2.1869158}, {'lat': 41.3948216, 'lon': 2.1755213}, {'lat': 41.3896372, 'lon': 2.1745608}, {'lat': 41.3798895, 'lon': 2.1403215}, {'lat': 41.4013354, 'lon': 2.1474414}, {'lat': 41.403344, 'lon': 2.1430732}, {'lat': 41.4058141, 'lon': 2.1391359}, {'lat': 41.4096598, 'lon': 2.1371569}, {'lat': 41.3633432, 'lon': 2.0843303}, {'lat': 41.3717369, 'lon': 2.0997596}, {'lat': 41.4438467, 'lon': 2.1786043}, {'lat': 41.449185, 'lon': 2.182427}, {'lat': 41.4512669, 'lon': 2.1848915}, {'lat': 41.4592177, 'lon': 2.1799449}, {'lat': 41.4625511, 'lon': 2.1728664}, {'lat': 41.4609185, 'lon': 2.1745668}, {'lat': 41.4256037, 'lon': 2.1549579}, {'lat': 41.4231064, 'lon': 2.1773979}, {'lat': 41.4107312, 'lon': 2.175983}, {'lat': 41.4010671, 'lon': 2.1470799}, {'lat': 41.3976108, 'lon': 2.1311837}, {'lat': 41.3977857, 'lon': 2.1361547}, {'lat': 41.446842, 'lon': 2.2158135}, {'lat': 41.3986188, 'lon': 2.1428749}, {'lat': 41.4062666, 'lon': 2.1631882}, {'lat': 41.4160751, 'lon': 2.174074}, {'lat': 41.3514715, 'lon': 2.0706597}, {'lat': 41.3530362, 'lon': 2.0845124}, {'lat': 41.4121009, 'lon': 2.1655057}, {'lat': 41.3824863, 'lon': 2.1588888}, {'lat': 41.3949958, 'lon': 2.1862682}, {'lat': 41.4022111, 'lon': 2.1875183}, {'lat': 41.4160445, 'lon': 2.1869379}, {'lat': 41.4366293, 'lon': 2.1911382}, {'lat': 41.4487676, 'lon': 2.1937366}, {'lat': 41.3749142, 'lon': 2.1693908}, {'lat': 41.375133, 'lon': 2.1693278}, {'lat': 41.3848285, 'lon': 2.1640533}, {'lat': 41.4102828, 'lon': 2.1867259}, {'lat': 41.4236829, 'lon': 2.2051956}, {'lat': 41.4492053, 'lon': 2.182423}, {'lat': 41.3841003, 'lon': 2.1116655}, {'lat': 41.399772, 'lon': 2.1681937}, {'lat': 41.4249128, 'lon': 2.1423965}, {'lat': 41.4405041, 'lon': 2.2337073}, {'lat': 41.3571111, 'lon': 2.1251579}, {'lat': 41.3952906, 'lon': 2.1599586}, {'lat': 41.3894431, 'lon': 2.1682772}, {'lat': 41.3558512, 'lon': 2.1421622}, {'lat': 41.3604566, 'lon': 2.1386556}, {'lat': 41.3613875, 'lon': 2.1242931}, {'lat': 41.3632435, 'lon': 2.1330085}, {'lat': 41.3484877, 'lon': 2.0429512}, {'lat': 41.3758955, 'lon': 2.1120352}, {'lat': 41.3934648, 'lon': 2.1287479}, {'lat': 41.3881334, 'lon': 2.1154237}, {'lat': 41.3687818, 'lon': 2.1632318}, {'lat': 41.416459, 'lon': 2.1311043}, {'lat': 41.4213823, 'lon': 2.1194967}], 'Berlin': [{'lat': 52.4463775, 'lon': 13.5246039}, {'lat': 52.5390916, 'lon': 13.2055964}, {'lat': 52.521491, 'lon': 13.4141238}, {'lat': 52.5211791, 'lon': 13.4125859}, {'lat': 52.5211791, 'lon': 13.4125859}, {'lat': 52.5143746, 'lon': 13.3364504}, {'lat': 52.5237432, 'lon': 13.4648885}, {'lat': 52.5142146, 'lon': 13.4194925}, {'lat': 52.5180135, 'lon': 13.2844201}, {'lat': 52.4214071, 'lon': 13.1798077}, {'lat': 52.5078537, 'lon': 13.2598587}, {'lat': 52.5101503, 'lon': 13.2276304}, {'lat': 52.488627, 'lon': 13.3002415}, {'lat': 52.4882479, 'lon': 13.2610104}, {'lat': 52.3944579, 'lon': 13.1272716}, {'lat': 52.519985, 'lon': 13.3480704}, {'lat': 52.5256744, 'lon': 13.2414191}, {'lat': 52.6152148, 'lon': 13.4694647}, {'lat': 52.4986377, 'lon': 13.2702326}, {'lat': 52.5423332, 'lon': 13.3501546}, {'lat': 52.5058669, 'lon': 13.3330236}, {'lat': 52.5038223, 'lon': 13.3314365}, {'lat': 52.4920843, 'lon': 13.3310064}, {'lat': 52.4873298, 'lon': 13.3310103}, {'lat': 52.4721217, 'lon': 13.3287301}, {'lat': 52.4653254, 'lon': 13.3282601}, {'lat': 52.461481, 'lon': 13.3250946}, {'lat': 52.4567983, 'lon': 13.3209344}, {'lat': 52.5148248, 'lon': 13.3891706}, {'lat': 52.5344077, 'lon': 13.3293873}, {'lat': 52.5099869, 'lon': 13.2722217}, {'lat': 52.5162154, 'lon': 13.2592357}, {'lat': 52.511837, 'lon': 13.3105328}, {'lat': 52.5118853, 'lon': 13.3221613}, {'lat': 52.5754161, 'lon': 13.3384251}, {'lat': 52.5153554, 'lon': 13.4181732}, {'lat': 52.478987, 'lon': 13.3436736}, {'lat': 52.501288, 'lon': 13.478367}, {'lat': 52.5141126, 'lon': 13.520088}, {'lat': 52.4885755, 'lon': 13.3405436}, {'lat': 52.5358712, 'lon': 13.5355776}, {'lat': 52.5507334, 'lon': 13.5475595}, {'lat': 52.557608, 'lon': 13.5535509}, {'lat': 52.5436548, 'lon': 13.5413545}, {'lat': 52.5126122, 'lon': 13.5752134}, {'lat': 52.5120903, 'lon': 13.6104126}, {'lat': 52.4579033, 'lon': 13.6031386}, {'lat': 52.4468976, 'lon': 13.5615738}, {'lat': 52.4555293, 'lon': 13.3224998}, {'lat': 52.3917908, 'lon': 13.0672397}, {'lat': 52.5164415, 'lon': 13.3818418}, {'lat': 52.5564975, 'lon': 13.5247623}, {'lat': 52.5662755, 'lon': 13.5124988}, {'lat': 52.572982, 'lon': 13.5038322}, {'lat': 52.4242122, 'lon': 13.3746844}, {'lat': 52.4672622, 'lon': 13.4314659}, {'lat': 52.5115148, 'lon': 13.3052393}, {'lat': 52.517387, 'lon': 13.306588}, {'lat': 52.5007919, 'lon': 13.2839193}, {'lat': 52.5262465, 'lon': 13.7604458}, {'lat': 52.4895529, 'lon': 13.3501694}, {'lat': 52.5883733, 'lon': 13.3259254}, {'lat': 52.4865053, 'lon': 13.3611679}, {'lat': 52.4892983, 'lon': 13.4076671}, {'lat': 52.4929715, 'lon': 13.3706891}, {'lat': 52.5061644, 'lon': 13.5128387}, {'lat': 52.5149375, 'lon': 13.4745707}, {'lat': 52.4912895, 'lon': 13.3958247}, {'lat': 52.4938491, 'lon': 13.4618296}, {'lat': 52.5112644, 'lon': 13.242828}, {'lat': 52.6129169, 'lon': 13.2460234}, {'lat': 52.5100921, 'lon': 13.2831263}, {'lat': 52.549243, 'lon': 13.4155955}, {'lat': 52.4802953, 'lon': 13.3114364}, {'lat': 52.4573763, 'lon': 13.6232934}, {'lat': 52.4685507, 'lon': 13.5543359}, {'lat': 52.3992998, 'lon': 13.5419036}, {'lat': 52.4804671, 'lon': 13.527279}, {'lat': 52.458577, 'lon': 13.5815192}, {'lat': 52.4938868, 'lon': 13.4977302}, {'lat': 52.5052929, 'lon': 13.560878}, {'lat': 52.4996047, 'lon': 13.5465321}, {'lat': 52.5051746, 'lon': 13.3190659}, {'lat': 52.5427866, 'lon': 13.3669996}, {'lat': 52.4960247, 'lon': 13.2905555}, {'lat': 52.4781074, 'lon': 13.3415409}, {'lat': 52.4294226, 'lon': 13.7510608}, {'lat': 52.5031523, 'lon': 13.4695776}, {'lat': 52.4759806, 'lon': 13.3650726}, {'lat': 52.5491748, 'lon': 13.3900758}, {'lat': 52.5780653, 'lon': 13.4295093}, {'lat': 52.432055, 'lon': 13.1931603}, {'lat': 52.5071378, 'lon': 13.331868}, {'lat': 52.463673, 'lon': 13.3326994}, {'lat': 52.5298999, 'lon': 13.4011206}, {'lat': 52.440088, 'lon': 13.2154373}, {'lat': 52.4709704, 'lon': 13.3844457}, {'lat': 52.5322749, 'lon': 13.3878392}, {'lat': 52.4995261, 'lon': 13.3740318}, {'lat': 52.5252246, 'lon': 13.3930145}, {'lat': 52.5921981, 'lon': 13.4790655}, {'lat': 52.5922183, 'lon': 13.4791044}, {'lat': 52.5066096, 'lon': 13.2828019}, {'lat': 52.5077057, 'lon': 13.2834702}, {'lat': 52.5252949, 'lon': 13.3706843}, {'lat': 52.5488223, 'lon': 13.3883057}, {'lat': 52.4364399, 'lon': 13.2742012}, {'lat': 52.4367661, 'lon': 13.2332397}, {'lat': 52.3914035, 'lon': 13.0929636}, {'lat': 52.396844, 'lon': 13.2762483}, {'lat': 52.5449517, 'lon': 13.3794684}, {'lat': 52.5547713, 'lon': 13.3978451}, {'lat': 52.5777843, 'lon': 13.3512427}, {'lat': 52.578019, 'lon': 13.3291747}, {'lat': 52.5776294, 'lon': 13.3166204}, {'lat': 52.5881913, 'lon': 13.2896968}, {'lat': 52.410545, 'lon': 13.3827717}, {'lat': 52.4387852, 'lon': 13.3420633}, {'lat': 52.6246647, 'lon': 13.229194}, {'lat': 52.4793491, 'lon': 13.3519181}, {'lat': 52.4433056, 'lon': 13.2935862}, {'lat': 52.5107448, 'lon': 13.4351709}, {'lat': 52.5914655, 'lon': 13.4434822}, {'lat': 52.5430625, 'lon': 13.3650375}, {'lat': 52.5319419, 'lon': 13.2093454}, {'lat': 52.6174544, 'lon': 13.3075189}, {'lat': 52.6062718, 'lon': 13.321194}, {'lat': 52.597052, 'lon': 13.3342591}, {'lat': 52.5816944, 'lon': 13.3622403}, {'lat': 52.4469899, 'lon': 13.5235435}, {'lat': 52.5715004, 'lon': 13.3809904}, {'lat': 52.5447901, 'lon': 13.4259805}, {'lat': 52.5182432, 'lon': 13.6742567}, {'lat': 52.4480308, 'lon': 13.3607503}, {'lat': 52.5121459, 'lon': 13.3905632}, {'lat': 52.3915165, 'lon': 13.0672235}, {'lat': 52.434735, 'lon': 13.5415575}, {'lat': 52.4069533, 'lon': 13.5582554}, {'lat': 52.4128789, 'lon': 13.5736378}, {'lat': 52.4549058, 'lon': 13.5097653}, {'lat': 52.4674002, 'lon': 13.4898621}, {'lat': 52.4696457, 'lon': 13.4679658}, {'lat': 52.4695134, 'lon': 13.4437571}, {'lat': 52.4524146, 'lon': 13.538075}, {'lat': 52.4785887, 'lon': 13.4732395}, {'lat': 52.4729807, 'lon': 13.4556896}, {'lat': 52.3909067, 'lon': 13.5130469}, {'lat': 52.5063685, 'lon': 13.4501205}, {'lat': 52.5402462, 'lon': 13.4389887}, {'lat': 52.5498029, 'lon': 13.3531176}, {'lat': 52.5463833, 'lon': 13.3591672}, {'lat': 52.4676341, 'lon': 13.4312408}, {'lat': 52.477658, 'lon': 13.3295474}, {'lat': 52.5136227, 'lon': 13.4754364}, {'lat': 52.5050484, 'lon': 13.3045162}, {'lat': 52.5316567, 'lon': 13.3817076}, {'lat': 52.3985425, 'lon': 13.3893931}, {'lat': 52.5422898, 'lon': 13.392876}, {'lat': 52.5036623, 'lon': 13.4107479}, {'lat': 52.4930552, 'lon': 13.4220572}, {'lat': 52.4298633, 'lon': 13.3280815}, {'lat': 52.4801685, 'lon': 13.425281}, {'lat': 52.4729787, 'lon': 13.4283545}, {'lat': 52.5180981, 'lon': 13.4315264}, {'lat': 52.4574096, 'lon': 13.2897049}, {'lat': 52.5167465, 'lon': 13.4447135}, {'lat': 52.4628825, 'lon': 13.4447716}, {'lat': 52.5566893, 'lon': 13.3409843}, {'lat': 52.5035788, 'lon': 13.3814763}, {'lat': 52.5094035, 'lon': 13.3766399}, {'lat': 52.4977596, 'lon': 13.3906496}, {'lat': 52.5091586, 'lon': 13.3782147}, {'lat': 52.5251951, 'lon': 13.3693321}, {'lat': 52.5252819, 'lon': 13.3701242}, {'lat': 52.4377918, 'lon': 13.4481868}, {'lat': 52.4293213, 'lon': 13.4533376}, {'lat': 52.4246425, 'lon': 13.4626984}, {'lat': 52.41617, 'lon': 13.4953978}, {'lat': 52.4233803, 'lon': 13.4839403}, {'lat': 52.3868236, 'lon': 13.3965645}, {'lat': 52.5602382, 'lon': 13.3346178}, {'lat': 52.5632274, 'lon': 13.327129}, {'lat': 52.5668172, 'lon': 13.3126219}, {'lat': 52.5710338, 'lon': 13.3029254}, {'lat': 52.575692, 'lon': 13.2961132}, {'lat': 52.5818407, 'lon': 13.2905918}, {'lat': 52.5166047, 'lon': 13.3809897}, {'lat': 52.4685956, 'lon': 13.4418203}, {'lat': 52.5121351, 'lon': 13.5901922}, {'lat': 52.5226808, 'lon': 13.4023418}, {'lat': 52.5254666, 'lon': 13.4050194}, {'lat': 52.5204967, 'lon': 13.3868236}, {'lat': 52.5202635, 'lon': 13.3882862}, {'lat': 52.5117915, 'lon': 13.3850915}, {'lat': 52.505014, 'lon': 13.4490065}, {'lat': 52.4434481, 'lon': 13.2413921}, {'lat': 52.529482, 'lon': 13.4547803}, {'lat': 52.4707164, 'lon': 13.3415003}, {'lat': 52.4992628, 'lon': 13.4280355}, {'lat': 52.5172347, 'lon': 13.4124323}, {'lat': 52.52079, 'lon': 13.4211125}, {'lat': 52.515818, 'lon': 13.4539745}, {'lat': 52.5008341, 'lon': 13.4414625}, {'lat': 52.5362768, 'lon': 13.3444152}, {'lat': 52.536735, 'lon': 13.3425741}, {'lat': 52.4983972, 'lon': 13.40591}, {'lat': 52.4396754, 'lon': 13.3875138}, {'lat': 52.4860843, 'lon': 13.3859508}, {'lat': 52.5742433, 'lon': 13.348511}, {'lat': 52.5711895, 'lon': 13.3604739}, {'lat': 52.5645392, 'lon': 13.3639236}, {'lat': 52.5651525, 'lon': 13.3923627}, {'lat': 52.5593248, 'lon': 13.413278}, {'lat': 52.4599764, 'lon': 13.3846346}, {'lat': 52.4462674, 'lon': 13.3856905}, {'lat': 52.4920684, 'lon': 13.3721534}, {'lat': 52.4989853, 'lon': 13.4183107}, {'lat': 52.5109137, 'lon': 13.2963306}, {'lat': 52.4995972, 'lon': 13.3537297}, {'lat': 52.5112959, 'lon': 13.4041155}, {'lat': 52.4999599, 'lon': 13.3619411}, {'lat': 52.5351574, 'lon': 13.377318}, {'lat': 52.5215661, 'lon': 13.4112804}, {'lat': 52.5323899, 'lon': 13.4126861}, {'lat': 52.4945315, 'lon': 13.3090745}, {'lat': 52.4762696, 'lon': 13.4393375}, {'lat': 52.5255998, 'lon': 13.3873583}, {'lat': 52.5000028, 'lon': 13.3073226}, {'lat': 52.5338331, 'lon': 13.5964015}, {'lat': 52.5211535, 'lon': 13.5889176}, {'lat': 52.5124541, 'lon': 13.4870792}, {'lat': 52.5286152, 'lon': 13.5906369}, {'lat': 52.5514056, 'lon': 13.3671696}, {'lat': 52.503724, 'lon': 13.3748605}, {'lat': 52.4986927, 'lon': 13.383123}, {'lat': 52.5522617, 'lon': 13.3814583}, {'lat': 52.5147399, 'lon': 13.4644405}, {'lat': 52.5384335, 'lon': 13.633123}, {'lat': 52.5713397, 'lon': 13.5656581}, {'lat': 52.4975858, 'lon': 13.3632209}, {'lat': 52.5133502, 'lon': 13.395591}, {'lat': 52.4655217, 'lon': 13.3856299}, {'lat': 52.4537449, 'lon': 13.3844659}, {'lat': 52.4941308, 'lon': 13.3886168}, {'lat': 52.4780189, 'lon': 13.3862561}, {'lat': 52.5111151, 'lon': 13.4986022}, {'lat': 52.4498912, 'lon': 13.2530752}, {'lat': 52.4503608, 'lon': 13.2690711}, {'lat': 52.4510388, 'lon': 13.281744}, {'lat': 52.5028118, 'lon': 13.3266968}, {'lat': 52.5017976, 'lon': 13.3430005}, {'lat': 52.518008, 'lon': 13.3420365}, {'lat': 52.5323818, 'lon': 13.3413533}, {'lat': 52.4520801, 'lon': 13.4492022}, {'lat': 52.4864895, 'lon': 13.3205449}, {'lat': 52.4670266, 'lon': 13.3088711}, {'lat': 52.4310735, 'lon': 13.2585888}, {'lat': 52.5571597, 'lon': 13.3732715}, {'lat': 52.5102343, 'lon': 13.4978129}, {'lat': 52.5130873, 'lon': 13.5558463}, {'lat': 52.4188742, 'lon': 13.3142499}, {'lat': 52.4099669, 'lon': 13.3085527}, {'lat': 52.448279, 'lon': 13.3537492}, {'lat': 52.4516372, 'lon': 13.6899776}, {'lat': 52.4384919, 'lon': 13.7223287}, {'lat': 52.4599231, 'lon': 13.356253}, {'lat': 52.52704, 'lon': 13.5365518}, {'lat': 52.5347721, 'lon': 13.1974528}, {'lat': 52.5201123, 'lon': 13.3729545}, {'lat': 52.5261489, 'lon': 13.3412971}, {'lat': 52.5156883, 'lon': 13.6478198}, {'lat': 52.5367748, 'lon': 13.2727638}, {'lat': 52.4977241, 'lon': 13.5229595}, {'lat': 52.5215849, 'lon': 13.4139082}, {'lat': 52.5307879, 'lon': 13.3006301}, {'lat': 52.5304034, 'lon': 13.299269}, {'lat': 52.538977, 'lon': 13.6183463}, {'lat': 52.5366883, 'lon': 13.606672}, {'lat': 52.5123348, 'lon': 13.4101754}, {'lat': 52.5010288, 'lon': 13.2847452}, {'lat': 52.5662755, 'lon': 13.4103397}, {'lat': 52.4479557, 'lon': 13.3071282}, {'lat': 52.5351709, 'lon': 13.1997742}, {'lat': 52.5038434, 'lon': 13.4853253}, {'lat': 52.4903665, 'lon': 13.3602198}, {'lat': 52.5308775, 'lon': 13.3826762}, {'lat': 52.5060447, 'lon': 13.3906125}, {'lat': 52.4831773, 'lon': 13.341972}, {'lat': 52.4961755, 'lon': 13.3431855}, {'lat': 52.4732464, 'lon': 13.314415}, {'lat': 52.4641033, 'lon': 13.2957519}, {'lat': 52.5004423, 'lon': 13.3364644}, {'lat': 52.4797961, 'lon': 13.3128835}, {'lat': 52.4940847, 'lon': 13.3247547}, {'lat': 52.4964453, 'lon': 13.3310091}, {'lat': 52.4905442, 'lon': 13.3151361}, {'lat': 52.4862857, 'lon': 13.4245531}, {'lat': 52.4816522, 'lon': 13.4341793}, {'lat': 52.4447743, 'lon': 13.4495999}, {'lat': 52.5362794, 'lon': 13.2933009}, {'lat': 52.5066749, 'lon': 13.3066372}, {'lat': 52.537652, 'lon': 13.2175358}, {'lat': 52.5379819, 'lon': 13.2478176}, {'lat': 52.5366262, 'lon': 13.2861036}, {'lat': 52.5400429, 'lon': 13.3702888}, {'lat': 52.5494885, 'lon': 13.4137114}, {'lat': 52.5786231, 'lon': 13.3335031}, {'lat': 52.5956412, 'lon': 13.3347115}, {'lat': 52.5276951, 'lon': 13.4104868}, {'lat': 52.5263437, 'lon': 13.3047721}, {'lat': 52.56678, 'lon': 13.4117203}, {'lat': 52.5387183, 'lon': 13.2330942}, {'lat': 52.5106178, 'lon': 13.3898514}, {'lat': 52.4990257, 'lon': 13.3917126}, {'lat': 52.5029812, 'lon': 13.4691195}, {'lat': 52.4922745, 'lon': 13.3678588}, {'lat': 52.520768, 'lon': 13.3866879}, {'lat': 52.4776476, 'lon': 13.3285001}, {'lat': 52.5369951, 'lon': 13.262306}, {'lat': 52.469568, 'lon': 13.385629}, {'lat': 52.5168643, 'lon': 13.2504479}, {'lat': 52.5104484, 'lon': 13.4160272}, {'lat': 52.5415154, 'lon': 13.4121769}, {'lat': 52.5374381, 'lon': 13.3966175}, {'lat': 52.5894565, 'lon': 13.2837514}, {'lat': 52.5388381, 'lon': 13.2062573}, {'lat': 52.4233264, 'lon': 13.4745668}, {'lat': 52.5208191, 'lon': 13.6999841}, {'lat': 52.476214, 'lon': 13.3651375}, {'lat': 52.5169884, 'lon': 13.38882}, {'lat': 52.5188425, 'lon': 13.4080828}, {'lat': 52.5172626, 'lon': 13.3988844}], 'Brussels': [{'lat': 50.8337292, 'lon': 4.4016642}, {'lat': 50.8185429, 'lon': 4.4041965}, {'lat': 50.8212957, 'lon': 4.4054332}, {'lat': 50.8277223, 'lon': 4.4038813}, {'lat': 50.8394624, 'lon': 4.3979237}, {'lat': 50.8428062, 'lon': 4.3818382}, {'lat': 50.8455451, 'lon': 4.36877}, {'lat': 50.8465485, 'lon': 4.3586397}, {'lat': 50.8499233, 'lon': 4.3523796}, {'lat': 50.8521404, 'lon': 4.3478425}, {'lat': 50.833342, 'lon': 4.3487828}, {'lat': 50.8352664, 'lon': 4.3544976}, {'lat': 50.8382614, 'lon': 4.3616931}, {'lat': 50.8539544, 'lon': 4.365713}, {'lat': 50.8499675, 'lon': 4.3691066}, {'lat': 50.841247, 'lon': 4.3665164}, {'lat': 50.815096, 'lon': 4.4096433}, {'lat': 50.8135301, 'lon': 4.4209192}, {'lat': 50.8573007, 'lon': 4.3513146}, {'lat': 50.8569002, 'lon': 4.325184}, {'lat': 50.8534442, 'lon': 4.3229722}, {'lat': 50.8485097, 'lon': 4.3206513}, {'lat': 50.8411736, 'lon': 4.3308225}, {'lat': 50.8452755, 'lon': 4.3242362}, {'lat': 50.8604772, 'lon': 4.3396697}, {'lat': 50.8548502, 'lon': 4.3402537}, {'lat': 50.8570847, 'lon': 4.3321841}, {'lat': 50.843756, 'lon': 4.3180457}, {'lat': 50.8396805, 'lon': 4.3124915}, {'lat': 50.8349886, 'lon': 4.305343}, {'lat': 50.8294786, 'lon': 4.3006508}, {'lat': 50.8249137, 'lon': 4.2970381}, {'lat': 50.8211173, 'lon': 4.2939154}, {'lat': 50.8162986, 'lon': 4.2896221}, {'lat': 50.8167015, 'lon': 4.2807419}, {'lat': 50.8152348, 'lon': 4.267078}, {'lat': 50.8684247, 'lon': 4.3368135}, {'lat': 50.886095, 'lon': 4.3419624}, {'lat': 50.8894885, 'lon': 4.3377665}, {'lat': 50.8968737, 'lon': 4.3359769}, {'lat': 50.8963504, 'lon': 4.327778}, {'lat': 50.8438339, 'lon': 4.3769687}, {'lat': 50.8122156, 'lon': 4.4286923}, {'lat': 50.8402731, 'lon': 4.4136974}, {'lat': 50.8424865, 'lon': 4.4184758}, {'lat': 50.8442261, 'lon': 4.4257772}, {'lat': 50.8474846, 'lon': 4.4357016}, {'lat': 50.8474288, 'lon': 4.4470948}, {'lat': 50.8489121, 'lon': 4.4585462}, {'lat': 50.8420671, 'lon': 4.4641152}, {'lat': 50.8788488, 'lon': 4.347972}, {'lat': 50.8630434, 'lon': 4.3309491}, {'lat': 50.8631917, 'lon': 4.330489}, {'lat': 50.8496906, 'lon': 4.4528546}, {'lat': 50.8456068, 'lon': 4.3622545}, {'lat': 50.837836, 'lon': 4.4075685}, {'lat': 50.8554537, 'lon': 4.3584821}, {'lat': 50.836539, 'lon': 4.3379305}, {'lat': 50.8339923, 'lon': 4.3428824}, {'lat': 50.8735372, 'lon': 4.3429602}], 'Dublin': [{'lat': 53.3482299, 'lon': -6.2288668}, {'lat': 53.3483908, 'lon': -6.2296329}, {'lat': 53.3484048, 'lon': -6.2296321}, {'lat': 53.3101424, 'lon': -6.251843}, {'lat': 53.310152, 'lon': -6.2516955}, {'lat': 53.3476431, 'lon': -6.2660494}, {'lat': 53.3468577, 'lon': -6.2730587}, {'lat': 53.346853, 'lon': -6.2738762}, {'lat': 53.3471409, 'lon': -6.277333}, {'lat': 53.347137, 'lon': -6.278126}, {'lat': 53.3478072, 'lon': -6.2863333}, {'lat': 53.3479177, 'lon': -6.2871138}, {'lat': 53.3519763, 'lon': -6.2612204}, {'lat': 53.3466133, 'lon': -6.2589752}, {'lat': 53.3164812, 'lon': -6.2534261}, {'lat': 53.3099147, 'lon': -6.2517091}, {'lat': 53.301591, 'lon': -6.2507018}, {'lat': 53.2860688, 'lon': -6.2366886}, {'lat': 53.2793978, 'lon': -6.2101538}, {'lat': 53.3333651, 'lon': -6.2626171}, {'lat': 53.3390566, 'lon': -6.2613147}, {'lat': 53.3307198, 'lon': -6.2587038}, {'lat': 53.2830317, 'lon': -6.2241937}, {'lat': 53.3366224, 'lon': -6.3072591}, {'lat': 53.3208449, 'lon': -6.2546297}, {'lat': 53.3359036, 'lon': -6.3135686}, {'lat': 53.3342735, 'lon': -6.327416}, {'lat': 53.2662801, 'lon': -6.2099918}, {'lat': 53.261144, 'lon': -6.2059396}, {'lat': 53.2540355, 'lon': -6.1699587}, {'lat': 53.2893571, 'lon': -6.3788565}, {'lat': 53.2934954, 'lon': -6.38441}, {'lat': 53.2453533, 'lon': -6.1458674}, {'lat': 53.2420601, 'lon': -6.1428525}, {'lat': 53.2506093, 'lon': -6.1549992}, {'lat': 53.3483063, 'lon': -6.2292621}, {'lat': 53.2550296, 'lon': -6.184424}, {'lat': 53.2878313, 'lon': -6.4189193}, {'lat': 53.2935359, 'lon': -6.3955398}, {'lat': 53.2842599, 'lon': -6.4245775}, {'lat': 53.2582698, 'lon': -6.1983784}, {'lat': 53.2700995, 'lon': -6.203825}, {'lat': 53.2923909, 'lon': -6.2451244}, {'lat': 53.3500971, 'lon': -6.251388}, {'lat': 53.2846862, 'lon': -6.4377359}, {'lat': 53.290994, 'lon': -6.4068506}, {'lat': 53.3478775, 'lon': -6.2867327}, {'lat': 53.3418837, 'lon': -6.293363}, {'lat': 53.3266359, 'lon': -6.3435665}, {'lat': 53.3384498, 'lon': -6.2925134}, {'lat': 53.337923, 'lon': -6.2972219}, {'lat': 53.3353824, 'lon': -6.3180819}, {'lat': 53.3168536, 'lon': -6.3698479}, {'lat': 53.3292856, 'lon': -6.3338757}, {'lat': 53.2874685, 'lon': -6.3746438}, {'lat': 53.3466535, 'lon': -6.2918069}, {'lat': 53.348827, 'lon': -6.2371518}, {'lat': 53.3036947, 'lon': -6.3653029}, {'lat': 53.3604184, 'lon': -6.2789691}, {'lat': 53.2776139, 'lon': -6.204983}, {'lat': 53.348605, 'lon': -6.2581728}, {'lat': 53.3492541, 'lon': -6.2433875}, {'lat': 53.3509039, 'lon': -6.2499702}, {'lat': 53.3495337, 'lon': -6.2475822}, {'lat': 53.2989621, 'lon': -6.3754338}, {'lat': 53.3476367, 'lon': -6.2658498}, {'lat': 53.3468955, 'lon': -6.273663}, {'lat': 53.3333557, 'lon': -6.2626937}, {'lat': 53.3476996, 'lon': -6.2652271}, {'lat': 53.330697, 'lon': -6.258738}, {'lat': 53.2923748, 'lon': -6.2451688}, {'lat': 53.2453308, 'lon': -6.1458962}, {'lat': 53.2420458, 'lon': -6.1429017}, {'lat': 53.3491832, 'lon': -6.2577573}, {'lat': 53.346326, 'lon': -6.2590268}, {'lat': 53.357098, 'lon': -6.27739}, {'lat': 53.3492308, 'lon': -6.2433914}, {'lat': 53.3540939, 'lon': -6.2737932}, {'lat': 53.3513944, 'lon': -6.2655263}, {'lat': 53.342166, 'lon': -6.257987}, {'lat': 53.2874921, 'lon': -6.3746622}, {'lat': 53.3418898, 'lon': -6.2933061}, {'lat': 53.293516, 'lon': -6.3843649}, {'lat': 53.2878132, 'lon': -6.4188906}, {'lat': 53.3453267, 'lon': -6.2582748}, {'lat': 53.3488429, 'lon': -6.2599274}, {'lat': 53.3515891, 'lon': -6.2610816}, {'lat': 53.3530703, 'lon': -6.2604649}, {'lat': 53.3471536, 'lon': -6.2777788}, {'lat': 53.326274, 'lon': -6.256152}, {'lat': 53.2776924, 'lon': -6.2049041}, {'lat': 53.3571083, 'lon': -6.2773204}, {'lat': 53.3640708, 'lon': -6.2818095}, {'lat': 53.3483938, 'lon': -6.2292374}, {'lat': 53.3483354, 'lon': -6.2292495}, {'lat': 53.3488006, 'lon': -6.2371593}, {'lat': 53.3495095, 'lon': -6.2475884}, {'lat': 53.3508988, 'lon': -6.2499225}, {'lat': 53.3500432, 'lon': -6.2514363}, {'lat': 53.3485778, 'lon': -6.2581626}, {'lat': 53.3478503, 'lon': -6.2867358}, {'lat': 53.3466571, 'lon': -6.2916785}, {'lat': 53.3466557, 'lon': -6.2917284}, {'lat': 53.338425, 'lon': -6.292507}, {'lat': 53.3378925, 'lon': -6.297221}, {'lat': 53.3365966, 'lon': -6.3072534}, {'lat': 53.2935066, 'lon': -6.3955215}, {'lat': 53.3358783, 'lon': -6.3135576}, {'lat': 53.3353624, 'lon': -6.3180778}, {'lat': 53.3342488, 'lon': -6.3274085}, {'lat': 53.3292644, 'lon': -6.3338549}, {'lat': 53.3266112, 'lon': -6.3435423}, {'lat': 53.3168523, 'lon': -6.3698977}, {'lat': 53.3036751, 'lon': -6.3652803}, {'lat': 53.2988775, 'lon': -6.3752899}, {'lat': 53.2909678, 'lon': -6.4068388}, {'lat': 53.2776671, 'lon': -6.2049294}, {'lat': 53.2505864, 'lon': -6.1550347}, {'lat': 53.2540093, 'lon': -6.1699759}, {'lat': 53.2550042, 'lon': -6.1844424}, {'lat': 53.2582459, 'lon': -6.1984067}, {'lat': 53.2611155, 'lon': -6.2059611}, {'lat': 53.2662872, 'lon': -6.2100364}, {'lat': 53.2701088, 'lon': -6.203861}, {'lat': 53.2793746, 'lon': -6.2101802}, {'lat': 53.2830013, 'lon': -6.2241975}, {'lat': 53.286048, 'lon': -6.2367381}, {'lat': 53.3015921, 'lon': -6.250756}, {'lat': 53.3099139, 'lon': -6.2517585}, {'lat': 53.3164779, 'lon': -6.253471}, {'lat': 53.3208392, 'lon': -6.254678}, {'lat': 53.3262726, 'lon': -6.2562055}, {'lat': 53.3390654, 'lon': -6.2613595}, {'lat': 53.3723365, 'lon': -6.2980835}, {'lat': 53.3514157, 'lon': -6.2657285}, {'lat': 53.3723073, 'lon': -6.2980963}, {'lat': 53.3641011, 'lon': -6.2817747}, {'lat': 53.3604282, 'lon': -6.2789041}, {'lat': 53.3420744, 'lon': -6.2579465}, {'lat': 53.3540608, 'lon': -6.273777}], 'Lisboa': [{'lat': 38.7236557, 'lon': -9.1488718}, {'lat': 38.76, 'lon': -9.1585166}, {'lat': 38.7860571, 'lon': -9.1722084}, {'lat': 38.7334371, 'lon': -9.1526366}, {'lat': 38.7072457, 'lon': -9.1336419}, {'lat': 38.7151445, 'lon': -9.1416599}, {'lat': 38.7684677, 'lon': -9.1286327}, {'lat': 38.7104671, 'lon': -9.139918}, {'lat': 38.71405, 'lon': -9.1372643}, {'lat': 38.7170515, 'lon': -9.1358108}, {'lat': 38.7239483, 'lon': -9.1350494}, {'lat': 38.7371819, 'lon': -9.1326098}, {'lat': 38.7278408, 'lon': -9.1346626}, {'lat': 38.7333408, 'lon': -9.1343522}, {'lat': 38.7598933, 'lon': -9.1668342}, {'lat': 38.7472958, 'lon': -9.1410468}, {'lat': 38.7060961, 'lon': -9.146225}, {'lat': 38.7538863, 'lon': -9.1442833}, {'lat': 38.7416335, 'lon': -9.1333247}, {'lat': 38.7136403, 'lon': -9.159315}, {'lat': 38.7090352, 'lon': -9.1533195}, {'lat': 38.7668533, 'lon': -9.1553823}, {'lat': 38.7600668, 'lon': -9.2043419}, {'lat': 38.7624202, 'lon': -9.1966556}, {'lat': 38.79326, 'lon': -9.1730002}, {'lat': 38.7796411, 'lon': -9.1594571}, {'lat': 38.7729466, 'lon': -9.1592773}, {'lat': 38.7515237, 'lon': -9.1590546}, {'lat': 38.7470474, 'lon': -9.148214}, {'lat': 38.7411137, 'lon': -9.1467947}, {'lat': 38.7344792, 'lon': -9.1450431}, {'lat': 38.7201088, 'lon': -9.1548457}, {'lat': 38.7297972, 'lon': -9.1500806}, {'lat': 38.7394453, 'lon': -9.1239422}, {'lat': 38.7475415, 'lon': -9.1176782}, {'lat': 38.7548276, 'lon': -9.1138872}, {'lat': 38.7608482, 'lon': -9.1117135}, {'lat': 38.7629382, 'lon': -9.1040538}, {'lat': 38.7678191, 'lon': -9.099972}, {'lat': 38.737684, 'lon': -9.1592473}, {'lat': 38.7420882, 'lon': -9.1689132}, {'lat': 38.7482497, 'lon': -9.1730362}, {'lat': 38.7498954, 'lon': -9.1797946}, {'lat': 38.7534253, 'lon': -9.1892531}, {'lat': 38.7592057, 'lon': -9.1926491}, {'lat': 38.7584244, 'lon': -9.2183301}, {'lat': 38.7310021, 'lon': -9.146525}, {'lat': 38.7190102, 'lon': -9.144831}, {'lat': 38.7136788, 'lon': -9.1224278}, {'lat': 38.7751551, 'lon': -9.1156265}, {'lat': 38.7748627, 'lon': -9.1029945}, {'lat': 38.7521979, 'lon': -9.2241149}, {'lat': 38.7351614, 'lon': -9.1439375}, {'lat': 38.7159968, 'lon': -9.1423098}, {'lat': 38.716011, 'lon': -9.1422819}, {'lat': 38.7684226, 'lon': -9.1282782}, {'lat': 38.7246753, 'lon': -9.1498491}, {'lat': 38.6875504, 'lon': -9.1473832}, {'lat': 38.6843536, 'lon': -9.1497024}, {'lat': 38.6824971, 'lon': -9.1522783}, {'lat': 38.6794811, 'lon': -9.157609}, {'lat': 38.6766269, 'lon': -9.1642754}, {'lat': 38.6733315, 'lon': -9.1666158}, {'lat': 38.6689505, 'lon': -9.1701484}, {'lat': 38.6662271, 'lon': -9.1799821}, {'lat': 38.6639515, 'lon': -9.1903531}, {'lat': 38.6655311, 'lon': -9.1939929}, {'lat': 38.6645341, 'lon': -9.2002863}, {'lat': 38.6636225, 'lon': -9.2071736}, {'lat': 38.6677, 'lon': -9.164807}, {'lat': 38.6643631, 'lon': -9.1600103}, {'lat': 38.6605266, 'lon': -9.1573178}], 'London': [{'lat': 51.50607, 'lon': -0.2263134}, {'lat': 51.6008355, 'lon': -0.192318}, {'lat': 51.4922264, 'lon': -0.1558767}, {'lat': 51.5084776, 'lon': 0.0639692}, {'lat': 51.4220721, 'lon': -0.2052902}, {'lat': 51.5118924, 'lon': -0.0952228}, {'lat': 51.5851618, 'lon': -0.3631762}, {'lat': 51.5922178, 'lon': -0.3348748}, {'lat': 51.5174885, 'lon': -0.2887523}, {'lat': 51.5606573, 'lon': -0.4104614}, {'lat': 51.5703765, 'lon': -0.3085949}, {'lat': 51.5624017, 'lon': -0.3038698}, {'lat': 51.4356228, 'lon': -0.1597188}, {'lat': 51.4651241, 'lon': -0.1299205}, {'lat': 51.4818339, 'lon': -0.1123953}, {'lat': 51.4882861, 'lon': -0.1058829}, {'lat': 51.4992816, 'lon': -0.1345942}, {'lat': 51.5013562, 'lon': -0.1249302}, {'lat': 51.4626818, 'lon': -0.1147325}, {'lat': 51.5867174, 'lon': -0.0416453}, {'lat': 51.4527671, 'lon': -0.1476057}, {'lat': 51.4433857, 'lon': -0.1528977}, {'lat': 51.4277387, 'lon': -0.1682905}, {'lat': 51.4182747, 'lon': -0.1778626}, {'lat': 51.4151759, 'lon': -0.1926457}, {'lat': 51.5763203, 'lon': 0.0454097}, {'lat': 51.5256284, 'lon': -0.0876094}, {'lat': 51.5815255, 'lon': -0.3166378}, {'lat': 51.530609, 'lon': -0.1239491}, {'lat': 51.472211, 'lon': -0.1225014}, {'lat': 51.5583839, 'lon': -0.1074866}, {'lat': 51.5296972, 'lon': -0.0977626}, {'lat': 51.4891886, 'lon': -0.1335498}, {'lat': 51.5087601, 'lon': 0.0549426}, {'lat': 51.5049467, 'lon': -0.0900894}, {'lat': 51.4963688, 'lon': -0.1431522}, {'lat': 51.5589708, 'lon': 0.2516815}, {'lat': 51.5636297, 'lon': -0.2800532}, {'lat': 51.5190507, 'lon': -0.079246}, {'lat': 51.5648345, 'lon': -0.1064144}, {'lat': 51.5225862, 'lon': -0.1567349}, {'lat': 51.5154795, 'lon': -0.175365}, {'lat': 51.5654371, 'lon': -0.1349977}, {'lat': 51.5173451, 'lon': -0.248137}, {'lat': 51.5808033, 'lon': 0.0215864}, {'lat': 51.5131048, 'lon': -0.0893749}, {'lat': 51.4588093, 'lon': -0.4454717}, {'lat': 51.4903477, 'lon': -0.2144055}, {'lat': 51.6164024, 'lon': -0.1332873}, {'lat': 51.5324874, 'lon': -0.1060356}, {'lat': 51.5394397, 'lon': -0.1426957}, {'lat': 51.5871881, 'lon': -0.1648137}, {'lat': 51.5776825, 'lon': -0.1458316}, {'lat': 51.5568005, 'lon': -0.138457}, {'lat': 51.5834006, 'lon': -0.2265541}, {'lat': 51.5768177, 'lon': -0.2139731}, {'lat': 51.5421177, 'lon': -0.3447996}, {'lat': 51.6082746, 'lon': -0.2101451}, {'lat': 51.6094298, 'lon': -0.1883313}, {'lat': 51.617938, 'lon': -0.185523}, {'lat': 51.5646517, 'lon': -0.3522211}, {'lat': 51.550751, 'lon': -0.3156202}, {'lat': 51.5568815, 'lon': -0.3362525}, {'lat': 51.5201935, 'lon': -0.1667636}, {'lat': 51.5195786, 'lon': -0.0606907}, {'lat': 51.5201501, 'lon': -0.0986832}, {'lat': 51.5858181, 'lon': 0.0886245}, {'lat': 51.5145148, 'lon': -0.149149}, {'lat': 51.6259439, 'lon': 0.0468161}, {'lat': 51.5181074, 'lon': -0.1123604}, {'lat': 51.6176444, 'lon': 0.0757204}, {'lat': 51.5959477, 'lon': 0.0911302}, {'lat': 51.576525, 'lon': 0.0648799}, {'lat': 51.613134, 'lon': 0.0925025}, {'lat': 51.6033138, 'lon': 0.0933827}, {'lat': 51.5253378, 'lon': -0.033435}, {'lat': 51.5106328, 'lon': -0.0861271}, {'lat': 51.6170812, 'lon': 0.0437553}, {'lat': 51.5201871, 'lon': -0.1048397}, {'lat': 51.5114642, 'lon': -0.1282641}, {'lat': 51.518043, 'lon': -0.0817735}, {'lat': 51.5113812, 'lon': -0.0903632}, {'lat': 51.5098192, 'lon': -0.1345484}, {'lat': 51.5030015, 'lon': -0.1139812}, {'lat': 51.5079664, 'lon': -0.1263945}, {'lat': 51.4948884, 'lon': -0.1005731}, {'lat': 51.5282865, 'lon': -0.1338745}, {'lat': 51.5171149, 'lon': -0.1200657}, {'lat': 51.4340563, 'lon': -0.1990432}, {'lat': 51.4941293, 'lon': -0.2357932}, {'lat': 51.5115854, 'lon': -0.1037671}, {'lat': 51.4989328, 'lon': -0.1120142}, {'lat': 51.5142477, 'lon': -0.0757186}, {'lat': 51.5824738, 'lon': -0.0749325}, {'lat': 51.4457751, 'lon': -0.2066142}, {'lat': 51.4860091, 'lon': -0.1248604}, {'lat': 51.5008623, 'lon': -0.3076815}, {'lat': 51.5351062, 'lon': 0.0339842}, {'lat': 51.4620748, 'lon': -0.1373589}, {'lat': 51.5119347, 'lon': -0.2242361}, {'lat': 51.4649887, 'lon': -0.0130109}, {'lat': 51.5185075, 'lon': -0.1787546}, {'lat': 51.5917798, 'lon': 0.0274276}, {'lat': 51.5695047, 'lon': -0.4370447}, {'lat': 51.5156185, 'lon': -0.070839}, {'lat': 51.4750837, 'lon': -0.201549}, {'lat': 51.4808834, 'lon': -0.1943493}, {'lat': 51.5311544, 'lon': 0.0166833}, {'lat': 51.5268535, 'lon': -0.024789}, {'lat': 51.5217026, 'lon': -0.0467147}, {'lat': 51.4907023, 'lon': -0.2059442}, {'lat': 51.4869765, 'lon': -0.1951854}, {'lat': 51.4953386, 'lon': -0.3254399}, {'lat': 51.5015961, 'lon': -0.160937}, {'lat': 51.4735822, 'lon': -0.3858181}, {'lat': 51.5340608, 'lon': -0.1380918}, {'lat': 51.4734727, 'lon': -0.3558944}, {'lat': 51.471307, 'lon': -0.3662332}, {'lat': 51.6028082, 'lon': -0.2640125}, {'lat': 51.4682995, 'lon': -0.2087947}, {'lat': 51.4996647, 'lon': -0.312979}, {'lat': 51.5027264, 'lon': -0.1543249}, {'lat': 51.5118458, 'lon': -0.175108}, {'lat': 51.5754985, 'lon': 0.0899693}, {'lat': 51.5097107, 'lon': -0.2881658}, {'lat': 51.5843174, 'lon': -0.2787137}, {'lat': 51.5941903, 'lon': -0.286181}, {'lat': 51.578491, 'lon': -0.3176997}, {'lat': 51.5722732, 'lon': -0.2958081}, {'lat': 51.5472307, 'lon': -0.1806964}, {'lat': 51.5795991, 'lon': -0.3531364}, {'lat': 51.5766614, 'lon': -0.3965092}, {'lat': 51.5615698, 'lon': -0.4423513}, {'lat': 51.5926589, 'lon': -0.380635}, {'lat': 51.6001534, 'lon': -0.4084575}, {'lat': 51.6107965, 'lon': -0.4237072}, {'lat': 51.5688027, 'lon': 0.0086166}, {'lat': 51.5792702, 'lon': -0.3366561}, {'lat': 51.5027051, 'lon': -0.2799643}, {'lat': 51.4940494, 'lon': -0.1730439}, {'lat': 51.5204575, 'lon': -0.1702993}, {'lat': 51.5222363, 'lon': -0.1635046}, {'lat': 51.5072143, 'lon': -0.1222409}, {'lat': 51.5089252, 'lon': -0.1961978}, {'lat': 51.5280966, 'lon': 0.0045685}, {'lat': 51.541289, 'lon': -0.0035472}, {'lat': 51.4915188, 'lon': -0.0149135}, {'lat': 51.503925, 'lon': -0.1049663}, {'lat': 51.6136623, 'lon': -0.2749555}, {'lat': 51.5501727, 'lon': -0.1388654}, {'lat': 51.5248279, 'lon': -0.1133984}, {'lat': 51.5229834, 'lon': -0.1833083}, {'lat': 51.5159715, 'lon': -0.1305125}, {'lat': 51.5051073, 'lon': -0.0209849}, {'lat': 51.4781086, 'lon': -0.0154152}, {'lat': 51.5067417, 'lon': -0.0204833}, {'lat': 51.51056, 'lon': -0.0130077}, {'lat': 51.5325414, 'lon': 0.0036092}, {'lat': 51.5376469, 'lon': -0.0001288}, {'lat': 51.5274411, 'lon': -0.0206424}, {'lat': 51.5123504, 'lon': -0.0394662}, {'lat': 51.607376, 'lon': -0.1249047}, {'lat': 51.494109, 'lon': -0.2250607}, {'lat': 51.5154195, 'lon': -0.0987321}, {'lat': 51.5565973, 'lon': -0.1784251}, {'lat': 51.5503088, 'lon': -0.1646146}, {'lat': 51.5528674, 'lon': -0.1130095}, {'lat': 51.5457077, 'lon': -0.009359}, {'lat': 51.543722, 'lon': -0.174982}, {'lat': 51.5264341, 'lon': -0.2839348}, {'lat': 51.5101068, 'lon': -0.2237557}, {'lat': 51.5901482, 'lon': -0.1027442}, {'lat': 51.4027615, 'lon': -0.1947552}, {'lat': 51.5139887, 'lon': 0.0082987}, {'lat': 51.5149803, 'lon': -0.3004067}, {'lat': 51.5230529, 'lon': -0.1242529}, {'lat': 51.548482, 'lon': -0.1183585}, {'lat': 51.5441141, 'lon': -0.1534811}, {'lat': 51.5151808, 'lon': -0.1410118}, {'lat': 51.500574, 'lon': 0.0043201}, {'lat': 51.4979299, 'lon': -0.0498405}, {'lat': 51.5182516, 'lon': -0.0890625}, {'lat': 51.497437, 'lon': -0.2094954}, {'lat': 51.5569909, 'lon': -0.3990635}, {'lat': 51.4685232, 'lon': -0.0162072}, {'lat': 51.4741638, 'lon': -0.0223933}, {'lat': 51.4959022, 'lon': -0.0144418}, {'lat': 51.5000357, 'lon': -0.0162525}, {'lat': 51.502006, 'lon': 0.0623526}, {'lat': 51.5091026, 'lon': 0.0175953}, {'lat': 51.5096341, 'lon': 0.0259614}, {'lat': 51.5094778, 'lon': 0.0331521}, {'lat': 51.5083952, 'lon': 0.0458839}, {'lat': 51.5089622, 'lon': 0.0717937}, {'lat': 51.5143713, 'lon': 0.061373}, {'lat': 51.5079378, 'lon': -0.0071843}, {'lat': 51.5093835, 'lon': -0.0021873}, {'lat': 51.5036597, 'lon': 0.048248}, {'lat': 51.5028811, 'lon': 0.0223323}, {'lat': 51.5022501, 'lon': 0.0332232}, {'lat': 51.5235769, 'lon': -0.2597818}, {'lat': 51.4921398, 'lon': -0.2233005}, {'lat': 51.5098481, 'lon': -0.0766986}, {'lat': 51.5954091, 'lon': -0.2499296}, {'lat': 51.5723003, 'lon': -0.194027}, {'lat': 51.5714026, 'lon': -0.4213375}, {'lat': 51.5752109, 'lon': -0.3714658}, {'lat': 51.5543358, 'lon': -0.250749}, {'lat': 51.4665357, 'lon': -0.4239942}, {'lat': 51.4815507, 'lon': -0.3518348}, {'lat': 51.4949692, 'lon': -0.2458881}, {'lat': 51.4951314, 'lon': -0.2546948}, {'lat': 51.4945622, 'lon': -0.2678739}, {'lat': 51.4916123, 'lon': -0.193903}, {'lat': 51.5403111, 'lon': 0.1265241}, {'lat': 51.5733973, 'lon': -0.4117997}, {'lat': 51.5484582, 'lon': -0.3695247}, {'lat': 51.5364952, 'lon': -0.3225887}, {'lat': 51.6068063, 'lon': 0.0340272}, {'lat': 51.5303098, 'lon': -0.2936453}, {'lat': 51.5582655, 'lon': 0.2347689}, {'lat': 51.5538747, 'lon': 0.2181092}, {'lat': 51.544018, 'lon': 0.1649496}, {'lat': 51.5415534, 'lon': 0.1456377}, {'lat': 51.6188526, 'lon': -0.3026271}, {'lat': 51.6080065, 'lon': -0.2947453}, {'lat': 51.549579, 'lon': 0.1974303}, {'lat': 51.5568183, 'lon': -0.0051322}, {'lat': 51.4586138, 'lon': -0.2112429}, {'lat': 51.5109659, 'lon': -0.1143345}, {'lat': 51.582893, 'lon': -0.0199941}, {'lat': 51.5408036, 'lon': -0.3000963}, {'lat': 51.5130942, 'lon': -0.1242695}, {'lat': 51.5353523, 'lon': -0.1742097}, {'lat': 51.5394005, 'lon': 0.0526042}, {'lat': 51.5246287, 'lon': -0.0123189}, {'lat': 51.5035036, 'lon': -0.0186272}, {'lat': 51.5306063, 'lon': -0.2244449}, {'lat': 51.5363567, 'lon': -0.257833}, {'lat': 51.5468194, 'lon': -0.1899646}, {'lat': 51.4977004, 'lon': -0.0643453}, {'lat': 51.5066192, 'lon': -0.1429113}, {'lat': 51.5536028, 'lon': -0.4504637}, {'lat': 51.5017564, 'lon': -0.2265662}, {'lat': 51.5043576, 'lon': -0.2183251}, {'lat': 51.5134749, 'lon': -0.2177873}, {'lat': 51.5350704, 'lon': -0.1943721}, {'lat': 51.5190222, 'lon': -0.1874439}, {'lat': 51.5122764, 'lon': -0.1883854}, {'lat': 51.5002995, 'lon': -0.1921096}, {'lat': 51.4945266, 'lon': -0.1837696}, {'lat': 51.513435, 'lon': -0.1582531}, {'lat': 51.5238146, 'lon': -0.1437048}, {'lat': 51.5247178, 'lon': -0.1385303}, {'lat': 51.5205978, 'lon': -0.1343573}, {'lat': 51.5463679, 'lon': -0.1036544}, {'lat': 51.5493524, 'lon': -0.222223}, {'lat': 51.5469889, 'lon': -0.2053385}, {'lat': 51.5183524, 'lon': -0.280413}, {'lat': 51.4632072, 'lon': -0.3004127}, {'lat': 51.4913757, 'lon': -0.2755244}, {'lat': 51.5441099, 'lon': -0.2762285}, {'lat': 51.5321956, 'lon': -0.2435041}, {'lat': 51.5519625, 'lon': -0.2390214}, {'lat': 51.5209265, 'lon': -0.2014098}, {'lat': 51.4771341, 'lon': -0.284962}, {'lat': 51.5402677, 'lon': 0.0793235}, {'lat': 51.5172639, 'lon': -0.2111019}, {'lat': 51.538266, 'lon': 0.099626}, {'lat': 51.533873, 'lon': -0.2054958}, {'lat': 51.5881223, 'lon': -0.0599366}, {'lat': 51.5071908, 'lon': -0.2055243}, {'lat': 51.5256866, 'lon': -0.1355703}, {'lat': 51.575646, 'lon': 0.0286373}, {'lat': 51.5104729, 'lon': -0.1872329}, {'lat': 51.481775, 'lon': -0.0106896}, {'lat': 51.5106288, 'lon': -0.0739505}, {'lat': 51.5236277, 'lon': -0.1466357}, {'lat': 51.5297928, 'lon': -0.1857906}, {'lat': 51.597416, 'lon': -0.1097795}, {'lat': 51.5703208, 'lon': -0.0963971}, {'lat': 51.5012094, 'lon': -0.0935834}, {'lat': 51.5338301, 'lon': -0.0135365}, {'lat': 51.5272449, 'lon': -0.054752}, {'lat': 51.5030491, 'lon': -0.0214699}, {'lat': 51.4901052, 'lon': 0.0695827}, {'lat': 51.5094025, 'lon': -0.026644}, {'lat': 51.4880683, 'lon': -0.0105052}, {'lat': 51.5205083, 'lon': 0.0043357}, {'lat': 51.5117593, 'lon': -0.0554867}, {'lat': 51.5222078, 'lon': -0.0172729}, {'lat': 51.5076791, 'lon': -0.0169979}, {'lat': 51.5152051, 'lon': -0.0141164}, {'lat': 51.5523278, 'lon': -0.2966751}, {'lat': 51.4801837, 'lon': -0.1296937}, {'lat': 51.4796154, 'lon': -0.1429709}, {'lat': 51.5043924, 'lon': -0.1475571}, {'lat': 51.5436058, 'lon': -0.1753436}, {'lat': 51.5368465, 'lon': -0.1759862}, {'lat': 51.538426, 'lon': -0.1225262}, {'lat': 51.5313119, 'lon': -0.2892087}, {'lat': 51.5177908, 'lon': -0.0652014}], 'Lyon': [{'lat': 45.7372043, 'lon': 4.8369792}, {'lat': 45.7305928, 'lon': 4.8333018}, {'lat': 45.752727, 'lon': 4.8289085}, {'lat': 45.7555351, 'lon': 4.8424232}, {'lat': 45.7600374, 'lon': 4.8257007}, {'lat': 45.7553541, 'lon': 4.8428428}, {'lat': 45.7553232, 'lon': 4.842822}, {'lat': 45.7310686, 'lon': 4.8334989}, {'lat': 45.7376127, 'lon': 4.8372862}, {'lat': 45.7166889, 'lon': 4.814489}, {'lat': 45.7573623, 'lon': 4.8330089}, {'lat': 45.760038, 'lon': 4.8259866}, {'lat': 45.7611805, 'lon': 4.9219027}, {'lat': 45.7678584, 'lon': 4.8360239}, {'lat': 45.7703153, 'lon': 4.8631473}, {'lat': 45.726717, 'lon': 4.8309648}, {'lat': 45.7663848, 'lon': 4.8054096}, {'lat': 45.745537, 'lon': 4.8714378}, {'lat': 45.769619, 'lon': 4.8533062}, {'lat': 45.7746618, 'lon': 4.8054273}, {'lat': 45.755348, 'lon': 4.8427986}, {'lat': 45.7539415, 'lon': 4.8470262}, {'lat': 45.7496883, 'lon': 4.8267918}, {'lat': 45.7384327, 'lon': 4.8865961}, {'lat': 45.7806026, 'lon': 4.8045487}, {'lat': 45.7517214, 'lon': 4.8534494}, {'lat': 45.7429728, 'lon': 4.8787162}, {'lat': 45.7475565, 'lon': 4.8650992}, {'lat': 45.7306141, 'lon': 4.8873275}, {'lat': 45.7194872, 'lon': 4.8874534}, {'lat': 45.7671656, 'lon': 4.8594397}, {'lat': 45.7615455, 'lon': 4.8572201}, {'lat': 45.752994, 'lon': 4.8290725}, {'lat': 45.7687864, 'lon': 4.8443036}, {'lat': 45.770531, 'lon': 4.8740276}, {'lat': 45.7691133, 'lon': 4.8822115}, {'lat': 45.7677765, 'lon': 4.8893766}, {'lat': 45.7656864, 'lon': 4.9007729}, {'lat': 45.7641733, 'lon': 4.908879}, {'lat': 45.7459301, 'lon': 4.8423494}, {'lat': 45.7710241, 'lon': 4.8361838}, {'lat': 45.7744827, 'lon': 4.8318139}, {'lat': 45.7852844, 'lon': 4.8325604}, {'lat': 45.7055532, 'lon': 4.8879251}, {'lat': 45.7586387, 'lon': 4.8213322}, {'lat': 45.7571457, 'lon': 4.8162851}, {'lat': 45.762381, 'lon': 4.8214507}, {'lat': 45.7706204, 'lon': 4.8645897}, {'lat': 45.7633942, 'lon': 4.8358228}, {'lat': 45.7592794, 'lon': 4.8474553}, {'lat': 45.7794495, 'lon': 4.8275059}], 'Madrid': [{'lat': 40.3851087, 'lon': -3.7603601}, {'lat': 40.303778, 'lon': -3.4473789}, {'lat': 40.4483449, 'lon': -3.7866697}, {'lat': 40.3281322, 'lon': -3.520495}, {'lat': 40.3347459, 'lon': -3.7524955}, {'lat': 40.3344306, 'lon': -3.7525121}, {'lat': 40.4996246, 'lon': -3.7093005}, {'lat': 40.3670668, 'lon': -3.5478585}, {'lat': 40.3692681, 'lon': -3.6126977}, {'lat': 40.466555, 'lon': -3.689381}, {'lat': 40.3422384, 'lon': -3.5254417}, {'lat': 40.4377242, 'lon': -3.6773792}, {'lat': 40.3455361, 'lon': -3.8126219}, {'lat': 40.3454531, 'lon': -3.8126887}, {'lat': 40.345707, 'lon': -3.811657}, {'lat': 40.3456515, 'lon': -3.8115621}, {'lat': 40.3460289, 'lon': -3.8115364}, {'lat': 40.3446295, 'lon': -3.8125248}, {'lat': 40.3498564, 'lon': -3.821575}, {'lat': 40.3495656, 'lon': -3.8210788}, {'lat': 40.3495847, 'lon': -3.8209503}, {'lat': 40.3496383, 'lon': -3.8208965}, {'lat': 40.3494488, 'lon': -3.8208098}, {'lat': 40.4204766, 'lon': -3.6864209}, {'lat': 40.3452514, 'lon': -3.8120018}, {'lat': 40.3292979, 'lon': -3.7297609}, {'lat': 40.3495034, 'lon': -3.8207757}, {'lat': 40.3447162, 'lon': -3.8129364}, {'lat': 40.3454081, 'lon': -3.8116359}, {'lat': 40.3499431, 'lon': -3.8319854}, {'lat': 40.3460095, 'lon': -3.8115032}, {'lat': 40.4761602, 'lon': -3.5834125}, {'lat': 40.4342041, 'lon': -3.6749689}, {'lat': 40.3458587, 'lon': -3.8490659}, {'lat': 40.4458416, 'lon': -3.6916991}, {'lat': 40.4608552, 'lon': -3.6982259}, {'lat': 40.4662822, 'lon': -3.6896636}, {'lat': 40.4739432, 'lon': -3.682648}, {'lat': 40.4769812, 'lon': -3.676614}, {'lat': 40.4800504, 'lon': -3.6670518}, {'lat': 40.3599901, 'lon': -3.5921171}, {'lat': 40.3635039, 'lon': -3.5991634}, {'lat': 40.3721977, 'lon': -3.6187268}, {'lat': 40.379394, 'lon': -3.6212983}, {'lat': 40.3825816, 'lon': -3.6249212}, {'lat': 40.387548, 'lon': -3.6400068}, {'lat': 40.3900497, 'lon': -3.6458127}, {'lat': 40.3916235, 'lon': -3.653876}, {'lat': 40.3930132, 'lon': -3.659194}, {'lat': 40.395963, 'lon': -3.6647621}, {'lat': 40.3980926, 'lon': -3.6689662}, {'lat': 40.4069749, 'lon': -3.6886008}, {'lat': 40.4088389, 'lon': -3.6914748}, {'lat': 40.412291, 'lon': -3.699089}, {'lat': 40.4123621, 'lon': -3.7045206}, {'lat': 40.4199123, 'lon': -3.7016189}, {'lat': 40.4262415, 'lon': -3.7010942}, {'lat': 40.4352634, 'lon': -3.6990132}, {'lat': 40.4415935, 'lon': -3.7015924}, {'lat': 40.4500867, 'lon': -3.7035098}, {'lat': 40.416938, 'lon': -3.7033901}, {'lat': 40.4645262, 'lon': -3.694999}, {'lat': 40.4545136, 'lon': -3.7027568}, {'lat': 40.4571156, 'lon': -3.6769611}, {'lat': 40.4678284, 'lon': -3.6486781}, {'lat': 40.4698205, 'lon': -3.6385808}, {'lat': 40.464, 'lon': -3.6163088}, {'lat': 40.4679143, 'lon': -3.5717593}, {'lat': 40.4758121, 'lon': -3.5826207}, {'lat': 40.4924348, 'lon': -3.5928387}, {'lat': 40.4762898, 'lon': -3.5834408}, {'lat': 40.4766992, 'lon': -3.662679}, {'lat': 40.4747276, 'lon': -3.652125}, {'lat': 40.4771257, 'lon': -3.6456986}, {'lat': 40.4745618, 'lon': -3.6396107}, {'lat': 40.4637721, 'lon': -3.6354426}, {'lat': 40.4592436, 'lon': -3.6455644}, {'lat': 40.455936, 'lon': -3.6561772}, {'lat': 40.4534311, 'lon': -3.6615049}, {'lat': 40.4482221, 'lon': -3.6678923}, {'lat': 40.4437817, 'lon': -3.6750252}, {'lat': 40.434474, 'lon': -3.6747205}, {'lat': 40.4293973, 'lon': -3.6753988}, {'lat': 40.4246991, 'lon': -3.6762001}, {'lat': 40.4251769, 'lon': -3.682539}, {'lat': 40.4253869, 'lon': -3.6869007}, {'lat': 40.4258007, 'lon': -3.6920413}, {'lat': 40.4274063, 'lon': -3.695983}, {'lat': 40.4297715, 'lon': -3.705761}, {'lat': 40.4307266, 'lon': -3.7161715}, {'lat': 40.4376477, 'lon': -3.6772962}, {'lat': 40.4034858, 'lon': -3.7609309}, {'lat': 40.3946832, 'lon': -3.7682788}, {'lat': 40.3907261, 'lon': -3.765486}, {'lat': 40.3844157, 'lon': -3.7510629}, {'lat': 40.3878172, 'lon': -3.7449835}, {'lat': 40.3887883, 'lon': -3.7400441}, {'lat': 40.3886401, 'lon': -3.7317242}, {'lat': 40.3925341, 'lon': -3.7253613}, {'lat': 40.3974458, 'lon': -3.7164041}, {'lat': 40.4020429, 'lon': -3.7119409}, {'lat': 40.4040749, 'lon': -3.7059572}, {'lat': 40.4070507, 'lon': -3.7110664}, {'lat': 40.4112911, 'lon': -3.7083094}, {'lat': 40.4179827, 'lon': -3.7094148}, {'lat': 40.4202937, 'lon': -3.7059121}, {'lat': 40.4226703, 'lon': -3.6976743}, {'lat': 40.4330422, 'lon': -3.6896897}, {'lat': 40.4326416, 'lon': -3.6795551}, {'lat': 40.4310642, 'lon': -3.6635419}, {'lat': 40.4319699, 'lon': -3.6561907}, {'lat': 40.4331142, 'lon': -3.6481458}, {'lat': 40.4350329, 'lon': -3.644171}, {'lat': 40.4379315, 'lon': -3.6377404}, {'lat': 40.4408788, 'lon': -3.6270164}, {'lat': 40.443618, 'lon': -3.6171219}, {'lat': 40.4491131, 'lon': -3.6085862}, {'lat': 40.4533798, 'lon': -3.5941978}, {'lat': 40.4575814, 'lon': -3.5879745}, {'lat': 40.4350196, 'lon': -3.719236}, {'lat': 40.4267613, 'lon': -3.7132931}, {'lat': 40.423449, 'lon': -3.7108809}, {'lat': 40.4084633, 'lon': -3.7007946}, {'lat': 40.4048124, 'lon': -3.7022732}, {'lat': 40.4030849, 'lon': -3.6947843}, {'lat': 40.3993312, 'lon': -3.6941225}, {'lat': 40.3914432, 'lon': -3.6949558}, {'lat': 40.3839505, 'lon': -3.6980105}, {'lat': 40.37546, 'lon': -3.6959057}, {'lat': 40.369987, 'lon': -3.6943864}, {'lat': 40.3601741, 'lon': -3.69343}, {'lat': 40.351034, 'lon': -3.6926258}, {'lat': 40.3416121, 'lon': -3.6934141}, {'lat': 40.4467812, 'lon': -3.7039643}, {'lat': 40.4386349, 'lon': -3.704264}, {'lat': 40.4331809, 'lon': -3.7044934}, {'lat': 40.4247733, 'lon': -3.7073851}, {'lat': 40.4204264, 'lon': -3.7085723}, {'lat': 40.4177659, 'lon': -3.6999453}, {'lat': 40.4190548, 'lon': -3.6949256}, {'lat': 40.4204626, 'lon': -3.6864269}, {'lat': 40.4226491, 'lon': -3.6803686}, {'lat': 40.4281432, 'lon': -3.6687107}, {'lat': 40.4231715, 'lon': -3.6382552}, {'lat': 40.4182411, 'lon': -3.6237899}, {'lat': 40.422449, 'lon': -3.6122237}, {'lat': 40.420447, 'lon': -3.6864129}, {'lat': 40.4269992, 'lon': -3.6494651}, {'lat': 40.417612, 'lon': -3.5345145}, {'lat': 40.4176948, 'lon': -3.5270583}, {'lat': 40.4233732, 'lon': -3.5253633}, {'lat': 40.4244898, 'lon': -3.5359662}, {'lat': 40.4251447, 'lon': -3.5479154}, {'lat': 40.42389, 'lon': -3.5619883}, {'lat': 40.4225597, 'lon': -3.5691552}, {'lat': 40.4337998, 'lon': -3.600962}, {'lat': 40.4325722, 'lon': -3.6078503}, {'lat': 40.4275001, 'lon': -3.615954}, {'lat': 40.4275549, 'lon': -3.6229906}, {'lat': 40.4286476, 'lon': -3.6328626}, {'lat': 40.4303119, 'lon': -3.6404493}, {'lat': 40.4393659, 'lon': -3.6520984}, {'lat': 40.4393064, 'lon': -3.6629009}, {'lat': 40.4393935, 'lon': -3.6717961}, {'lat': 40.4379941, 'lon': -3.6912127}, {'lat': 40.4384455, 'lon': -3.6992576}, {'lat': 40.4390433, 'lon': -3.7139784}, {'lat': 40.4462739, 'lon': -3.7131693}, {'lat': 40.4566118, 'lon': -3.7121114}, {'lat': 40.4649188, 'lon': -3.7165189}, {'lat': 40.4701887, 'lon': -3.7178808}, {'lat': 40.4759519, 'lon': -3.7160518}, {'lat': 40.4800441, 'lon': -3.7183065}, {'lat': 40.4851113, 'lon': -3.7231023}, {'lat': 40.4209619, 'lon': -3.7193334}, {'lat': 40.3410325, 'lon': -3.7117691}, {'lat': 40.3494977, 'lon': -3.8207793}, {'lat': 40.3452072, 'lon': -3.8120209}, {'lat': 40.3367045, 'lon': -3.7767659}, {'lat': 40.3280922, 'lon': -3.7723562}, {'lat': 40.3217764, 'lon': -3.7678287}, {'lat': 40.3266736, 'lon': -3.7594548}, {'lat': 40.3346303, 'lon': -3.752386}, {'lat': 40.329394, 'lon': -3.729993}, {'lat': 40.3241766, 'lon': -3.7183219}, {'lat': 40.3183334, 'lon': -3.7102212}, {'lat': 40.3126615, 'lon': -3.7216647}, {'lat': 40.3099608, 'lon': -3.7340092}, {'lat': 40.3001349, 'lon': -3.7370513}, {'lat': 40.2926727, 'lon': -3.7462326}, {'lat': 40.2886337, 'lon': -3.7567259}, {'lat': 40.2866605, 'lon': -3.7871681}, {'lat': 40.2822879, 'lon': -3.7982754}, {'lat': 40.2852204, 'lon': -3.8074481}, {'lat': 40.2858456, 'lon': -3.815823}, {'lat': 40.296741, 'lon': -3.8367671}, {'lat': 40.308995, 'lon': -3.8635764}, {'lat': 40.3163098, 'lon': -3.8744217}, {'lat': 40.3221545, 'lon': -3.8643739}, {'lat': 40.3290012, 'lon': -3.8634972}, {'lat': 40.3348569, 'lon': -3.8721732}, {'lat': 40.3292759, 'lon': -3.729814}, {'lat': 40.3992937, 'lon': -3.744626}, {'lat': 40.4048009, 'lon': -3.7452693}, {'lat': 40.4099947, 'lon': -3.7384073}, {'lat': 40.4138284, 'lon': -3.7271312}, {'lat': 40.443792, 'lon': -3.726423}, {'lat': 40.446506, 'lon': -3.7190437}, {'lat': 40.4443179, 'lon': -3.6846392}, {'lat': 40.422202, 'lon': -3.6690629}, {'lat': 40.4143958, 'lon': -3.6696729}, {'lat': 40.395717, 'lon': -3.6801095}, {'lat': 40.3929633, 'lon': -3.6884481}, {'lat': 40.3880344, 'lon': -3.7056039}, {'lat': 40.3853557, 'lon': -3.7178747}, {'lat': 40.3869292, 'lon': -3.7231777}, {'lat': 40.3929166, 'lon': -3.7409821}, {'lat': 40.3809981, 'lon': -3.7279849}, {'lat': 40.3761821, 'lon': -3.7341933}, {'lat': 40.3736594, 'lon': -3.7397923}, {'lat': 40.3721312, 'lon': -3.7517674}, {'lat': 40.3630249, 'lon': -3.7574077}, {'lat': 40.3581963, 'lon': -3.7776561}, {'lat': 40.4904848, 'lon': -3.7259013}, {'lat': 40.4674764, 'lon': -3.6805854}, {'lat': 40.4698213, 'lon': -3.696293}, {'lat': 40.4770471, 'lon': -3.7035391}, {'lat': 40.4846027, 'lon': -3.7080099}, {'lat': 40.4912103, 'lon': -3.7167116}, {'lat': 40.4005425, 'lon': -3.6352111}, {'lat': 40.4052627, 'lon': -3.6418518}, {'lat': 40.4103313, 'lon': -3.6525288}, {'lat': 40.4112849, 'lon': -3.661347}, {'lat': 40.4444834, 'lon': -3.6784632}, {'lat': 40.4183658, 'lon': -3.6781374}, {'lat': 40.4513295, 'lon': -3.6776079}, {'lat': 40.4618018, 'lon': -3.6765305}, {'lat': 40.3190333, 'lon': -3.4777889}, {'lat': 40.4012423, 'lon': -3.5957286}, {'lat': 40.4039851, 'lon': -3.6035493}, {'lat': 40.4042034, 'lon': -3.6088938}, {'lat': 40.3999118, 'lon': -3.621522}, {'lat': 40.4165056, 'lon': -3.7350405}, {'lat': 40.4523667, 'lon': -3.6907254}, {'lat': 40.4594841, 'lon': -3.6900166}, {'lat': 40.4833334, 'lon': -3.6865245}, {'lat': 40.4947348, 'lon': -3.6930692}, {'lat': 40.500966, 'lon': -3.6946891}, {'lat': 40.5053359, 'lon': -3.6959917}, {'lat': 40.5083428, 'lon': -3.6694346}, {'lat': 40.5151569, 'lon': -3.6623169}, {'lat': 40.5274337, 'lon': -3.6585237}, {'lat': 40.5320326, 'lon': -3.6354938}, {'lat': 40.5404555, 'lon': -3.6380507}, {'lat': 40.5502221, 'lon': -3.6469674}, {'lat': 40.554496, 'lon': -3.635649}, {'lat': 40.5509075, 'lon': -3.6240552}, {'lat': 40.5598448, 'lon': -3.6115488}, {'lat': 40.3497655, 'lon': -3.8073186}, {'lat': 40.3778953, 'lon': -3.7919717}, {'lat': 40.3837137, 'lon': -3.7840243}, {'lat': 40.3968629, 'lon': -3.7747975}, {'lat': 40.4078351, 'lon': -3.7531173}, {'lat': 40.5054595, 'lon': -3.6650971}, {'lat': 40.4872436, 'lon': -3.661223}, {'lat': 40.4847805, 'lon': -3.663109}, {'lat': 40.4853643, 'lon': -3.6537279}, {'lat': 40.4891668, 'lon': -3.6513796}, {'lat': 40.4934862, 'lon': -3.6558911}, {'lat': 40.4976043, 'lon': -3.6584428}, {'lat': 40.4022818, 'lon': -3.7813011}, {'lat': 40.4072202, 'lon': -3.7845032}, {'lat': 40.4104269, 'lon': -3.7875507}, {'lat': 40.4157445, 'lon': -3.7925931}, {'lat': 40.4192936, 'lon': -3.7987457}, {'lat': 40.4230677, 'lon': -3.8045876}, {'lat': 40.4305885, 'lon': -3.8075282}, {'lat': 40.4325414, 'lon': -3.801613}, {'lat': 40.4334436, 'lon': -3.7951423}, {'lat': 40.4390885, 'lon': -3.7930351}, {'lat': 40.4448182, 'lon': -3.7911721}, {'lat': 40.4078514, 'lon': -3.9040061}, {'lat': 40.4059413, 'lon': -3.8974147}, {'lat': 40.4051271, 'lon': -3.8926422}, {'lat': 40.4056393, 'lon': -3.8856939}, {'lat': 40.4071659, 'lon': -3.8800807}, {'lat': 40.4019726, 'lon': -3.8793803}, {'lat': 40.3952888, 'lon': -3.8643349}, {'lat': 40.3950215, 'lon': -3.8476925}, {'lat': 40.3942024, 'lon': -3.8380691}, {'lat': 40.397938, 'lon': -3.8357916}, {'lat': 40.3987189, 'lon': -3.816743}, {'lat': 40.3968818, 'lon': -3.8038544}, {'lat': 40.3945373, 'lon': -3.79568}, {'lat': 40.3952606, 'lon': -3.7899213}, {'lat': 40.3970933, 'lon': -3.783987}, {'lat': 40.4235572, 'lon': -3.6028437}, {'lat': 40.4292705, 'lon': -3.7019295}, {'lat': 40.4042973, 'lon': -3.6811007}, {'lat': 40.4013961, 'lon': -3.6748832}, {'lat': 40.4078121, 'lon': -3.6701194}, {'lat': 40.3364492, 'lon': -3.7405905}, {'lat': 40.4950833, 'lon': -3.7256031}, {'lat': 40.3495336, 'lon': -3.8211023}, {'lat': 40.3488374, 'lon': -3.820199}], 'Milan': [{'lat': 45.5342918, 'lon': 9.2911363}, {'lat': 45.5275053, 'lon': 9.2829619}, {'lat': 45.5197823, 'lon': 9.0873777}, {'lat': 45.5055437, 'lon': 9.1795675}, {'lat': 45.4094526, 'lon': 9.1500362}, {'lat': 45.4018117, 'lon': 9.1455762}, {'lat': 45.5216145, 'lon': 9.1682909}, {'lat': 45.5111613, 'lon': 9.2606304}, {'lat': 45.4835188, 'lon': 9.1877146}, {'lat': 45.5278793, 'lon': 9.3849335}, {'lat': 45.5254191, 'lon': 9.3758581}, {'lat': 45.4753258, 'lon': 9.2058895}, {'lat': 45.5216849, 'lon': 9.3620355}, {'lat': 45.4641385, 'lon': 9.1885548}, {'lat': 45.5201965, 'lon': 9.2749277}, {'lat': 45.4858786, 'lon': 9.2042617}, {'lat': 45.4553979, 'lon': 9.1129252}, {'lat': 45.4368888, 'lon': 9.1681331}, {'lat': 45.430014, 'lon': 9.1773223}, {'lat': 45.4163545, 'lon': 9.1556076}, {'lat': 45.4335776, 'lon': 9.2380577}, {'lat': 45.4746191, 'lon': 9.1947419}, {'lat': 45.4700892, 'lon': 9.1927671}, {'lat': 45.4794372, 'lon': 9.1979411}, {'lat': 45.4976899, 'lon': 9.1850263}, {'lat': 45.4926642, 'lon': 9.1928945}, {'lat': 45.4925839, 'lon': 9.1928456}, {'lat': 45.48983, 'lon': 9.2008456}, {'lat': 45.4845016, 'lon': 9.2032043}, {'lat': 45.4848114, 'lon': 9.2026336}, {'lat': 45.5135394, 'lon': 9.1739662}, {'lat': 45.5281283, 'lon': 9.1637084}, {'lat': 45.4628444, 'lon': 9.2782196}, {'lat': 45.4643154, 'lon': 9.2363556}, {'lat': 45.4620064, 'lon': 9.2403893}, {'lat': 45.429086, 'lon': 9.2563154}, {'lat': 45.4371382, 'lon': 9.2303777}, {'lat': 45.4427688, 'lon': 9.2185197}, {'lat': 45.4403776, 'lon': 9.2234375}, {'lat': 45.4468046, 'lon': 9.2107332}, {'lat': 45.4515333, 'lon': 9.2032066}, {'lat': 45.4562736, 'lon': 9.1955754}, {'lat': 45.4599554, 'lon': 9.1893681}, {'lat': 45.4646014, 'lon': 9.1894915}, {'lat': 45.4848401, 'lon': 9.1947909}, {'lat': 45.4835639, 'lon': 9.1867087}, {'lat': 45.4844482, 'lon': 9.2356061}, {'lat': 45.4808531, 'lon': 9.2252588}, {'lat': 45.4852129, 'lon': 9.2157423}, {'lat': 45.4842149, 'lon': 9.2158851}, {'lat': 45.4853047, 'lon': 9.2094139}, {'lat': 45.5048602, 'lon': 9.2477628}, {'lat': 45.499541, 'lon': 9.2407696}, {'lat': 45.4912082, 'lon': 9.2370179}, {'lat': 45.5173026, 'lon': 9.297902}, {'lat': 45.515756, 'lon': 9.2856571}, {'lat': 45.5209871, 'lon': 9.3308377}, {'lat': 45.5204949, 'lon': 9.3460966}, {'lat': 45.5277793, 'lon': 9.385051}, {'lat': 45.4437345, 'lon': 9.1677011}, {'lat': 45.4520244, 'lon': 9.1693602}, {'lat': 45.4585981, 'lon': 9.1698098}, {'lat': 45.461773, 'lon': 9.1733825}, {'lat': 45.4682326, 'lon': 9.176463}, {'lat': 45.4681452, 'lon': 9.1771272}, {'lat': 45.4718013, 'lon': 9.1823052}, {'lat': 45.4770858, 'lon': 9.1843685}, {'lat': 45.5343356, 'lon': 9.2315475}, {'lat': 45.5234791, 'lon': 9.2279272}, {'lat': 45.5174649, 'lon': 9.2261092}, {'lat': 45.5120331, 'lon': 9.2244644}, {'lat': 45.5061558, 'lon': 9.2226651}, {'lat': 45.5004487, 'lon': 9.2209865}, {'lat': 45.495536, 'lon': 9.2194872}, {'lat': 45.4902857, 'lon': 9.2179293}, {'lat': 45.4666474, 'lon': 9.197568}, {'lat': 45.4716297, 'lon': 9.2021428}, {'lat': 45.480357, 'lon': 9.2109589}, {'lat': 45.4684915, 'lon': 9.1819853}, {'lat': 45.4655495, 'lon': 9.1862299}, {'lat': 45.5416794, 'lon': 9.2383256}, {'lat': 45.5088, 'lon': 9.0857088}, {'lat': 45.4575781, 'lon': 9.1222244}, {'lat': 45.4594303, 'lon': 9.1292549}, {'lat': 45.461524, 'lon': 9.1364657}, {'lat': 45.4649139, 'lon': 9.1430147}, {'lat': 45.5051543, 'lon': 9.0933177}, {'lat': 45.5011378, 'lon': 9.1015462}, {'lat': 45.4970317, 'lon': 9.1101295}, {'lat': 45.4938806, 'lon': 9.1202555}, {'lat': 45.489492, 'lon': 9.1271948}, {'lat': 45.4860084, 'lon': 9.1370307}, {'lat': 45.479692, 'lon': 9.1437786}, {'lat': 45.4786497, 'lon': 9.144456}, {'lat': 45.4736967, 'lon': 9.1509963}, {'lat': 45.4704169, 'lon': 9.155316}, {'lat': 45.4664527, 'lon': 9.1495656}, {'lat': 45.4678782, 'lon': 9.1555175}, {'lat': 45.4683019, 'lon': 9.161102}, {'lat': 45.467522, 'lon': 9.1666054}, {'lat': 45.4762325, 'lon': 9.1183538}, {'lat': 45.4760554, 'lon': 9.1290328}, {'lat': 45.476243, 'lon': 9.1379391}, {'lat': 45.4813162, 'lon': 9.1506045}, {'lat': 45.478044, 'lon': 9.1567618}, {'lat': 45.4814045, 'lon': 9.1619408}, {'lat': 45.4844616, 'lon': 9.1666565}, {'lat': 45.4874537, 'lon': 9.172262}, {'lat': 45.4851181, 'lon': 9.1804883}, {'lat': 45.5267835, 'lon': 9.2121828}, {'lat': 45.5219991, 'lon': 9.2094704}, {'lat': 45.5147332, 'lon': 9.2053603}, {'lat': 45.5072418, 'lon': 9.201118}, {'lat': 45.5016171, 'lon': 9.197952}, {'lat': 45.496352, 'lon': 9.1949689}, {'lat': 45.487612, 'lon': 9.1912938}, {'lat': 45.4680015, 'lon': 9.2184474}, {'lat': 45.4680832, 'lon': 9.2319078}, {'lat': 45.4680673, 'lon': 9.2248739}], 'Munich': [{'lat': 48.2040534, 'lon': 11.613168}, {'lat': 48.203017, 'lon': 11.6130382}, {'lat': 48.1371181, 'lon': 11.5755711}, {'lat': 48.1183485, 'lon': 11.6318229}, {'lat': 48.1959252, 'lon': 11.5718148}, {'lat': 48.1868168, 'lon': 11.5727203}, {'lat': 48.1809043, 'lon': 11.5731525}, {'lat': 48.2043435, 'lon': 11.5693933}, {'lat': 48.1774989, 'lon': 11.5290587}, {'lat': 48.1342129, 'lon': 11.5832438}, {'lat': 48.1292383, 'lon': 11.5931428}, {'lat': 48.1179001, 'lon': 11.6084037}, {'lat': 48.1125954, 'lon': 11.5875077}, {'lat': 48.1294285, 'lon': 11.5741025}, {'lat': 48.1130998, 'lon': 11.5716454}, {'lat': 48.1044305, 'lon': 11.5813957}, {'lat': 48.0970601, 'lon': 11.5791773}, {'lat': 48.16279, 'lon': 11.5291128}, {'lat': 48.1540479, 'lon': 11.5330186}, {'lat': 48.1499883, 'lon': 11.5456047}, {'lat': 48.147896, 'lon': 11.5569774}, {'lat': 48.1149039, 'lon': 11.5804329}, {'lat': 48.1515099, 'lon': 11.5644523}, {'lat': 48.1557444, 'lon': 11.5670928}, {'lat': 48.2038679, 'lon': 11.6132286}, {'lat': 48.170381, 'lon': 11.5284591}, {'lat': 48.1081119, 'lon': 11.6466744}, {'lat': 48.1395114, 'lon': 11.5657861}, {'lat': 48.1919577, 'lon': 11.6142748}, {'lat': 48.1265726, 'lon': 11.6338089}, {'lat': 48.1333782, 'lon': 11.7034068}, {'lat': 48.1334299, 'lon': 11.6905408}, {'lat': 48.1307719, 'lon': 11.670984}, {'lat': 48.1714156, 'lon': 11.5728523}, {'lat': 48.1785521, 'lon': 11.6025552}, {'lat': 48.1433433, 'lon': 11.5780447}, {'lat': 48.1834944, 'lon': 11.6076296}, {'lat': 48.2038406, 'lon': 11.6132424}, {'lat': 48.2038806, 'lon': 11.6130954}, {'lat': 48.1277214, 'lon': 11.6055187}, {'lat': 48.1403353, 'lon': 11.567021}, {'lat': 48.1342128, 'lon': 11.5831361}, {'lat': 48.1260355, 'lon': 11.6633383}, {'lat': 48.1168742, 'lon': 11.5380616}, {'lat': 48.1198151, 'lon': 11.576652}, {'lat': 48.1334608, 'lon': 11.5668639}, {'lat': 48.1821263, 'lon': 11.5309222}, {'lat': 48.1082058, 'lon': 11.5757399}, {'lat': 48.1201994, 'lon': 11.5484511}, {'lat': 48.101184, 'lon': 11.6461739}, {'lat': 48.1565588, 'lon': 11.5840476}, {'lat': 48.129034, 'lon': 11.5573549}, {'lat': 48.1148053, 'lon': 11.4770622}, {'lat': 48.1183829, 'lon': 11.4889222}, {'lat': 48.116315, 'lon': 11.5018378}, {'lat': 48.2038479, 'lon': 11.6133929}, {'lat': 48.2038651, 'lon': 11.6132684}, {'lat': 48.1090781, 'lon': 11.4735768}, {'lat': 48.161985, 'lon': 11.5865312}, {'lat': 48.1169406, 'lon': 11.5267256}, {'lat': 48.1254879, 'lon': 11.5502436}, {'lat': 48.1503538, 'lon': 11.5811442}, {'lat': 48.1179858, 'lon': 11.5162528}, {'lat': 48.0978866, 'lon': 11.5251946}, {'lat': 48.091273, 'lon': 11.4911686}, {'lat': 48.1666668, 'lon': 11.5782902}, {'lat': 48.1125225, 'lon': 11.5487222}, {'lat': 48.0950686, 'lon': 11.4993332}, {'lat': 48.0883657, 'lon': 11.4808304}, {'lat': 48.0973739, 'lon': 11.5150398}, {'lat': 48.1818348, 'lon': 11.5188145}, {'lat': 48.0982332, 'lon': 11.5359345}, {'lat': 48.1859978, 'lon': 11.5476222}, {'lat': 48.1792984, 'lon': 11.5560899}, {'lat': 48.1756681, 'lon': 11.565901}, {'lat': 48.1028401, 'lon': 11.5459789}, {'lat': 48.1535552, 'lon': 11.6220625}, {'lat': 48.1435048, 'lon': 11.6155997}, {'lat': 48.1671225, 'lon': 11.5908531}, {'lat': 48.1351246, 'lon': 11.5108557}, {'lat': 48.1396562, 'lon': 11.5879211}, {'lat': 48.1392662, 'lon': 11.6070336}, {'lat': 48.1354608, 'lon': 11.5019761}, {'lat': 48.1483334, 'lon': 11.6166014}, {'lat': 48.1337822, 'lon': 11.5410566}, {'lat': 48.0947304, 'lon': 11.6427164}, {'lat': 48.135672, 'lon': 11.5522316}, {'lat': 48.1347377, 'lon': 11.5211123}, {'lat': 48.1371436, 'lon': 11.5753989}, {'lat': 48.14501, 'lon': 11.5632086}, {'lat': 48.1623677, 'lon': 11.5687654}, {'lat': 48.1731876, 'lon': 11.596986}, {'lat': 48.1809642, 'lon': 11.5081808}, {'lat': 48.1110358, 'lon': 11.5958195}, {'lat': 48.133541, 'lon': 11.5322141}, {'lat': 48.1183989, 'lon': 11.5365352}, {'lat': 48.1383609, 'lon': 11.5761828}, {'lat': 48.1280775, 'lon': 11.6036296}, {'lat': 48.1256535, 'lon': 11.6625917}, {'lat': 48.1392934, 'lon': 11.5599751}, {'lat': 48.1401455, 'lon': 11.5610962}, {'lat': 48.1427658, 'lon': 11.5763171}, {'lat': 48.1335231, 'lon': 11.5670945}, {'lat': 48.0888549, 'lon': 11.6451941}, {'lat': 48.1827188, 'lon': 11.5302407}, {'lat': 48.1445613, 'lon': 11.4721003}, {'lat': 48.1492089, 'lon': 11.4611203}, {'lat': 48.1494715, 'lon': 11.4339866}, {'lat': 48.1465993, 'lon': 11.4174672}, {'lat': 48.1204367, 'lon': 11.6187904}, {'lat': 48.1257542, 'lon': 11.6468525}, {'lat': 48.1357035, 'lon': 11.5978714}, {'lat': 48.1224973, 'lon': 11.5530805}], 'Paris': [{'lat': 48.8765787, 'lon': 2.4065879}, {'lat': 48.8695617, 'lon': 2.3256289}, {'lat': 48.8707354, 'lon': 2.3258835}, {'lat': 48.8705725, 'lon': 2.3253751}, {'lat': 48.87557, 'lon': 2.289613}, {'lat': 48.8741959, 'lon': 2.2958991}, {'lat': 48.8746485, 'lon': 2.2948908}, {'lat': 48.8849087, 'lon': 2.2598234}, {'lat': 48.8780333, 'lon': 2.2812155}, {'lat': 48.8777289, 'lon': 2.2826146}, {'lat': 48.9126523, 'lon': 2.3341651}, {'lat': 48.8470573, 'lon': 2.2725047}, {'lat': 48.8461462, 'lon': 2.2780662}, {'lat': 48.8151929, 'lon': 2.2973418}, {'lat': 48.8809365, 'lon': 2.2722281}, {'lat': 48.8720617, 'lon': 2.3004148}, {'lat': 48.8690339, 'lon': 2.3099266}, {'lat': 48.8661544, 'lon': 2.3221445}, {'lat': 48.864244, 'lon': 2.330436}, {'lat': 48.8608027, 'lon': 2.3411235}, {'lat': 48.8587782, 'lon': 2.3474106}, {'lat': 48.8553907, 'lon': 2.3604173}, {'lat': 48.8336468, 'lon': 2.2435931}, {'lat': 48.8489809, 'lon': 2.2981916}, {'lat': 48.8475232, 'lon': 2.3029457}, {'lat': 48.8504095, 'lon': 2.2936611}, {'lat': 48.8241474, 'lon': 2.2731713}, {'lat': 48.8270526, 'lon': 2.2793746}, {'lat': 48.8373115, 'lon': 2.2966255}, {'lat': 48.8236353, 'lon': 2.3256519}, {'lat': 48.8280318, 'lon': 2.3270406}, {'lat': 48.8312847, 'lon': 2.3298549}, {'lat': 48.8342613, 'lon': 2.3326258}, {'lat': 48.8388977, 'lon': 2.3306662}, {'lat': 48.8329806, 'lon': 2.3368199}, {'lat': 48.8311451, 'lon': 2.3434916}, {'lat': 48.8309446, 'lon': 2.3558932}, {'lat': 48.8331995, 'lon': 2.3628272}, {'lat': 48.83495, 'lon': 2.3681023}, {'lat': 48.8370444, 'lon': 2.3728619}, {'lat': 48.8842416, 'lon': 2.3670741}, {'lat': 48.847611, 'lon': 2.3955668}, {'lat': 48.8783961, 'lon': 2.3812008}, {'lat': 48.8809263, 'lon': 2.3739077}, {'lat': 48.8518166, 'lon': 2.4013757}, {'lat': 48.8667079, 'lon': 2.3833739}, {'lat': 48.8629496, 'lon': 2.3874348}, {'lat': 48.8582563, 'lon': 2.3901666}, {'lat': 48.8563062, 'lon': 2.3944977}, {'lat': 48.872053, 'lon': 2.3769446}, {'lat': 48.869062, 'lon': 2.3804698}, {'lat': 48.8774215, 'lon': 2.3710197}, {'lat': 48.8834886, 'lon': 2.3336343}, {'lat': 48.8834466, 'lon': 2.3272634}, {'lat': 48.8822428, 'lon': 2.3213306}, {'lat': 48.8811181, 'lon': 2.3149118}, {'lat': 48.8802919, 'lon': 2.3085925}, {'lat': 48.871318, 'lon': 2.2777713}, {'lat': 48.8643338, 'lon': 2.3794812}, {'lat': 48.8653786, 'lon': 2.3739112}, {'lat': 48.8665004, 'lon': 2.360708}, {'lat': 48.8654414, 'lon': 2.3561316}, {'lat': 48.8686333, 'lon': 2.3414766}, {'lat': 48.8695954, 'lon': 2.3359026}, {'lat': 48.8706446, 'lon': 2.33233}, {'lat': 48.8736792, 'lon': 2.3273189}, {'lat': 48.8756126, 'lon': 2.3241246}, {'lat': 48.8828567, 'lon': 2.3092267}, {'lat': 48.884005, 'lon': 2.3037188}, {'lat': 48.8848146, 'lon': 2.2982736}, {'lat': 48.8395785, 'lon': 2.3012923}, {'lat': 48.8415194, 'lon': 2.3080031}, {'lat': 48.8444916, 'lon': 2.317965}, {'lat': 48.8468433, 'lon': 2.3166286}, {'lat': 48.8413382, 'lon': 2.4009129}, {'lat': 48.8905061, 'lon': 2.3599967}, {'lat': 48.9163939, 'lon': 2.2946589}, {'lat': 48.8711191, 'lon': 2.3607546}, {'lat': 48.8920499, 'lon': 2.2850318}, {'lat': 48.8579778, 'lon': 2.43575}, {'lat': 48.8625988, 'lon': 2.441569}, {'lat': 48.8971408, 'lon': 2.2803973}, {'lat': 48.8882803, 'lon': 2.2884734}, {'lat': 48.8526992, 'lon': 2.4061094}, {'lat': 48.8558145, 'lon': 2.4237108}, {'lat': 48.8525808, 'lon': 2.3887914}, {'lat': 48.8547441, 'lon': 2.3853565}, {'lat': 48.858158, 'lon': 2.3798044}, {'lat': 48.8610516, 'lon': 2.3747956}, {'lat': 48.8640529, 'lon': 2.3694165}, {'lat': 48.8706233, 'lon': 2.3487498}, {'lat': 48.8714412, 'lon': 2.3434953}, {'lat': 48.8717041, 'lon': 2.3385398}, {'lat': 48.874471, 'lon': 2.3217921}, {'lat': 48.8465067, 'lon': 2.351764}, {'lat': 48.8501068, 'lon': 2.3483706}, {'lat': 48.8511065, 'lon': 2.3442097}, {'lat': 48.8528857, 'lon': 2.3349394}, {'lat': 48.8363968, 'lon': 2.278379}, {'lat': 48.8387364, 'lon': 2.2821481}, {'lat': 48.8410837, 'lon': 2.2879218}, {'lat': 48.8426775, 'lon': 2.2917792}, {'lat': 48.8390379, 'lon': 2.3897217}, {'lat': 48.8401549, 'lon': 2.3799474}, {'lat': 48.8410969, 'lon': 2.3250718}, {'lat': 48.8421022, 'lon': 2.3202714}, {'lat': 48.8429314, 'lon': 2.3125908}, {'lat': 48.8716801, 'lon': 2.2935185}, {'lat': 48.8575009, 'lon': 2.285778}, {'lat': 48.8646177, 'lon': 2.2937179}, {'lat': 48.8640672, 'lon': 2.278149}, {'lat': 48.8579754, 'lon': 2.274062}, {'lat': 48.8555764, 'lon': 2.2702166}, {'lat': 48.8525598, 'lon': 2.2681802}, {'lat': 48.8452434, 'lon': 2.261895}, {'lat': 48.8430044, 'lon': 2.2600472}, {'lat': 48.8377707, 'lon': 2.2565741}, {'lat': 48.8648683, 'lon': 2.300292}, {'lat': 48.8723362, 'lon': 2.3100827}, {'lat': 48.873719, 'lon': 2.3145029}, {'lat': 48.8514719, 'lon': 2.3268896}, {'lat': 48.9032278, 'lon': 2.3059879}, {'lat': 48.8905757, 'lon': 2.3202004}, {'lat': 48.886971, 'lon': 2.3258228}, {'lat': 48.8469898, 'lon': 2.3074817}, {'lat': 48.8469916, 'lon': 2.2953111}, {'lat': 48.860697, 'lon': 2.3210551}, {'lat': 48.858657, 'lon': 2.3229936}, {'lat': 48.8481424, 'lon': 2.3278065}, {'lat': 48.844688, 'lon': 2.3288305}, {'lat': 48.8656344, 'lon': 2.3227573}, {'lat': 48.8447112, 'lon': 2.2938643}, {'lat': 48.8546647, 'lon': 2.3060728}, {'lat': 48.8575602, 'lon': 2.3103234}, {'lat': 48.8633194, 'lon': 2.3666323}, {'lat': 48.8611816, 'lon': 2.367234}, {'lat': 48.8574434, 'lon': 2.3681408}, {'lat': 48.8512945, 'lon': 2.3760274}, {'lat': 48.8501609, 'lon': 2.3842222}, {'lat': 48.844304, 'lon': 2.3901962}, {'lat': 48.8370694, 'lon': 2.4024586}, {'lat': 48.8264064, 'lon': 2.406201}, {'lat': 48.8352765, 'lon': 2.4061775}, {'lat': 48.8450724, 'lon': 2.4010857}, {'lat': 48.8322315, 'lon': 2.3990408}, {'lat': 48.8763251, 'lon': 2.3326415}, {'lat': 48.8759935, 'lon': 2.3385437}, {'lat': 48.8784469, 'lon': 2.337458}, {'lat': 48.8845677, 'lon': 2.3379294}, {'lat': 48.8897543, 'lon': 2.3388254}, {'lat': 48.8924628, 'lon': 2.3446394}, {'lat': 48.8977035, 'lon': 2.3594563}, {'lat': 48.8938481, 'lon': 2.3478412}, {'lat': 48.8762027, 'lon': 2.3579127}, {'lat': 48.8639526, 'lon': 2.3493931}, {'lat': 48.8728919, 'lon': 2.3563063}, {'lat': 48.8621801, 'lon': 2.3458118}, {'lat': 48.8553245, 'lon': 2.347542}, {'lat': 48.8532864, 'lon': 2.3435081}, {'lat': 48.8536164, 'lon': 2.3344524}, {'lat': 48.847098, 'lon': 2.3270206}, {'lat': 48.8422164, 'lon': 2.3290114}, {'lat': 48.8465046, 'lon': 2.2858721}, {'lat': 48.8461368, 'lon': 2.2782955}, {'lat': 48.8473406, 'lon': 2.2686929}, {'lat': 48.8480669, 'lon': 2.25877}, {'lat': 48.845414, 'lon': 2.267172}, {'lat': 48.8468038, 'lon': 2.2717155}, {'lat': 48.841978, 'lon': 2.238742}, {'lat': 48.8407648, 'lon': 2.2285101}, {'lat': 48.8699854, 'lon': 2.3710671}, {'lat': 48.875525, 'lon': 2.3990429}, {'lat': 48.8738565, 'lon': 2.3852638}, {'lat': 48.8750944, 'lon': 2.38933}, {'lat': 48.8386332, 'lon': 2.3224866}, {'lat': 48.8566333, 'lon': 2.3704333}, {'lat': 48.8602134, 'lon': 2.3720741}, {'lat': 48.8884812, 'lon': 2.3742226}, {'lat': 48.8908513, 'lon': 2.3773681}, {'lat': 48.8947282, 'lon': 2.3823046}, {'lat': 48.8974039, 'lon': 2.385591}, {'lat': 48.8748242, 'lon': 2.3399663}, {'lat': 48.8759565, 'lon': 2.3442991}, {'lat': 48.8586746, 'lon': 2.3418394}, {'lat': 48.8513954, 'lon': 2.3618174}, {'lat': 48.8537872, 'lon': 2.3565905}, {'lat': 48.8429053, 'lon': 2.3522772}, {'lat': 48.8406473, 'lon': 2.3519334}, {'lat': 48.8356304, 'lon': 2.3526735}, {'lat': 48.8819488, 'lon': 2.393338}, {'lat': 48.8797584, 'lon': 2.4164738}, {'lat': 48.8715218, 'lon': 2.4043104}, {'lat': 48.8680997, 'lon': 2.4013152}, {'lat': 48.8382761, 'lon': 2.3608491}, {'lat': 48.8927239, 'lon': 2.3273521}, {'lat': 48.8971883, 'lon': 2.328869}, {'lat': 48.9057701, 'lon': 2.3317631}, {'lat': 48.8260904, 'lon': 2.3573505}, {'lat': 48.8224745, 'lon': 2.358504}, {'lat': 48.8190866, 'lon': 2.359533}, {'lat': 48.9231172, 'lon': 2.2862019}, {'lat': 48.9142573, 'lon': 2.4038072}, {'lat': 48.9036279, 'lon': 2.3922499}, {'lat': 48.9207595, 'lon': 2.410766}, {'lat': 48.8678551, 'lon': 2.3138686}, {'lat': 48.7965908, 'lon': 2.4493852}, {'lat': 48.8033311, 'lon': 2.4456085}, {'lat': 48.8090371, 'lon': 2.4347211}, {'lat': 48.8150196, 'lon': 2.4217316}, {'lat': 48.8215612, 'lon': 2.4137829}, {'lat': 48.8051317, 'lon': 2.3637903}, {'lat': 48.7961557, 'lon': 2.3683565}, {'lat': 48.810328, 'lon': 2.3622359}, {'lat': 48.8510854, 'lon': 2.3307217}, {'lat': 48.8788923, 'lon': 2.3624779}, {'lat': 48.8538898, 'lon': 2.2893811}, {'lat': 48.8755422, 'lon': 2.398859}, {'lat': 48.8317277, 'lon': 2.2373655}, {'lat': 48.8296613, 'lon': 2.2308732}, {'lat': 48.8201241, 'lon': 2.3647858}, {'lat': 48.8159011, 'lon': 2.3773455}, {'lat': 48.8491211, 'lon': 2.3218798}, {'lat': 48.8757066, 'lon': 2.3278406}, {'lat': 48.8782859, 'lon': 2.2990808}, {'lat': 48.8514841, 'lon': 2.3981859}, {'lat': 48.8753731, 'lon': 2.3987807}, {'lat': 48.8435522, 'lon': 2.3743151}, {'lat': 48.8914837, 'lon': 2.3497296}, {'lat': 48.8665117, 'lon': 2.3218526}, {'lat': 48.860393, 'lon': 2.3148872}, {'lat': 48.8456163, 'lon': 2.3095848}, {'lat': 48.9060505, 'lon': 2.4492007}, {'lat': 48.8973976, 'lon': 2.3448521}, {'lat': 48.8490354, 'lon': 2.3666468}, {'lat': 48.8787676, 'lon': 2.3222643}, {'lat': 48.8794926, 'lon': 2.3885791}, {'lat': 48.8825949, 'lon': 2.3703263}, {'lat': 48.827676, 'lon': 2.3054796}, {'lat': 48.8768713, 'lon': 2.3932057}, {'lat': 48.8183525, 'lon': 2.3193273}, {'lat': 48.8535248, 'lon': 2.4106511}, {'lat': 48.9126989, 'lon': 2.4354281}, {'lat': 48.9046938, 'lon': 2.4699752}, {'lat': 48.9066927, 'lon': 2.4605385}, {'lat': 48.8779379, 'lon': 2.2819557}, {'lat': 48.9082256, 'lon': 2.3778513}, {'lat': 48.9142765, 'lon': 2.3809116}, {'lat': 48.8335481, 'lon': 2.3859541}, {'lat': 48.8568781, 'lon': 2.3483592}, {'lat': 48.8597916, 'lon': 2.3466756}, {'lat': 48.8577968, 'lon': 2.3475453}, {'lat': 48.8676215, 'lon': 2.3637014}, {'lat': 48.8828803, 'lon': 2.3442565}, {'lat': 48.8846923, 'lon': 2.3426644}, {'lat': 48.8856581, 'lon': 2.3425549}, {'lat': 48.8844068, 'lon': 2.3603057}, {'lat': 48.842376, 'lon': 2.3655558}, {'lat': 48.8423374, 'lon': 2.3655857}, {'lat': 48.8464813, 'lon': 2.3659024}, {'lat': 48.8677091, 'lon': 2.3457466}, {'lat': 48.8423727, 'lon': 2.3656105}, {'lat': 48.8754153, 'lon': 2.3253531}, {'lat': 48.8922478, 'lon': 2.2369184}, {'lat': 48.8699556, 'lon': 2.2860385}, {'lat': 48.8662052, 'lon': 2.3223767}, {'lat': 48.8608923, 'lon': 2.3144984}, {'lat': 48.863045, 'lon': 2.2871938}, {'lat': 48.8822775, 'lon': 2.3381228}, {'lat': 48.8872884, 'lon': 2.3495532}, {'lat': 48.8459626, 'lon': 2.354801}, {'lat': 48.8744088, 'lon': 2.295508}, {'lat': 48.842138, 'lon': 2.3647599}, {'lat': 48.8034346, 'lon': 2.3178712}, {'lat': 48.8092529, 'lon': 2.3177636}, {'lat': 48.8880492, 'lon': 2.2500793}, {'lat': 48.8661828, 'lon': 2.3221251}, {'lat': 48.8624906, 'lon': 2.3360431}, {'lat': 48.8439336, 'lon': 2.3241027}, {'lat': 48.852987, 'lon': 2.3688579}, {'lat': 48.8574911, 'lon': 2.3515316}, {'lat': 48.8693002, 'lon': 2.3542855}, {'lat': 48.8837466, 'lon': 2.3496958}, {'lat': 48.8769658, 'lon': 2.4064184}, {'lat': 48.8815943, 'lon': 2.3657982}, {'lat': 48.8300059, 'lon': 2.3768474}, {'lat': 48.8451709, 'lon': 2.3725553}, {'lat': 48.9131621, 'lon': 2.3346585}, {'lat': 48.9123017, 'lon': 2.3342679}, {'lat': 48.919576, 'lon': 2.3432563}, {'lat': 48.8795666, 'lon': 2.3572124}, {'lat': 48.8585776, 'lon': 2.3422202}, {'lat': 48.8584929, 'lon': 2.342459}, {'lat': 48.8601084, 'lon': 2.3464367}, {'lat': 48.8624659, 'lon': 2.3460086}, {'lat': 48.8627067, 'lon': 2.3461831}, {'lat': 48.8662481, 'lon': 2.3526084}, {'lat': 48.8637141, 'lon': 2.3489485}, {'lat': 48.8640258, 'lon': 2.3498519}, {'lat': 48.8728888, 'lon': 2.3563528}, {'lat': 48.87288, 'lon': 2.3563957}, {'lat': 48.8730441, 'lon': 2.3332127}, {'lat': 48.8748603, 'lon': 2.340218}, {'lat': 48.8748691, 'lon': 2.3405331}, {'lat': 48.8759778, 'lon': 2.3444894}, {'lat': 48.8771197, 'lon': 2.3487446}, {'lat': 48.8772389, 'lon': 2.3492341}, {'lat': 48.8770072, 'lon': 2.3482642}, {'lat': 48.8760003, 'lon': 2.3444645}, {'lat': 48.8657452, 'lon': 2.3344687}, {'lat': 48.8216035, 'lon': 2.3693411}, {'lat': 48.9064513, 'lon': 2.3659403}, {'lat': 48.867518, 'lon': 2.3465656}, {'lat': 48.8675428, 'lon': 2.3465779}, {'lat': 48.8649327, 'lon': 2.3980541}, {'lat': 48.8753357, 'lon': 2.2901322}, {'lat': 48.8794066, 'lon': 2.3043565}, {'lat': 48.810989, 'lon': 2.3839772}, {'lat': 48.8646027, 'lon': 2.407183}, {'lat': 48.84111, 'lon': 2.3250699}, {'lat': 48.8270448, 'lon': 2.3664175}, {'lat': 48.8954065, 'lon': 2.42519}, {'lat': 48.8886574, 'lon': 2.3926771}, {'lat': 48.8851647, 'lon': 2.3794369}, {'lat': 48.8870772, 'lon': 2.38664}, {'lat': 48.8912849, 'lon': 2.4025113}, {'lat': 48.8932459, 'lon': 2.4133107}, {'lat': 48.8324338, 'lon': 2.2879537}, {'lat': 48.9191735, 'lon': 2.4138446}, {'lat': 48.9177784, 'lon': 2.417705}, {'lat': 48.9207769, 'lon': 2.4106092}, {'lat': 48.9227218, 'lon': 2.4065946}, {'lat': 48.9243665, 'lon': 2.4020845}, {'lat': 48.91409, 'lon': 2.4312843}, {'lat': 48.9158386, 'lon': 2.42501}, {'lat': 48.9065327, 'lon': 2.443996}, {'lat': 48.9069307, 'lon': 2.4386188}, {'lat': 48.9096773, 'lon': 2.4374829}, {'lat': 48.9078139, 'lon': 2.4543513}, {'lat': 48.9065372, 'lon': 2.4500042}, {'lat': 48.855187, 'lon': 2.3257952}, {'lat': 48.8551819, 'lon': 2.3257541}, {'lat': 48.8551812, 'lon': 2.3257736}, {'lat': 48.8458762, 'lon': 2.3737786}, {'lat': 48.845849, 'lon': 2.3737852}, {'lat': 48.8680102, 'lon': 2.3651079}, {'lat': 48.8680343, 'lon': 2.3650877}, {'lat': 48.8671878, 'lon': 2.3643917}, {'lat': 48.8672142, 'lon': 2.3644036}, {'lat': 48.8678735, 'lon': 2.3638601}, {'lat': 48.8678547, 'lon': 2.3638296}, {'lat': 48.8677803, 'lon': 2.3629287}, {'lat': 48.8677128, 'lon': 2.3628429}, {'lat': 48.8676788, 'lon': 2.3627996}, {'lat': 48.8676057, 'lon': 2.3627064}, {'lat': 48.8944737, 'lon': 2.3134274}, {'lat': 48.9173998, 'lon': 2.3466062}, {'lat': 48.9179347, 'lon': 2.3465094}, {'lat': 48.9176709, 'lon': 2.346563}, {'lat': 48.8649458, 'lon': 2.4154775}, {'lat': 48.9063692, 'lon': 2.4492166}, {'lat': 48.8108212, 'lon': 2.3016036}, {'lat': 48.8895133, 'lon': 2.3153423}, {'lat': 48.9048252, 'lon': 2.3223055}, {'lat': 48.8721853, 'lon': 2.3387937}, {'lat': 48.8719671, 'lon': 2.3392504}, {'lat': 48.8722127, 'lon': 2.3388021}, {'lat': 48.8717313, 'lon': 2.3385319}, {'lat': 48.8670347, 'lon': 2.2901145}, {'lat': 48.8411225, 'lon': 2.3250866}, {'lat': 48.838958, 'lon': 2.3308101}, {'lat': 48.8395922, 'lon': 2.3962319}, {'lat': 48.8298024, 'lon': 2.3504805}, {'lat': 48.8514517, 'lon': 2.3144205}, {'lat': 48.8569057, 'lon': 2.3150837}, {'lat': 48.8948169, 'lon': 2.3132665}, {'lat': 48.8553219, 'lon': 2.3475596}, {'lat': 48.8553272, 'lon': 2.3475245}, {'lat': 48.8802491, 'lon': 2.3988452}, {'lat': 48.8802778, 'lon': 2.3988805}, {'lat': 48.845439, 'lon': 2.429261}, {'lat': 48.8473574, 'lon': 2.3867982}, {'lat': 48.8473367, 'lon': 2.408086}, {'lat': 48.8480025, 'lon': 2.2641679}, {'lat': 48.8686539, 'lon': 2.3413537}, {'lat': 48.8464372, 'lon': 2.4184429}, {'lat': 48.8445832, 'lon': 2.4389122}, {'lat': 48.8523043, 'lon': 2.3393706}, {'lat': 48.8796039, 'lon': 2.3270446}, {'lat': 48.8351162, 'lon': 2.3582026}, {'lat': 48.8797661, 'lon': 2.4160942}, {'lat': 48.8617648, 'lon': 2.3537854}, {'lat': 48.8755788, 'lon': 2.3977301}, {'lat': 48.8339998, 'lon': 2.3181806}, {'lat': 48.8317665, 'lon': 2.3140421}, {'lat': 48.8225001, 'lon': 2.2985049}], 'Rome': [{'lat': 41.872994, 'lon': 12.4827779}, {'lat': 41.8390918, 'lon': 12.4624141}, {'lat': 41.9998618, 'lon': 12.4940422}, {'lat': 41.9793157, 'lon': 12.5083938}, {'lat': 41.849403, 'lon': 12.475413}, {'lat': 41.856504, 'lon': 12.4784348}, {'lat': 41.7609016, 'lon': 12.7034352}, {'lat': 41.7614315, 'lon': 12.7070424}, {'lat': 41.8751014, 'lon': 12.5682577}, {'lat': 41.8893644, 'lon': 12.5510698}, {'lat': 41.8646587, 'lon': 12.6042753}, {'lat': 41.8731135, 'lon': 12.5387098}, {'lat': 41.8977934, 'lon': 12.5459899}, {'lat': 41.8094813, 'lon': 12.5576763}, {'lat': 41.7830799, 'lon': 12.8897317}, {'lat': 41.8218022, 'lon': 12.8269406}, {'lat': 41.8385419, 'lon': 12.7560517}, {'lat': 41.8261011, 'lon': 12.6698873}, {'lat': 41.8069284, 'lon': 12.6779321}, {'lat': 41.8042547, 'lon': 12.5995067}, {'lat': 41.8748621, 'lon': 12.4824769}, {'lat': 41.8663389, 'lon': 12.4830592}, {'lat': 41.8270564, 'lon': 12.4813113}, {'lat': 41.9150952, 'lon': 12.6360633}, {'lat': 41.9239046, 'lon': 12.667587}, {'lat': 41.8948247, 'lon': 12.4935191}, {'lat': 41.8835112, 'lon': 12.4880402}, {'lat': 41.9005815, 'lon': 12.5025272}, {'lat': 41.8300347, 'lon': 12.4667231}, {'lat': 41.828858, 'lon': 12.470873}, {'lat': 41.9257142, 'lon': 12.5729213}, {'lat': 41.9207965, 'lon': 12.5651585}, {'lat': 41.9149254, 'lon': 12.5550931}, {'lat': 41.9073662, 'lon': 12.4476984}, {'lat': 41.7884509, 'lon': 12.6042252}, {'lat': 41.7251339, 'lon': 12.6100452}, {'lat': 41.7689655, 'lon': 12.6559566}, {'lat': 41.9618813, 'lon': 12.8050222}, {'lat': 41.9996399, 'lon': 12.7913709}, {'lat': 41.915735, 'lon': 12.5480024}, {'lat': 41.9152219, 'lon': 12.538835}, {'lat': 41.9136627, 'lon': 12.5208145}, {'lat': 41.9062941, 'lon': 12.5055734}, {'lat': 41.9086625, 'lon': 12.5121218}, {'lat': 41.8914366, 'lon': 12.4915001}, {'lat': 41.789627, 'lon': 12.3778842}, {'lat': 41.7835343, 'lon': 12.3608521}, {'lat': 41.9107562, 'lon': 12.5303507}, {'lat': 41.7940754, 'lon': 12.6166639}, {'lat': 41.7835612, 'lon': 12.6260339}, {'lat': 41.7742804, 'lon': 12.6061979}, {'lat': 41.7563089, 'lon': 12.3021594}, {'lat': 41.7332001, 'lon': 12.2841734}, {'lat': 41.9028729, 'lon': 12.495825}, {'lat': 41.903837, 'lon': 12.488764}, {'lat': 41.9067933, 'lon': 12.4845057}, {'lat': 41.9128288, 'lon': 12.4771394}, {'lat': 41.8493002, 'lon': 12.5743771}, {'lat': 41.9397676, 'lon': 12.528141}, {'lat': 41.9155093, 'lon': 12.5605966}, {'lat': 41.7404251, 'lon': 12.2845622}, {'lat': 41.9113558, 'lon': 12.4661658}, {'lat': 41.9094115, 'lon': 12.4583068}, {'lat': 41.8988863, 'lon': 12.4330515}, {'lat': 41.9005296, 'lon': 12.4264211}, {'lat': 41.9061381, 'lon': 12.4151007}, {'lat': 41.8903327, 'lon': 12.5068491}, {'lat': 41.8948835, 'lon': 12.5044677}, {'lat': 41.8853478, 'lon': 12.509976}, {'lat': 41.8816351, 'lon': 12.5144046}, {'lat': 41.8778448, 'lon': 12.5189574}, {'lat': 41.8747435, 'lon': 12.5230203}, {'lat': 41.8693853, 'lon': 12.5300898}, {'lat': 41.8663812, 'lon': 12.5350994}, {'lat': 41.86379, 'lon': 12.5482062}, {'lat': 41.8621329, 'lon': 12.5526576}, {'lat': 41.8596969, 'lon': 12.5572829}, {'lat': 41.8565979, 'lon': 12.5626327}, {'lat': 41.8538307, 'lon': 12.5677011}, {'lat': 41.8425652, 'lon': 12.5860085}, {'lat': 41.8999933, 'lon': 12.5578627}, {'lat': 41.9101529, 'lon': 12.6096244}, {'lat': 41.9125488, 'lon': 12.6218186}, {'lat': 41.9554295, 'lon': 12.5103343}, {'lat': 41.9495932, 'lon': 12.7222312}, {'lat': 41.7263792, 'lon': 12.6579618}, {'lat': 41.8915496, 'lon': 12.4900733}, {'lat': 41.8957562, 'lon': 12.4825304}, {'lat': 41.897865, 'lon': 12.4689559}, {'lat': 41.9027058, 'lon': 12.4651642}, {'lat': 41.9317786, 'lon': 12.5192683}, {'lat': 41.8327285, 'lon': 12.7283952}, {'lat': 41.7388735, 'lon': 12.6494381}, {'lat': 41.7468956, 'lon': 12.6522438}, {'lat': 41.7799142, 'lon': 12.6339928}, {'lat': 41.9503611, 'lon': 12.490039}, {'lat': 41.8627739, 'lon': 12.6461186}, {'lat': 42.0028528, 'lon': 12.3806912}, {'lat': 41.9315991, 'lon': 12.4872444}, {'lat': 41.8184083, 'lon': 12.34473}, {'lat': 41.8748252, 'lon': 12.4818841}, {'lat': 42.001332, 'lon': 12.4894806}, {'lat': 41.8247745, 'lon': 12.4086483}, {'lat': 41.8479018, 'lon': 12.4551115}, {'lat': 41.9337982, 'lon': 12.4925044}, {'lat': 41.8100197, 'lon': 12.3191269}, {'lat': 42.01463, 'lon': 12.3637412}, {'lat': 41.8723892, 'lon': 12.4661388}, {'lat': 41.913065, 'lon': 12.4764638}, {'lat': 41.9582613, 'lon': 12.4867706}, {'lat': 41.9964871, 'lon': 12.4968711}, {'lat': 41.9119079, 'lon': 12.4388846}, {'lat': 41.9278076, 'lon': 12.4273722}, {'lat': 41.7998093, 'lon': 12.2961862}, {'lat': 41.9467027, 'lon': 12.4163042}, {'lat': 41.9806528, 'lon': 12.4936485}, {'lat': 41.8307643, 'lon': 12.5688328}, {'lat': 41.926569, 'lon': 12.4813113}, {'lat': 41.8342959, 'lon': 12.430979}, {'lat': 41.9791773, 'lon': 12.5084608}, {'lat': 41.8786082, 'lon': 12.4586531}, {'lat': 41.9687738, 'lon': 12.4088535}, {'lat': 41.9112289, 'lon': 12.5319491}, {'lat': 41.9029987, 'lon': 12.4421536}, {'lat': 41.7934437, 'lon': 12.2518651}, {'lat': 41.9742823, 'lon': 12.4930507}, {'lat': 41.9881279, 'lon': 12.4944997}, {'lat': 41.9390621, 'lon': 12.496373}, {'lat': 41.8792509, 'lon': 12.5236721}, {'lat': 41.79533, 'lon': 12.4038771}, {'lat': 41.9390641, 'lon': 12.4217414}, {'lat': 41.9657601, 'lon': 12.4905226}, {'lat': 41.8195321, 'lon': 12.4367553}, {'lat': 42.0110565, 'lon': 12.488919}, {'lat': 41.855915, 'lon': 12.4782831}, {'lat': 41.9852329, 'lon': 12.4033448}, {'lat': 41.9240723, 'lon': 12.5159705}, {'lat': 41.9603566, 'lon': 12.4101423}, {'lat': 41.8830447, 'lon': 12.3941868}, {'lat': 41.9634966, 'lon': 12.4895884}, {'lat': 41.9773287, 'lon': 12.4937907}, {'lat': 41.8651593, 'lon': 12.6809329}, {'lat': 41.8646918, 'lon': 12.6672618}, {'lat': 41.8649024, 'lon': 12.6581296}, {'lat': 41.8655206, 'lon': 12.6876098}, {'lat': 41.865673, 'lon': 12.6980872}, {'lat': 41.8656767, 'lon': 12.7076135}, {'lat': 41.8643334, 'lon': 12.6255783}, {'lat': 41.8641551, 'lon': 12.6355752}, {'lat': 41.8633135, 'lon': 12.6168368}, {'lat': 41.8641331, 'lon': 12.6105711}, {'lat': 41.8666209, 'lon': 12.5971565}, {'lat': 41.8689954, 'lon': 12.5865637}, {'lat': 41.8862262, 'lon': 12.5621065}, {'lat': 41.886837, 'lon': 12.518277}, {'lat': 41.8874172, 'lon': 12.5405216}, {'lat': 41.8811308, 'lon': 12.5665706}, {'lat': 41.8885415, 'lon': 12.5282078}, {'lat': 41.8712904, 'lon': 12.5788298}, {'lat': 41.9468701, 'lon': 12.5275914}, {'lat': 41.9934086, 'lon': 12.7256835}, {'lat': 41.957595, 'lon': 12.4865689}, {'lat': 41.8854162, 'lon': 12.509997}, {'lat': 41.9186554, 'lon': 12.654293}, {'lat': 41.9388425, 'lon': 12.4494188}, {'lat': 41.8747757, 'lon': 12.5625658}, {'lat': 41.8767928, 'lon': 12.5529206}, {'lat': 41.8779681, 'lon': 12.5482991}, {'lat': 41.8801549, 'lon': 12.5423768}, {'lat': 41.881432, 'lon': 12.5386271}, {'lat': 41.882747, 'lon': 12.5346521}, {'lat': 41.8844356, 'lon': 12.530451}, {'lat': 41.8867592, 'lon': 12.5267892}, {'lat': 41.8892679, 'lon': 12.5220772}, {'lat': 41.8918173, 'lon': 12.5151344}, {'lat': 41.8946347, 'lon': 12.5103861}, {'lat': 41.8968643, 'lon': 12.5066196}, {'lat': 41.9016577, 'lon': 12.5007858}, {'lat': 42.0064013, 'lon': 12.5201105}, {'lat': 41.9197615, 'lon': 12.4366012}, {'lat': 41.8559285, 'lon': 12.4780749}, {'lat': 41.8395846, 'lon': 12.4632154}, {'lat': 41.8395011, 'lon': 12.4633643}, {'lat': 41.9097909, 'lon': 12.4578908}, {'lat': 41.8959015, 'lon': 12.4767756}, {'lat': 41.9297065, 'lon': 12.4698922}, {'lat': 41.9381682, 'lon': 12.4595788}, {'lat': 41.9171026, 'lon': 12.4601821}, {'lat': 41.9151397, 'lon': 12.45927}], 'Vienna': [{'lat': 48.2134467, 'lon': 16.4011643}, {'lat': 48.1944138, 'lon': 16.4067471}, {'lat': 48.1851441, 'lon': 16.4174702}, {'lat': 48.1804386, 'lon': 16.4120644}, {'lat': 48.1745297, 'lon': 16.3339652}, {'lat': 48.2020851, 'lon': 16.3922544}, {'lat': 48.1747186, 'lon': 16.4147963}, {'lat': 48.1975587, 'lon': 16.3998831}, {'lat': 48.1697819, 'lon': 16.4205345}, {'lat': 48.2058807, 'lon': 16.3852982}, {'lat': 48.2056263, 'lon': 16.4148782}, {'lat': 48.2154352, 'lon': 16.3966727}, {'lat': 48.2386527, 'lon': 16.4176068}, {'lat': 48.240048, 'lon': 16.4089812}, {'lat': 48.2363213, 'lon': 16.4086078}, {'lat': 48.1836304, 'lon': 16.3281212}, {'lat': 48.1536948, 'lon': 16.3823555}, {'lat': 48.1622926, 'lon': 16.383225}, {'lat': 48.1457661, 'lon': 16.3856058}, {'lat': 48.1423146, 'lon': 16.3998868}, {'lat': 48.1690181, 'lon': 16.3802682}, {'lat': 48.1739672, 'lon': 16.3314815}, {'lat': 48.1870722, 'lon': 16.3735107}, {'lat': 48.2417359, 'lon': 16.3854154}, {'lat': 48.2486697, 'lon': 16.3659272}, {'lat': 48.2355915, 'lon': 16.358076}, {'lat': 48.2350109, 'lon': 16.3585057}, {'lat': 48.2080838, 'lon': 16.3715166}, {'lat': 48.1936873, 'lon': 16.3704158}, {'lat': 48.2003841, 'lon': 16.3697014}, {'lat': 48.1969493, 'lon': 16.2609148}, {'lat': 48.2094843, 'lon': 16.407693}, {'lat': 48.2345026, 'lon': 16.5044888}, {'lat': 48.2334122, 'lon': 16.485618}, {'lat': 48.2262278, 'lon': 16.5083947}, {'lat': 48.2284034, 'lon': 16.4785435}, {'lat': 48.1695784, 'lon': 16.3459671}, {'lat': 48.1732452, 'lon': 16.3581288}, {'lat': 48.1803174, 'lon': 16.3583808}, {'lat': 48.2155824, 'lon': 16.3561219}, {'lat': 48.2181142, 'lon': 16.3313876}, {'lat': 48.2214665, 'lon': 16.3430363}, {'lat': 48.2215964, 'lon': 16.3538846}, {'lat': 48.2177786, 'lon': 16.4049308}, {'lat': 48.2197676, 'lon': 16.3930785}, {'lat': 48.2184638, 'lon': 16.3941852}, {'lat': 48.1894027, 'lon': 16.29582}, {'lat': 48.1875762, 'lon': 16.3045807}, {'lat': 48.1849187, 'lon': 16.3350467}, {'lat': 48.192234, 'lon': 16.2761736}, {'lat': 48.1860172, 'lon': 16.3190474}, {'lat': 48.1910668, 'lon': 16.2863684}, {'lat': 48.202946, 'lon': 16.3798184}, {'lat': 48.1966328, 'lon': 16.358092}, {'lat': 48.1884883, 'lon': 16.3430303}, {'lat': 48.1921577, 'lon': 16.3543028}, {'lat': 48.22771, 'lon': 16.364119}, {'lat': 48.2223375, 'lon': 16.3675722}, {'lat': 48.2067908, 'lon': 16.3847802}, {'lat': 48.2173875, 'lon': 16.3723981}, {'lat': 48.2117248, 'lon': 16.3785895}, {'lat': 48.2562384, 'lon': 16.4004908}, {'lat': 48.1505196, 'lon': 16.3168475}, {'lat': 48.1606776, 'lon': 16.3242066}, {'lat': 48.1419866, 'lon': 16.3165351}, {'lat': 48.1366232, 'lon': 16.3132527}, {'lat': 48.1649777, 'lon': 16.3277927}, {'lat': 48.1807684, 'lon': 16.331145}, {'lat': 48.186692, 'lon': 16.3545222}, {'lat': 48.2104985, 'lon': 16.4204937}, {'lat': 48.2063838, 'lon': 16.431461}, {'lat': 48.2146912, 'lon': 16.4137446}, {'lat': 48.222586, 'lon': 16.4749418}, {'lat': 48.2194301, 'lon': 16.4666399}, {'lat': 48.2208849, 'lon': 16.4578116}, {'lat': 48.2197733, 'lon': 16.449558}, {'lat': 48.2117999, 'lon': 16.440166}, {'lat': 48.2192624, 'lon': 16.3815518}, {'lat': 48.2102064, 'lon': 16.3554084}, {'lat': 48.205275, 'lon': 16.3578591}, {'lat': 48.2026346, 'lon': 16.3612866}, {'lat': 48.2634265, 'lon': 16.4516287}, {'lat': 48.2576086, 'lon': 16.4496328}, {'lat': 48.2502254, 'lon': 16.4432539}, {'lat': 48.2430028, 'lon': 16.4329191}, {'lat': 48.2382709, 'lon': 16.4247729}, {'lat': 48.1958783, 'lon': 16.3379226}, {'lat': 48.1976875, 'lon': 16.3286297}, {'lat': 48.1976006, 'lon': 16.3205667}, {'lat': 48.2000837, 'lon': 16.3110744}, {'lat': 48.2045707, 'lon': 16.3091223}, {'lat': 48.1793553, 'lon': 16.3761188}, {'lat': 48.174919, 'lon': 16.377918}, {'lat': 48.232829, 'lon': 16.4164115}, {'lat': 48.2292159, 'lon': 16.4113918}, {'lat': 48.2236328, 'lon': 16.4010572}, {'lat': 48.2153104, 'lon': 16.3855453}, {'lat': 48.2110317, 'lon': 16.3113574}, {'lat': 48.1907374, 'lon': 16.3375442}, {'lat': 48.1968048, 'lon': 16.3391963}, {'lat': 48.2033124, 'lon': 16.3371994}, {'lat': 48.2462997, 'lon': 16.3947025}, {'lat': 48.235224, 'lon': 16.3687097}, {'lat': 48.2373082, 'lon': 16.3802291}, {'lat': 48.2167675, 'lon': 16.3418121}, {'lat': 48.2114659, 'lon': 16.3391653}, {'lat': 48.2211652, 'lon': 16.3441586}, {'lat': 48.2313384, 'lon': 16.3524653}, {'lat': 48.2078001, 'lon': 16.3380073}, {'lat': 48.2256269, 'lon': 16.349517}, {'lat': 48.2150481, 'lon': 16.3629278}, {'lat': 48.1914136, 'lon': 16.4141569}, {'lat': 48.209398, 'lon': 16.3656353}, {'lat': 48.2069483, 'lon': 16.3792758}, {'lat': 48.1993161, 'lon': 16.3526723}, {'lat': 48.197145, 'lon': 16.3462979}, {'lat': 48.2016073, 'lon': 16.3691588}, {'lat': 48.2009786, 'lon': 16.3693116}, {'lat': 48.2165452, 'lon': 16.3719681}, {'lat': 48.2056573, 'lon': 16.3591523}, {'lat': 48.2117909, 'lon': 16.3776525}, {'lat': 48.208419, 'lon': 16.3720045}, {'lat': 48.2228108, 'lon': 16.3176704}]}\n"
          ]
        }
      ],
      "source": [
        "# Print the stations in each city\n",
        "print(all_transport)"
      ]
    },
    {
      "cell_type": "code",
      "execution_count": 90,
      "metadata": {
        "id": "8RWXDQCdduU2"
      },
      "outputs": [],
      "source": [
        "# Compute the harvesine distance between two points\n",
        "# Source: https://stackoverflow.com/questions/29545704/fast-haversine-approximation-python-pandas\n",
        "\n",
        "def haversine(lon1, lat1, lon2, lat2):\n",
        "    lon1, lat1, lon2, lat2 = map(radians, [lon1, lat1, lon2, lat2])\n",
        "    dlon = lon2 - lon1 \n",
        "    dlat = lat2 - lat1 \n",
        "    a = sin(dlat/2)**2 + cos(lat1) * cos(lat2) * sin(dlon/2)**2\n",
        "    c = 2 * arcsin(sqrt(a)) \n",
        "    km = 6367 * c\n",
        "    return float(km)\n",
        "  \n",
        "udf_haversine = udf(haversine)"
      ]
    },
    {
      "cell_type": "code",
      "execution_count": 91,
      "metadata": {
        "id": "S1cWQTwA-6RS"
      },
      "outputs": [],
      "source": [
        "# Compute the smallest distance between a city and an accommodation\n",
        "def get_smallest_transport_dist(city, latitude, longitude):\n",
        "  min_distance = None\n",
        "  for coordinates in all_transport[city]:\n",
        "    if isinstance(coordinates['lon'], list) or isinstance(coordinates['lat'], list): return False\n",
        "    if isinstance(latitude, list) or isinstance(longitude, list): return False\n",
        "    dist = haversine(longitude, latitude, coordinates['lon'], coordinates['lat'])\n",
        "    if min_distance == None or dist < min_distance: min_distance = dist\n",
        "  return min_distance\n",
        "\n",
        "udf_get_smallest_transport_dist = udf(get_smallest_transport_dist)"
      ]
    },
    {
      "cell_type": "code",
      "execution_count": 92,
      "metadata": {
        "id": "4-rc2vH08RnK"
      },
      "outputs": [],
      "source": [
        "# Compute all the distances between a station and an Airbnb\n",
        "airbnb_df = airbnb_df.withColumn('station_dist', udf_get_smallest_transport_dist('city', 'latitude', 'longitude'))"
      ]
    },
    {
      "cell_type": "code",
      "execution_count": 93,
      "metadata": {
        "colab": {
          "base_uri": "https://localhost:8080/"
        },
        "id": "I7zfhbqsN7GE",
        "outputId": "ff6ab998-8d6b-414c-ebba-25a11b4b9e12"
      },
      "outputs": [
        {
          "name": "stdout",
          "output_type": "stream",
          "text": [
            "+---+---------+-------------------+\n",
            "| id|     city|       station_dist|\n",
            "+---+---------+-------------------+\n",
            "| 19|Barcelona|0.05352743051851577|\n",
            "|  0|Barcelona| 0.3236583626089753|\n",
            "| 22|Barcelona|0.29048368210771025|\n",
            "|  7|Barcelona| 0.2224360853927638|\n",
            "|  6|Barcelona| 0.2726677092891985|\n",
            "|  9|Barcelona|0.20649558636693452|\n",
            "| 17|Barcelona| 0.2094955139613898|\n",
            "|  5|Barcelona|  0.513557906745947|\n",
            "|  1|Barcelona| 0.4819160257337126|\n",
            "| 10|Barcelona| 0.2335621330135351|\n",
            "|  3|Barcelona|0.10307501865020975|\n",
            "| 12|Barcelona|0.22806826459859553|\n",
            "|  8|Barcelona|0.37177685011332634|\n",
            "| 11|Barcelona|0.28692741693538876|\n",
            "|  2|Barcelona| 0.3782510221722197|\n",
            "| 18|Barcelona| 0.5183166745596545|\n",
            "| 14|Barcelona|0.28894351294817616|\n",
            "| 21|Barcelona| 0.3411357377641502|\n",
            "| 15|Barcelona|0.33100230416503684|\n",
            "| 20|Barcelona| 0.2615426882657896|\n",
            "+---+---------+-------------------+\n",
            "only showing top 20 rows\n",
            "\n"
          ]
        }
      ],
      "source": [
        "# Print the result\n",
        "airbnb_df.select('id', 'city', 'station_dist').show()"
      ]
    },
    {
      "attachments": {},
      "cell_type": "markdown",
      "metadata": {
        "id": "txPZpHqJe_eV"
      },
      "source": [
        "\n",
        "\n",
        "---\n",
        "\n"
      ]
    },
    {
      "cell_type": "code",
      "execution_count": 94,
      "metadata": {
        "id": "YxsWIPE0fG2C"
      },
      "outputs": [],
      "source": [
        "# Define the transport coordinates dataset folder name in GDrive\n",
        "cd_city_center = GDRIVE_DATA_DIR + '/Utils/Coordinates/CityCenter'"
      ]
    },
    {
      "cell_type": "code",
      "execution_count": 95,
      "metadata": {
        "id": "CCpYm7ILfsTV"
      },
      "outputs": [],
      "source": [
        "# Upload the city center coordinates\n",
        "all_city_centers = {}\n",
        "\n",
        "with open(cd_city_center+ '/city_center_coordinates.json', 'r') as file:\n",
        "    all_city_centers = json.loads(file.read())"
      ]
    },
    {
      "cell_type": "code",
      "execution_count": 96,
      "metadata": {
        "colab": {
          "base_uri": "https://localhost:8080/"
        },
        "id": "hK1HBfSjfG2F",
        "outputId": "5cf3fcc0-9d43-4aee-d00e-30ae74685c1e"
      },
      "outputs": [
        {
          "name": "stdout",
          "output_type": "stream",
          "text": [
            "{'Amsterdam': {'lat': 52.37403, 'lon': 4.88969}, 'Lisboa': {'lat': 38.712414, 'lon': -9.138796}, 'Athens': {'lat': 37.98376, 'lon': 23.72784}, 'Brussels': {'lat': 50.84736, 'lon': 4.351756}, 'Berlin': {'lat': 52.51831, 'lon': 13.401192}, 'Rome': {'lat': 41.902226, 'lon': 12.479945}, 'Dublin': {'lat': 53.343264, 'lon': -6.271776}, 'Vienna': {'lat': 48.208339, 'lon': 16.371948}, 'Madrid': {'lat': 40.4165, 'lon': -3.70256}, 'London': {'lat': 51.50853, 'lon': -0.12574}, 'Paris': {'lat': 48.85341, 'lon': 2.3488}, 'Munich': {'lat': 48.13743, 'lon': 11.57549}, 'Milan': {'lat': 45.46427, 'lon': 9.18951}, 'Lyon': {'lat': 45.763372, 'lon': 4.834409}, 'Barcelona': {'lat': 41.387649, 'lon': 2.169269}}\n"
          ]
        }
      ],
      "source": [
        "# Print city center coordinates\n",
        "print(all_city_centers)"
      ]
    },
    {
      "cell_type": "code",
      "execution_count": 97,
      "metadata": {
        "id": "Qeaq1U8JYvqe"
      },
      "outputs": [],
      "source": [
        "# Define the function to compute the distance between an accommodation in a certain city and the city center\n",
        "def get_smallest_city_center_dist(city, latitude, longitude):\n",
        "  city_center = all_city_centers[city]\n",
        "  return haversine(longitude, latitude, city_center['lon'], city_center['lat'])\n",
        "\n",
        "udf_get_smallest_city_center_dist = udf(get_smallest_city_center_dist)"
      ]
    },
    {
      "cell_type": "code",
      "execution_count": 98,
      "metadata": {
        "id": "8fDU2SG3ZRCN"
      },
      "outputs": [],
      "source": [
        "# Compute all the distances between a station and an Airbnb\n",
        "airbnb_df = airbnb_df.withColumn('city_center_dist', udf_get_smallest_city_center_dist('city', 'latitude', 'longitude'))"
      ]
    },
    {
      "cell_type": "code",
      "execution_count": 99,
      "metadata": {
        "colab": {
          "base_uri": "https://localhost:8080/"
        },
        "id": "CbtxWT6e04ID",
        "outputId": "dd5370af-2747-4b87-b46a-944ab6072a94"
      },
      "outputs": [
        {
          "name": "stdout",
          "output_type": "stream",
          "text": [
            "+---+---------+------------------+\n",
            "| id|     city|  city_center_dist|\n",
            "+---+---------+------------------+\n",
            "| 19|Barcelona|1.5476858178963662|\n",
            "|  0|Barcelona|2.6390717013664915|\n",
            "| 22|Barcelona| 0.594702301719104|\n",
            "|  7|Barcelona|0.3708017748393372|\n",
            "|  6|Barcelona| 0.916204434422749|\n",
            "|  9|Barcelona| 3.785549662906064|\n",
            "| 17|Barcelona|3.8032166584112055|\n",
            "|  5|Barcelona| 2.842962749739881|\n",
            "|  1|Barcelona| 5.806555327337496|\n",
            "| 10|Barcelona| 2.413073800842264|\n",
            "|  3|Barcelona|0.3195391252561322|\n",
            "| 12|Barcelona|1.8394439909894282|\n",
            "|  8|Barcelona|2.6850358411618207|\n",
            "| 11|Barcelona| 2.536599657908172|\n",
            "|  2|Barcelona| 1.820609642911876|\n",
            "| 18|Barcelona|2.1723009263355166|\n",
            "| 14|Barcelona|1.6333158629411662|\n",
            "| 21|Barcelona|0.9055668609117927|\n",
            "| 15|Barcelona|  3.42971601917053|\n",
            "| 20|Barcelona|1.7036039523388231|\n",
            "+---+---------+------------------+\n",
            "only showing top 20 rows\n",
            "\n"
          ]
        }
      ],
      "source": [
        "# Print the result\n",
        "airbnb_df.select('id', 'city', 'city_center_dist').show()"
      ]
    },
    {
      "attachments": {},
      "cell_type": "markdown",
      "metadata": {
        "id": "aCOMAWBIte3f"
      },
      "source": [
        "\n",
        "\n",
        "---\n",
        "\n"
      ]
    },
    {
      "cell_type": "code",
      "execution_count": 100,
      "metadata": {
        "id": "FSd0gew5unnf"
      },
      "outputs": [],
      "source": [
        "# Define the point of interest coordinates dataset folder name in GDrive\n",
        "cd_poi = GDRIVE_DATA_DIR + '/Utils/Coordinates/POI/'"
      ]
    },
    {
      "cell_type": "code",
      "execution_count": 101,
      "metadata": {
        "id": "U3PYKHROunng"
      },
      "outputs": [],
      "source": [
        "# Upload the POI coordinates\n",
        "all_poi = {}\n",
        "\n",
        "with open(cd_poi + 'poi_coordinates.json', 'r') as file:\n",
        "    all_poi = json.loads(file.read())"
      ]
    },
    {
      "cell_type": "code",
      "execution_count": 102,
      "metadata": {
        "colab": {
          "base_uri": "https://localhost:8080/"
        },
        "id": "ayzc6NT3unng",
        "outputId": "f5ec44da-9b7b-4979-e74c-dd593feb63c1"
      },
      "outputs": [
        {
          "name": "stdout",
          "output_type": "stream",
          "text": [
            "{'Barcelona': [{'name': 'Sagrada Familia', 'lat': 41.49349, 'lon': 2.17434}, {'name': 'Casa Batllo', 'lat': 41.39171, 'lon': 2.16497}, {'name': 'Catedral De Barcelona', 'lat': 41.38396, 'lon': 2.17623}], 'Lyon': [{'name': 'Basilique Notre-Dame De Fourvière', 'lat': 45.76239, 'lon': 4.82191}, {'name': 'Bartholdi Fountain', 'lat': 45.76763, 'lon': 4.83346}, {'name': 'Place Bellecour', 'lat': 45.75777, 'lon': 4.83208}], 'Milan': [{'name': 'Milan Cathedral', 'lat': 45.46411, 'lon': 9.19186}, {'name': 'Teatro alla Scala', 'lat': 45.4674, 'lon': 9.18953}, {'name': 'Castello Sforzesco', 'lat': 45.47039, 'lon': 9.17946}], 'Munich': [{'name': 'Schloss Nymphenburg', 'lat': 48.1584, 'lon': 11.5034}, {'name': 'St. Peter', 'lat': 48.13647, 'lon': 11.57595}, {'name': 'Residenz München', 'lat': 48.14168, 'lon': 11.57972}], 'Amsterdam': [{'name': 'Koninklijk Paleis Amsterdam', 'lat': 52.37282, 'lon': 4.89146}, {'name': 'De Oude Kerk', 'lat': 52.37441, 'lon': 4.8981}], 'Athens': [{'name': 'Parthenon', 'lat': 37.97152, 'lon': 23.72671}, {'name': 'Benaki Museum', 'lat': 37.97692, 'lon': 23.74037}], 'Berlin': [{'name': 'Brandenburg Gate', 'lat': 52.51627, 'lon': 13.37772}, {'name': 'Museum Island', 'lat': 52.51611, 'lon': 13.39639}, {'name': 'Berlin Wall Memorial', 'lat': 52.53545, 'lon': 13.38851}], 'Brussels': [{'name': 'Atomium', 'lat': 50.8947, 'lon': 4.3416}, {'name': 'Grand Place', 'lat': 50.8467, 'lon': 4.3525}, {'name': 'Manneken Pis', 'lat': 50.8444, 'lon': 4.3509}], 'Dublin': [{'name': 'Guinness Storehouse', 'lat': 53.3417, 'lon': -6.2869}, {'name': 'Trinity College Dublin', 'lat': 53.3441, 'lon': -6.2578}, {'name': 'Temple Bar', 'lat': 53.3452, 'lon': -6.2659}], 'Lisboa': [{'name': 'Belém Tower', 'lat': 38.6916, 'lon': -9.2159}, {'name': 'Alfama District', 'lat': 38.711, 'lon': -9.1291}, {'name': 'São Jorge Castle', 'lat': 38.7122, 'lon': -9.1333}], 'London': [{'name': 'Buckingham Palace', 'lat': 51.5014, 'lon': -0.1419}, {'name': 'Tower Bridge', 'lat': 51.5055, 'lon': -0.0754}, {'name': 'British Museum', 'lat': 51.5194, 'lon': -0.1269}], 'Madrid': [{'name': 'Prado Museum', 'lat': 40.4138, 'lon': -3.6922}, {'name': 'Royal Palace of Madrid', 'lat': 40.417, 'lon': -3.7144}, {'name': 'Retiro Park', 'lat': 40.4155, 'lon': -3.6842}], 'Paris': [{'name': 'Eiffel Tower', 'lat': 48.8584, 'lon': 2.2945}, {'name': 'Louvre Museum', 'lat': 48.8606, 'lon': 2.3376}, {'name': 'Notre-Dame Cathedral', 'lat': 48.853, 'lon': 2.3499}], 'Rome': [{'name': 'Colosseum', 'lat': 41.8902, 'lon': 12.4922}, {'name': 'Vatican City', 'lat': 41.9029, 'lon': 12.4534}, {'name': 'Trevi Fountain', 'lat': 41.9009, 'lon': 12.4833}], 'Vienna': [{'name': 'Schönbrunn Palace', 'lat': 48.1847, 'lon': 16.3122}, {'name': \"St. Stephen's Cathedral\", 'lat': 48.2083, 'lon': 16.3731}, {'name': 'Belvedere Palace', 'lat': 48.1859, 'lon': 16.3809}]}\n"
          ]
        }
      ],
      "source": [
        "# Print POI coordinates\n",
        "print(all_poi)"
      ]
    },
    {
      "cell_type": "code",
      "execution_count": 103,
      "metadata": {
        "id": "5hbHrjqPunnh"
      },
      "outputs": [],
      "source": [
        "# # Define the function to compute the distance between an accommodation in a certain city and a POI in the same city\n",
        "def get_smallest_poi_dist(city, latitude, longitude):\n",
        "  min_distance = None\n",
        "  for coordinates in all_poi[city]:\n",
        "    dist = haversine(longitude, latitude, coordinates['lon'], coordinates['lat'])\n",
        "    if min_distance == None or dist < min_distance: min_distance = dist\n",
        "  return min_distance\n",
        "\n",
        "udf_get_smallest_poi_dist = udf(get_smallest_poi_dist)"
      ]
    },
    {
      "cell_type": "code",
      "execution_count": 104,
      "metadata": {
        "id": "kFUmhIRmunnh"
      },
      "outputs": [],
      "source": [
        "# Compute all the distances between a point of interest and an Airbnb\n",
        "airbnb_df = airbnb_df.withColumn('poi_dist', udf_get_smallest_poi_dist('city', 'latitude', 'longitude'))"
      ]
    },
    {
      "cell_type": "code",
      "execution_count": 105,
      "metadata": {
        "colab": {
          "base_uri": "https://localhost:8080/"
        },
        "id": "B2M8bE8punni",
        "outputId": "08714ecc-4ad8-4913-d0e1-b95fb62ddfe1"
      },
      "outputs": [
        {
          "name": "stdout",
          "output_type": "stream",
          "text": [
            "+---+---------+-------------------+\n",
            "| id|     city|           poi_dist|\n",
            "+---+---------+-------------------+\n",
            "| 19|Barcelona|  1.593701279455893|\n",
            "|  0|Barcelona| 2.7115204745372035|\n",
            "| 22|Barcelona| 0.1505657737634547|\n",
            "|  7|Barcelona|0.49924385369762436|\n",
            "|  6|Barcelona| 0.9071521663811831|\n",
            "|  9|Barcelona| 3.5562674940971086|\n",
            "| 17|Barcelona|  3.576283570047511|\n",
            "|  5|Barcelona|  2.737758559124515|\n",
            "|  1|Barcelona| 5.4200450264447735|\n",
            "| 10|Barcelona|  1.836794561979547|\n",
            "|  3|Barcelona|  0.622088308415851|\n",
            "| 12|Barcelona| 1.6610042731103665|\n",
            "|  8|Barcelona| 2.4358057739007912|\n",
            "| 11|Barcelona| 2.1652610064584015|\n",
            "|  2|Barcelona| 1.9810562360975634|\n",
            "| 18|Barcelona| 1.7116053560103535|\n",
            "| 14|Barcelona| 1.2578511392834482|\n",
            "| 21|Barcelona|  0.652887512135255|\n",
            "| 15|Barcelona|  3.209110443165712|\n",
            "| 20|Barcelona| 0.9988772873261476|\n",
            "+---+---------+-------------------+\n",
            "only showing top 20 rows\n",
            "\n"
          ]
        }
      ],
      "source": [
        "# Print the result\n",
        "airbnb_df.select('id', 'city', 'poi_dist').show()"
      ]
    },
    {
      "attachments": {},
      "cell_type": "markdown",
      "metadata": {
        "id": "EwtrxGmKxkh0"
      },
      "source": [
        "\n",
        "\n",
        "---\n",
        "\n"
      ]
    },
    {
      "attachments": {},
      "cell_type": "markdown",
      "metadata": {
        "id": "XQGTGylivTh2"
      },
      "source": [
        "Now, let's finally trasform the cities into numerical values and drop some columns that we don't need anymore:"
      ]
    },
    {
      "cell_type": "code",
      "execution_count": 106,
      "metadata": {
        "colab": {
          "base_uri": "https://localhost:8080/"
        },
        "id": "Gq5uQr4IxdGv",
        "outputId": "75a48265-2f8f-473e-99c1-c9ec71093303"
      },
      "outputs": [
        {
          "name": "stdout",
          "output_type": "stream",
          "text": [
            "Index: 0, Label: London\n",
            "Index: 1, Label: Paris\n",
            "Index: 2, Label: Rome\n",
            "Index: 3, Label: Madrid\n",
            "Index: 4, Label: Milan\n",
            "Index: 5, Label: Barcelona\n",
            "Index: 6, Label: Lisboa\n",
            "Index: 7, Label: Vienna\n",
            "Index: 8, Label: Berlin\n",
            "Index: 9, Label: Athens\n",
            "Index: 10, Label: Lyon\n",
            "Index: 11, Label: Dublin\n",
            "Index: 12, Label: Amsterdam\n",
            "Index: 13, Label: Brussels\n",
            "Index: 14, Label: Munich\n"
          ]
        }
      ],
      "source": [
        "# Apply One Hot Encoder to turn string (categorical) values into numerical ones in \"city\"\n",
        "encoded_room_type = string_indexer(airbnb_df, 'city', 'city_enc')\n",
        "airbnb_df = column_substitution(encoded_room_type, 'city', 'city_enc', 'int')"
      ]
    },
    {
      "cell_type": "code",
      "execution_count": 107,
      "metadata": {
        "id": "Yb4npOwuCWsh"
      },
      "outputs": [],
      "source": [
        "# Finally remove the information about the neighbourhood, the latitude and longitude\n",
        "airbnb_df = airbnb_df.drop('neighbourhood', 'latitude', 'longitude')"
      ]
    },
    {
      "cell_type": "code",
      "execution_count": 108,
      "metadata": {
        "id": "9W6Czu5d4a61"
      },
      "outputs": [],
      "source": [
        "# Drop the id column since we don't need it anymore\n",
        "airbnb_df = airbnb_df.drop('id')"
      ]
    },
    {
      "cell_type": "code",
      "execution_count": 109,
      "metadata": {
        "colab": {
          "base_uri": "https://localhost:8080/"
        },
        "id": "xgAKFyygi7NN",
        "outputId": "34583cf1-20c6-42b1-9539-98d6cd349df7"
      },
      "outputs": [
        {
          "name": "stdout",
          "output_type": "stream",
          "text": [
            "+------------------+------------------+--------------------+-----------------+-------------------+-------------------------+--------------------+----------------------+----+-------------+---------+------------+--------+----+------------------+--------------+--------------+----------------------+----------------------+----------------------+----------------------+----------------------+----------------------+----------------+-------------------+-------------------+--------------------+-------------------+-----------------+---------------------+----------------------+--------------------+----------------------+-------------------------+---------------------+---------------------------+----------------------+-------------------+----------------+------------------------------+-------------------------------------------+--------------------------------------------+-------------------------------------------+-----------------+-----------------+----------------------+-----------+------------------+------------+---------------+--------------------+------------------+-----------+---------------------------+--------------------+-------------+------+--------------------------+----------------+--------------------+------------+---------------+----------------+----------------+-----------+---------+------------------+---------------------+-------------+-------------------+------------------+------------------+\n",
            "|host_response_time|host_response_rate|host_acceptance_rate|host_is_superhost|host_listings_count|host_total_listings_count|host_has_profile_pic|host_identity_verified|city|property_type|room_type|accommodates|bedrooms|beds|             price|minimum_nights|maximum_nights|minimum_minimum_nights|maximum_minimum_nights|minimum_maximum_nights|maximum_maximum_nights|minimum_nights_avg_ntm|maximum_nights_avg_ntm|has_availability|    availability_30|    availability_60|     availability_90|   availability_365|number_of_reviews|number_of_reviews_ltm|number_of_reviews_l30d|review_scores_rating|review_scores_accuracy|review_scores_cleanliness|review_scores_checkin|review_scores_communication|review_scores_location|review_scores_value|instant_bookable|calculated_host_listings_count|calculated_host_listings_count_entire_homes|calculated_host_listings_count_private_rooms|calculated_host_listings_count_shared_rooms|is_email_verified|is_phone_verified|is_work_email_verified|n_bathrooms|is_bathroom_shared|has_internet|is_pet_friendly|is_children_friendly|has_cooking_basics|has_laundry|has_heating_cooling_systems|has_security_devices|has_fireplace|has_tv|is_long_term_stays_allowed|has_self_checkin|has_private_entrance|has_elevator|host_greets_you|has_free_parking|has_paid_parking|has_bathtub|has_patio|is_smoking_allowed|has_city_skyline_view|has_breakfast|       station_dist|  city_center_dist|          poi_dist|\n",
            "+------------------+------------------+--------------------+-----------------+-------------------+-------------------------+--------------------+----------------------+----+-------------+---------+------------+--------+----+------------------+--------------+--------------+----------------------+----------------------+----------------------+----------------------+----------------------+----------------------+----------------+-------------------+-------------------+--------------------+-------------------+-----------------+---------------------+----------------------+--------------------+----------------------+-------------------------+---------------------+---------------------------+----------------------+-------------------+----------------+------------------------------+-------------------------------------------+--------------------------------------------+-------------------------------------------+-----------------+-----------------+----------------------+-----------+------------------+------------+---------------+--------------------+------------------+-----------+---------------------------+--------------------+-------------+------+--------------------------+----------------+--------------------+------------+---------------+----------------+----------------+-----------+---------+------------------+---------------------+-------------+-------------------+------------------+------------------+\n",
            "|                 0|              0.95|                 1.0|                0|                  2|                        4|                   0|                     0|   5|            1|        1|           3|       1|   1|43.870000000000005|             2|           365|                     2|                     2|                  1125|                  1125|                   2.0|                1125.0|               0| 0.7333333333333333| 0.8666666666666667|  0.9111111111111111| 0.9780821917808219|                5|                    5|                     0|                 4.2|                   3.6|                      3.8|                  4.4|                        4.6|                   4.6|                3.4|               1|                             2|                                          0|                                           2|                                          0|                1|                1|                     0|          1|                 1|           1|              0|                   0|                 1|          1|                          0|                   1|            0|     0|                         0|               0|                   0|           0|              0|               0|               0|          0|        0|                 0|                    0|            0|0.28286831222553477|2.2692910471531387|1.6951424461237874|\n",
            "|                 3|               0.6|                0.65|                0|                120|                      121|                   0|                     1|   5|            1|        1|           1|       1|   1|             31.03|            32|           365|                    32|                    32|                   365|                   365|                  32.0|                 365.0|               0| 0.9666666666666667| 0.9833333333333333|  0.9888888888888889| 0.9972602739726028|                0|                    0|                     0|  4.6266669924221775|    4.7391675990983355|        4.649320908690826|   4.7910640180051915|           4.79873166899073|      4.74708582267644|  4.601052072832084|               0|                           120|                                          0|                                         120|                                          0|                1|                1|                     0|          5|                 0|           1|              0|                   0|                 0|          1|                          0|                   0|            0|     0|                         0|               0|                   0|           0|              0|               0|               0|          0|        0|                 0|                    0|            0|0.08698786485902868| 2.583241274450646|2.0074343427467847|\n",
            "|                 0|               1.0|                 1.0|                0|                 29|                       29|                   0|                     0|   5|            0|        0|           8|       4|   7|             235.4|             4|            31|                     2|                     4|                    31|                    31|                   3.7|                  31.0|               0|                0.4| 0.4166666666666667|  0.5222222222222223| 0.8356164383561644|               23|                   20|                     1|                3.91|                  4.09|                     3.87|                 4.39|                       4.48|                  4.57|               3.78|               1|                            29|                                         29|                                           0|                                          0|                1|                1|                     0|          2|                 0|           1|              0|                   0|                 1|          1|                          1|                   0|            1|     1|                         0|               0|                   1|           1|              0|               0|               0|          0|        1|                 0|                    0|            0|0.19345034793419166|1.5952013856380118|1.4267488831863415|\n",
            "|                 0|               1.0|                0.99|                0|                 54|                       67|                   0|                     0|   5|            0|        0|           4|       1|   3|             77.04|            32|          1125|                     1|                    32|                  1125|                  1125|                  25.5|                1125.0|               0|                0.0|                0.0|                 0.0| 0.5013698630136987|                0|                    0|                     0|  4.6266669924221775|    4.7391675990983355|        4.649320908690826|   4.7910640180051915|           4.79873166899073|      4.74708582267644|  4.601052072832084|               1|                            54|                                         54|                                           0|                                          0|                1|                1|                     0|          1|                 0|           0|              0|                   0|                 1|          1|                          1|                   0|            0|     1|                         1|               0|                   0|           1|              1|               0|               0|          0|        1|                 0|                    0|            0| 0.0838285727445266|3.1402639057208206|2.5805338530324193|\n",
            "|                 0|               1.0|                0.98|                0|                  1|                        2|                   0|                     0|   5|            0|        0|           4|       1|   2|175.48000000000002|             4|          1125|                     2|                     4|                  1125|                  1125|                   4.0|                1125.0|               0| 0.6333333333333333|               0.75|                 0.6|0.14794520547945206|              126|                   23|                     3|                4.85|                   4.9|                     4.83|                 4.91|                       4.92|                   4.8|               4.64|               0|                             1|                                          1|                                           0|                                          0|                1|                1|                     0|          1|                 0|           1|              0|                   0|                 1|          1|                          1|                   1|            0|     1|                         1|               0|                   0|           1|              1|               0|               1|          0|        1|                 1|                    0|            0| 0.4316695003428481|1.3664310094824519| 1.304220503412274|\n",
            "|                 0|               1.0|                 1.0|                0|                 17|                       42|                   0|                     0|   5|            0|        0|           4|       1|   2|            129.47|             2|           365|                     2|                     2|                   365|                   365|                   2.0|                 365.0|               0| 0.6666666666666666| 0.7166666666666667|  0.7888888888888889|0.19452054794520549|                0|                    0|                     0|  4.6266669924221775|    4.7391675990983355|        4.649320908690826|   4.7910640180051915|           4.79873166899073|      4.74708582267644|  4.601052072832084|               1|                            16|                                         16|                                           0|                                          0|                1|                1|                     0|          1|                 0|           1|              0|                   0|                 1|          1|                          1|                   1|            1|     1|                         0|               0|                   1|           1|              0|               0|               0|          0|        1|                 0|                    0|            0| 0.4830769560139218| 1.550074485354467|1.4301915982695328|\n",
            "|                 3|              0.72|                0.42|                0|                 45|                       48|                   0|                     0|   5|            0|        0|           2|       1|   2|             107.0|            32|           180|                    18|                    32|                   180|                   180|                  31.2|                 180.0|               0|                0.0|                0.0| 0.14444444444444443| 0.5068493150684932|                1|                    1|                     0|                 5.0|                   5.0|                      5.0|                  5.0|                        5.0|                   5.0|                5.0|               0|                            28|                                         28|                                           0|                                          0|                1|                1|                     0|          1|                 0|           1|              0|                   0|                 1|          1|                          1|                   0|            0|     1|                         1|               0|                   0|           0|              1|               0|               1|          0|        0|                 0|                    0|            0|  0.085113515574723|1.1220318840032533|1.2242057093938294|\n",
            "|                 0|               1.0|                0.94|                0|                  3|                        3|                   0|                     0|   5|            0|        0|           2|       1|   1|              32.1|            30|           360|                    30|                    30|                   360|                   360|                  30.0|                 360.0|               0| 0.5333333333333333|0.26666666666666666|  0.3111111111111111| 0.8301369863013699|                4|                    1|                     0|                3.67|                  3.33|                     3.67|                 3.67|                       3.67|                  3.67|               3.67|               0|                             3|                                          3|                                           0|                                          0|                1|                1|                     0|          1|                 0|           1|              0|                   1|                 1|          1|                          1|                   1|            1|     0|                         1|               0|                   1|           0|              0|               0|               1|          0|        1|                 0|                    0|            0| 0.7799132865273798|3.6052651321091354|3.0852532431490376|\n",
            "|                 2|              0.88|                0.76|                0|                  5|                        8|                   0|                     1|   5|            2|        3|          14|       1|  14|             26.75|             1|          1125|                     1|                     1|                  1125|                  1125|                   1.0|                1125.0|               0| 0.5333333333333333| 0.6666666666666666|  0.7222222222222222| 0.9315068493150684|                0|                    0|                     0|  4.6266669924221775|    4.7391675990983355|        4.649320908690826|   4.7910640180051915|           4.79873166899073|      4.74708582267644|  4.601052072832084|               0|                             5|                                          0|                                           0|                                          5|                0|                1|                     0|         13|                 1|           0|              0|                   0|                 1|          0|                          1|                   1|            0|     1|                         0|               1|                   0|           0|              0|               0|               0|          0|        1|                 0|                    0|            0|0.26638286913080467|1.8497310856143516| 1.892493027630569|\n",
            "|                 2|              0.78|                0.73|                0|                 10|                       18|                   0|                     0|   5|            0|        0|           6|       3|   4|227.91000000000003|             2|          1125|                     1|                     5|                  1125|                  1125|                   2.8|                1125.0|               0|                0.3|0.38333333333333336|  0.4888888888888889| 0.4986301369863014|                6|                    6|                     1|                 5.0|                   5.0|                      5.0|                  5.0|                        5.0|                   5.0|                4.5|               0|                            10|                                         10|                                           0|                                          0|                1|                1|                     0|          2|                 0|           1|              0|                   0|                 0|          1|                          1|                   0|            0|     1|                         0|               0|                   0|           1|              0|               0|               1|          1|        0|                 0|                    0|            0|0.24798114389783923|1.4784800545926766|1.6452389654782444|\n",
            "|                 2|               1.0|                0.88|                0|                  1|                        1|                   0|                     0|   5|            3|        0|          12|       5|   9|            634.51|             1|          1125|                     1|                     3|                  1125|                  1125|                   1.3|                1125.0|               0| 0.5333333333333333|0.31666666666666665| 0.24444444444444444| 0.4410958904109589|                7|                    5|                     0|                 5.0|                   5.0|                     4.83|                  5.0|                       4.83|                  4.67|               4.67|               0|                             1|                                          1|                                           0|                                          0|                1|                1|                     1|          4|                 0|           1|              1|                   0|                 1|          1|                          1|                   1|            0|     0|                         0|               0|                   0|           0|              1|               1|               1|          0|        1|                 1|                    1|            0| 0.7145635382959211|2.6831521534181335|2.0915085839470153|\n",
            "|                 0|               1.0|                 1.0|                0|                392|                      399|                   0|                     0|   5|            0|        0|           5|       3|   4|            143.38|            31|           365|                    31|                    31|                   365|                   365|                  31.0|                 365.0|               0|                0.0|                0.0|  0.3111111111111111| 0.7342465753424657|                0|                    0|                     0|  4.6266669924221775|    4.7391675990983355|        4.649320908690826|   4.7910640180051915|           4.79873166899073|      4.74708582267644|  4.601052072832084|               1|                           241|                                        241|                                           0|                                          0|                0|                1|                     1|          2|                 0|           1|              1|                   0|                 1|          1|                          1|                   1|            1|     1|                         1|               0|                   1|           1|              0|               0|               0|          0|        0|                 0|                    0|            0| 0.2130990679799276|1.1212873761581774|1.0156592701527964|\n",
            "|                 0|               1.0|                 1.0|                0|                 23|                       24|                   0|                     0|   5|            0|        0|           5|       4|   4|              74.9|            31|           365|                    31|                    31|                   365|                   365|                  31.0|                 365.0|               0|                0.2|                0.6|  0.7333333333333333| 0.9342465753424658|                1|                    1|                     0|                 4.0|                   4.0|                      4.0|                  4.0|                        5.0|                   4.0|                4.0|               1|                            22|                                         22|                                           0|                                          0|                1|                1|                     0|          2|                 0|           1|              1|                   0|                 1|          1|                          1|                   1|            0|     1|                         0|               0|                   0|           0|              0|               0|               0|          0|        0|                 1|                    0|            0|0.30069805066532285|3.9207819011994927|3.8013531655527153|\n",
            "|                 0|               1.0|                 1.0|                0|                  7|                        7|                   0|                     0|   5|            0|        0|           4|       2|   3|             69.55|             1|           365|                    32|                    32|                   330|                   330|                  32.0|                 330.0|               0|                0.9|               0.95|  0.7333333333333333| 0.5178082191780822|                1|                    1|                     0|                 4.0|                   3.0|                      3.0|                  5.0|                        5.0|                   5.0|                5.0|               1|                             7|                                          7|                                           0|                                          0|                1|                1|                     0|          1|                 0|           1|              0|                   0|                 1|          1|                          1|                   1|            0|     1|                         0|               0|                   1|           1|              0|               0|               0|          0|        0|                 0|                    0|            0|0.27084835913454464|1.2231571320783219|1.1737166306686966|\n",
            "|                 0|               1.0|                0.97|                0|                125|                      134|                   0|                     0|   5|            0|        0|           4|       2|   3|            169.06|            33|          1125|                     1|                    33|                  1125|                  1125|                  26.3|                1125.0|               0| 0.6666666666666666| 0.8333333333333334|  0.8888888888888888| 0.4410958904109589|                1|                    1|                     0|                 5.0|                   5.0|                      4.0|                  5.0|                        4.0|                   5.0|                4.0|               0|                           113|                                        113|                                           0|                                          0|                1|                1|                     1|          2|                 0|           1|              1|                   1|                 1|          1|                          1|                   0|            0|     1|                         1|               1|                   1|           1|              0|               0|               0|          1|        1|                 1|                    0|            0| 0.4182521192336183| 4.099804139069827|3.8384945991954846|\n",
            "|                 0|               1.0|                0.97|                0|                125|                      134|                   0|                     0|   5|            0|        0|           8|       4|   7|            294.25|             2|          1125|                     1|                     3|                  1125|                  1125|                   2.0|                1125.0|               0|                0.0|                0.0|0.011111111111111112| 0.4684931506849315|                5|                    0|                     0|                 3.6|                   3.6|                      4.0|                  4.8|                        5.0|                   4.0|                4.0|               0|                           113|                                        113|                                           0|                                          0|                1|                1|                     1|          2|                 0|           1|              1|                   1|                 1|          1|                          1|                   0|            0|     1|                         1|               1|                   0|           0|              0|               0|               0|          0|        1|                 0|                    0|            0| 0.5628415007506348|  3.73533462396185|3.5279196035482157|\n",
            "|                 0|               1.0|                 1.0|                1|                  4|                        5|                   0|                     0|   5|            0|        0|           6|       3|   3|            158.36|             1|          1125|                     1|                     1|                  1125|                  1125|                   1.0|                1125.0|               0|0.13333333333333333| 0.3333333333333333| 0.34444444444444444|0.28493150684931506|              112|                   81|                     3|                4.87|                  4.88|                     4.91|                  4.9|                       4.93|                  4.93|               4.77|               0|                             3|                                          3|                                           0|                                          0|                1|                1|                     0|          1|                 0|           1|              1|                   1|                 1|          1|                          1|                   0|            1|     0|                         0|               1|                   0|           0|              0|               1|               0|          0|        1|                 0|                    0|            0|   0.41865549721472|1.4632906686363234|1.2289166464573433|\n",
            "|                 1|              0.95|                0.86|                0|                  1|                        1|                   0|                     1|   5|            1|        1|           2|       1|   1|              32.1|             2|          1125|                     2|                     2|                  1125|                  1125|                   2.0|                1125.0|               0|                0.0|                0.0|                 0.0|                0.0|                1|                    0|                     0|                 5.0|                   5.0|                      5.0|                  5.0|                        5.0|                   5.0|                5.0|               0|                             1|                                          0|                                           1|                                          0|                1|                1|                     0|          1|                 1|           1|              0|                   0|                 1|          1|                          1|                   0|            0|     0|                         0|               0|                   0|           1|              0|               0|               0|          0|        0|                 0|                    0|            0| 0.0598744620297679| 2.565063353598859|2.5563866864127496|\n",
            "|                 0|               1.0|                 1.0|                0|                  5|                        5|                   0|                     0|   5|            1|        1|           2|       1|   2|            142.31|             1|           365|                     1|                     3|                     7|                   365|                   1.1|                  81.5|               0| 0.8333333333333334|                0.9|  0.9333333333333333| 0.7890410958904109|               12|                    9|                     3|                4.75|                   4.5|                     4.75|                 4.83|                        5.0|                   5.0|               4.67|               1|                             5|                                          0|                                           5|                                          0|                1|                1|                     0|          1|                 1|           1|              0|                   0|                 0|          1|                          1|                   1|            0|     1|                         0|               1|                   0|           1|              0|               0|               0|          0|        0|                 0|                    0|            0|0.12058627546674025|0.7181666244531255|0.5743311249514134|\n",
            "|                 1|              0.95|                0.86|                0|                  1|                        1|                   0|                     1|   5|            1|        1|           3|       1|   2|             80.25|             2|          1125|                     2|                     2|                  1125|                  1125|                   2.0|                1125.0|               0|                0.0|                0.0|                 0.0|                0.0|                0|                    0|                     0|  4.6266669924221775|    4.7391675990983355|        4.649320908690826|   4.7910640180051915|           4.79873166899073|      4.74708582267644|  4.601052072832084|               1|                             1|                                          0|                                           1|                                          0|                1|                1|                     0|          1|                 1|           1|              0|                   0|                 1|          1|                          1|                   1|            0|     0|                         0|               0|                   0|           1|              0|               0|               0|          0|        0|                 0|                    0|            0|0.18141062194255997| 2.393410032941115| 2.199889044986645|\n",
            "+------------------+------------------+--------------------+-----------------+-------------------+-------------------------+--------------------+----------------------+----+-------------+---------+------------+--------+----+------------------+--------------+--------------+----------------------+----------------------+----------------------+----------------------+----------------------+----------------------+----------------+-------------------+-------------------+--------------------+-------------------+-----------------+---------------------+----------------------+--------------------+----------------------+-------------------------+---------------------+---------------------------+----------------------+-------------------+----------------+------------------------------+-------------------------------------------+--------------------------------------------+-------------------------------------------+-----------------+-----------------+----------------------+-----------+------------------+------------+---------------+--------------------+------------------+-----------+---------------------------+--------------------+-------------+------+--------------------------+----------------+--------------------+------------+---------------+----------------+----------------+-----------+---------+------------------+---------------------+-------------+-------------------+------------------+------------------+\n",
            "only showing top 20 rows\n",
            "\n"
          ]
        }
      ],
      "source": [
        "# Print the final result\n",
        "airbnb_df.show()"
      ]
    },
    {
      "cell_type": "code",
      "execution_count": null,
      "metadata": {
        "id": "Q7sns_0jCrcZ"
      },
      "outputs": [],
      "source": [
        "# Save the cleaned dataset\n",
        "airbnb_df.coalesce(1).write.mode('overwrite').csv(GDRIVE_DATA_DIR + '/cleaned_airbnb_df.csv', header=True)"
      ]
    }
  ],
  "metadata": {
    "colab": {
      "provenance": []
    },
    "gpuClass": "standard",
    "kernelspec": {
      "display_name": "Python 3",
      "name": "python3"
    },
    "language_info": {
      "name": "python"
    }
  },
  "nbformat": 4,
  "nbformat_minor": 0
}
